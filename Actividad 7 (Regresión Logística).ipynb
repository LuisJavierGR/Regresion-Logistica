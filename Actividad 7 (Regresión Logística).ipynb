{
 "cells": [
  {
   "cell_type": "markdown",
   "metadata": {
    "id": "b7BWlmlHt7Y0"
   },
   "source": [
    "# Actividad 7 (Regresión Logística)\n",
    "## Luis Javier González Romero - A01702728"
   ]
  },
  {
   "cell_type": "code",
   "execution_count": 578,
   "metadata": {
    "id": "2E2FQVfuttGl"
   },
   "outputs": [],
   "source": [
    "import pandas as pd\n",
    "import numpy as np\n",
    "import matplotlib.pyplot as plt\n",
    "import scipy.special as special\n",
    "from scipy.optimize import curve_fit\n",
    "import seaborn as sns\n",
    "from sklearn.metrics import r2_score\n",
    "from sklearn.model_selection import train_test_split\n",
    "from sklearn.preprocessing import StandardScaler"
   ]
  },
  {
   "cell_type": "code",
   "execution_count": 579,
   "metadata": {
    "colab": {
     "base_uri": "https://localhost:8080/",
     "height": 773
    },
    "id": "wYkUUq38uF3E",
    "outputId": "548ebcc8-edda-420f-e99e-8b9385f9388d"
   },
   "outputs": [
    {
     "name": "stderr",
     "output_type": "stream",
     "text": [
      "<ipython-input-579-b7f43e925989>:1: DtypeWarning: Columns (30) have mixed types. Specify dtype option on import or set low_memory=False.\n",
      "  df = pd.read_csv('cuentas_credicel.csv',encoding='latin')\n"
     ]
    },
    {
     "data": {
      "text/html": [
       "\n",
       "  <div id=\"df-69887192-cdce-48c8-88d3-a93d50df7ad0\" class=\"colab-df-container\">\n",
       "    <div>\n",
       "<style scoped>\n",
       "    .dataframe tbody tr th:only-of-type {\n",
       "        vertical-align: middle;\n",
       "    }\n",
       "\n",
       "    .dataframe tbody tr th {\n",
       "        vertical-align: top;\n",
       "    }\n",
       "\n",
       "    .dataframe thead th {\n",
       "        text-align: right;\n",
       "    }\n",
       "</style>\n",
       "<table border=\"1\" class=\"dataframe\">\n",
       "  <thead>\n",
       "    <tr style=\"text-align: right;\">\n",
       "      <th></th>\n",
       "      <th>folio</th>\n",
       "      <th>tag</th>\n",
       "      <th>folio_solicitud</th>\n",
       "      <th>fecha</th>\n",
       "      <th>marca</th>\n",
       "      <th>modelo</th>\n",
       "      <th>plazo</th>\n",
       "      <th>precio</th>\n",
       "      <th>enganche</th>\n",
       "      <th>descuento</th>\n",
       "      <th>...</th>\n",
       "      <th>porc_eng</th>\n",
       "      <th>limite_credito</th>\n",
       "      <th>semana_actual</th>\n",
       "      <th>cp_cliente</th>\n",
       "      <th>edad_cliente</th>\n",
       "      <th>cd_cliente</th>\n",
       "      <th>edo_cliente</th>\n",
       "      <th>cd_venta</th>\n",
       "      <th>edo_venta</th>\n",
       "      <th>curp</th>\n",
       "    </tr>\n",
       "  </thead>\n",
       "  <tbody>\n",
       "    <tr>\n",
       "      <th>0</th>\n",
       "      <td>3</td>\n",
       "      <td>HDNAWQ3A</td>\n",
       "      <td>30</td>\n",
       "      <td>12/11/21 19:00</td>\n",
       "      <td>ZTE</td>\n",
       "      <td>Blade A3 2020 RO B</td>\n",
       "      <td>26S</td>\n",
       "      <td>1949.0</td>\n",
       "      <td>780.0</td>\n",
       "      <td>0.0</td>\n",
       "      <td>...</td>\n",
       "      <td>40.02</td>\n",
       "      <td>5000</td>\n",
       "      <td>26</td>\n",
       "      <td>NaN</td>\n",
       "      <td>23.0</td>\n",
       "      <td>0</td>\n",
       "      <td>0</td>\n",
       "      <td>Tantoyuca</td>\n",
       "      <td>Veracruz</td>\n",
       "      <td>AEVM980413MVZNDR02</td>\n",
       "    </tr>\n",
       "    <tr>\n",
       "      <th>1</th>\n",
       "      <td>4</td>\n",
       "      <td>M418YNR4</td>\n",
       "      <td>33</td>\n",
       "      <td>12/11/21 19:15</td>\n",
       "      <td>MOTOROLA</td>\n",
       "      <td>LTE XT2097-12 E7I POWER Azul</td>\n",
       "      <td>13S</td>\n",
       "      <td>2999.0</td>\n",
       "      <td>1050.0</td>\n",
       "      <td>0.0</td>\n",
       "      <td>...</td>\n",
       "      <td>35.01</td>\n",
       "      <td>6000</td>\n",
       "      <td>13</td>\n",
       "      <td>NaN</td>\n",
       "      <td>60.0</td>\n",
       "      <td>PUEBLA</td>\n",
       "      <td>PUE.</td>\n",
       "      <td>Heroica Puebla de Zaragoza</td>\n",
       "      <td>Puebla</td>\n",
       "      <td>ZALC610119MPLPRR07</td>\n",
       "    </tr>\n",
       "    <tr>\n",
       "      <th>2</th>\n",
       "      <td>5</td>\n",
       "      <td>SZ7V3NZT</td>\n",
       "      <td>37</td>\n",
       "      <td>13/11/21 14:13</td>\n",
       "      <td>ZTE</td>\n",
       "      <td>BLADE A3 2020 Gris</td>\n",
       "      <td>13S</td>\n",
       "      <td>1959.0</td>\n",
       "      <td>490.0</td>\n",
       "      <td>0.0</td>\n",
       "      <td>...</td>\n",
       "      <td>25.01</td>\n",
       "      <td>0</td>\n",
       "      <td>74</td>\n",
       "      <td>NaN</td>\n",
       "      <td>58.0</td>\n",
       "      <td>TANTOYUCA</td>\n",
       "      <td>VER.</td>\n",
       "      <td>0</td>\n",
       "      <td>0</td>\n",
       "      <td>0</td>\n",
       "    </tr>\n",
       "    <tr>\n",
       "      <th>3</th>\n",
       "      <td>6</td>\n",
       "      <td>9I08UIQZ</td>\n",
       "      <td>38</td>\n",
       "      <td>13/11/21 15:45</td>\n",
       "      <td>ZTE</td>\n",
       "      <td>BLADE A3 2020 Gris</td>\n",
       "      <td>13S</td>\n",
       "      <td>1959.0</td>\n",
       "      <td>490.0</td>\n",
       "      <td>0.0</td>\n",
       "      <td>...</td>\n",
       "      <td>25.01</td>\n",
       "      <td>7000</td>\n",
       "      <td>13</td>\n",
       "      <td>NaN</td>\n",
       "      <td>42.0</td>\n",
       "      <td>AMXTLAN PUE</td>\n",
       "      <td>NaN</td>\n",
       "      <td>Zacatlan</td>\n",
       "      <td>Puebla</td>\n",
       "      <td>SAMJ790115MPLNRS02</td>\n",
       "    </tr>\n",
       "    <tr>\n",
       "      <th>4</th>\n",
       "      <td>7</td>\n",
       "      <td>JMF4LKYU</td>\n",
       "      <td>44</td>\n",
       "      <td>13/11/21 16:10</td>\n",
       "      <td>MOTOROLA</td>\n",
       "      <td>G10 B</td>\n",
       "      <td>39S</td>\n",
       "      <td>4299.0</td>\n",
       "      <td>1075.0</td>\n",
       "      <td>0.0</td>\n",
       "      <td>...</td>\n",
       "      <td>25.01</td>\n",
       "      <td>7000</td>\n",
       "      <td>74</td>\n",
       "      <td>NaN</td>\n",
       "      <td>33.0</td>\n",
       "      <td>TANTOYUCA</td>\n",
       "      <td>VER.</td>\n",
       "      <td>Tantoyuca</td>\n",
       "      <td>Veracruz</td>\n",
       "      <td>TEHF880707HVZRRR07</td>\n",
       "    </tr>\n",
       "    <tr>\n",
       "      <th>...</th>\n",
       "      <td>...</td>\n",
       "      <td>...</td>\n",
       "      <td>...</td>\n",
       "      <td>...</td>\n",
       "      <td>...</td>\n",
       "      <td>...</td>\n",
       "      <td>...</td>\n",
       "      <td>...</td>\n",
       "      <td>...</td>\n",
       "      <td>...</td>\n",
       "      <td>...</td>\n",
       "      <td>...</td>\n",
       "      <td>...</td>\n",
       "      <td>...</td>\n",
       "      <td>...</td>\n",
       "      <td>...</td>\n",
       "      <td>...</td>\n",
       "      <td>...</td>\n",
       "      <td>...</td>\n",
       "      <td>...</td>\n",
       "      <td>...</td>\n",
       "    </tr>\n",
       "    <tr>\n",
       "      <th>22730</th>\n",
       "      <td>22967</td>\n",
       "      <td>92KQVRIX</td>\n",
       "      <td>96502</td>\n",
       "      <td>18/04/23 18:45</td>\n",
       "      <td>Motorola</td>\n",
       "      <td>Moto E13</td>\n",
       "      <td>26S</td>\n",
       "      <td>3349.0</td>\n",
       "      <td>297.0</td>\n",
       "      <td>0.0</td>\n",
       "      <td>...</td>\n",
       "      <td>8.87</td>\n",
       "      <td>10000</td>\n",
       "      <td>0</td>\n",
       "      <td>97880</td>\n",
       "      <td>22.0</td>\n",
       "      <td>OXKUTZCAB</td>\n",
       "      <td>YUC</td>\n",
       "      <td>Oxkutzcab</td>\n",
       "      <td>Yucatan</td>\n",
       "      <td>PACT990804MYNCCH05</td>\n",
       "    </tr>\n",
       "    <tr>\n",
       "      <th>22731</th>\n",
       "      <td>22968</td>\n",
       "      <td>NWB2EA8J</td>\n",
       "      <td>96479</td>\n",
       "      <td>18/04/23 18:46</td>\n",
       "      <td>Motorola</td>\n",
       "      <td>Moto E22i</td>\n",
       "      <td>26S</td>\n",
       "      <td>4100.0</td>\n",
       "      <td>1209.0</td>\n",
       "      <td>0.0</td>\n",
       "      <td>...</td>\n",
       "      <td>29.49</td>\n",
       "      <td>5000</td>\n",
       "      <td>0</td>\n",
       "      <td>37295</td>\n",
       "      <td>27.0</td>\n",
       "      <td>LEON</td>\n",
       "      <td>GTO</td>\n",
       "      <td>Leon</td>\n",
       "      <td>Guanajuato</td>\n",
       "      <td>HEGB950620MGTRMN03</td>\n",
       "    </tr>\n",
       "    <tr>\n",
       "      <th>22732</th>\n",
       "      <td>22969</td>\n",
       "      <td>VDTRJ2W6</td>\n",
       "      <td>96442</td>\n",
       "      <td>18/04/23 18:47</td>\n",
       "      <td>Samsung</td>\n",
       "      <td>A13</td>\n",
       "      <td>26S</td>\n",
       "      <td>4849.0</td>\n",
       "      <td>1152.0</td>\n",
       "      <td>0.0</td>\n",
       "      <td>...</td>\n",
       "      <td>23.76</td>\n",
       "      <td>4750</td>\n",
       "      <td>0</td>\n",
       "      <td>20210</td>\n",
       "      <td>36.0</td>\n",
       "      <td>AGUASCALIENTES</td>\n",
       "      <td>AGS</td>\n",
       "      <td>Aguascalientes</td>\n",
       "      <td>Aguascalientes</td>\n",
       "      <td>GADF870205HASLZL07</td>\n",
       "    </tr>\n",
       "    <tr>\n",
       "      <th>22733</th>\n",
       "      <td>22970</td>\n",
       "      <td>PETLF56C</td>\n",
       "      <td>96536</td>\n",
       "      <td>18/04/23 18:49</td>\n",
       "      <td>Samsung</td>\n",
       "      <td>A53 5G</td>\n",
       "      <td>39S</td>\n",
       "      <td>9799.0</td>\n",
       "      <td>2799.0</td>\n",
       "      <td>0.0</td>\n",
       "      <td>...</td>\n",
       "      <td>28.56</td>\n",
       "      <td>7000</td>\n",
       "      <td>0</td>\n",
       "      <td>78434</td>\n",
       "      <td>53.0</td>\n",
       "      <td>SOLEDAD DE GRACIANO SANCHEZ</td>\n",
       "      <td>SLP</td>\n",
       "      <td>Soledad De Graciano Sanchez</td>\n",
       "      <td>San Luis Potosi</td>\n",
       "      <td>DELJ700417HSPLRS03</td>\n",
       "    </tr>\n",
       "    <tr>\n",
       "      <th>22734</th>\n",
       "      <td>22971</td>\n",
       "      <td>2CI4N2WS</td>\n",
       "      <td>96534</td>\n",
       "      <td>18/04/23 18:49</td>\n",
       "      <td>Samsung</td>\n",
       "      <td>A22 5G</td>\n",
       "      <td>26S</td>\n",
       "      <td>5399.0</td>\n",
       "      <td>1086.0</td>\n",
       "      <td>0.0</td>\n",
       "      <td>...</td>\n",
       "      <td>20.11</td>\n",
       "      <td>4750</td>\n",
       "      <td>0</td>\n",
       "      <td>43800</td>\n",
       "      <td>19.0</td>\n",
       "      <td>TIZAYUCA</td>\n",
       "      <td>HGO</td>\n",
       "      <td>San Jose Del Cabo</td>\n",
       "      <td>Baja California Sur</td>\n",
       "      <td>RASI030731HDFMRSA1</td>\n",
       "    </tr>\n",
       "  </tbody>\n",
       "</table>\n",
       "<p>22735 rows × 39 columns</p>\n",
       "</div>\n",
       "    <div class=\"colab-df-buttons\">\n",
       "\n",
       "  <div class=\"colab-df-container\">\n",
       "    <button class=\"colab-df-convert\" onclick=\"convertToInteractive('df-69887192-cdce-48c8-88d3-a93d50df7ad0')\"\n",
       "            title=\"Convert this dataframe to an interactive table.\"\n",
       "            style=\"display:none;\">\n",
       "\n",
       "  <svg xmlns=\"http://www.w3.org/2000/svg\" height=\"24px\" viewBox=\"0 -960 960 960\">\n",
       "    <path d=\"M120-120v-720h720v720H120Zm60-500h600v-160H180v160Zm220 220h160v-160H400v160Zm0 220h160v-160H400v160ZM180-400h160v-160H180v160Zm440 0h160v-160H620v160ZM180-180h160v-160H180v160Zm440 0h160v-160H620v160Z\"/>\n",
       "  </svg>\n",
       "    </button>\n",
       "\n",
       "  <style>\n",
       "    .colab-df-container {\n",
       "      display:flex;\n",
       "      gap: 12px;\n",
       "    }\n",
       "\n",
       "    .colab-df-convert {\n",
       "      background-color: #E8F0FE;\n",
       "      border: none;\n",
       "      border-radius: 50%;\n",
       "      cursor: pointer;\n",
       "      display: none;\n",
       "      fill: #1967D2;\n",
       "      height: 32px;\n",
       "      padding: 0 0 0 0;\n",
       "      width: 32px;\n",
       "    }\n",
       "\n",
       "    .colab-df-convert:hover {\n",
       "      background-color: #E2EBFA;\n",
       "      box-shadow: 0px 1px 2px rgba(60, 64, 67, 0.3), 0px 1px 3px 1px rgba(60, 64, 67, 0.15);\n",
       "      fill: #174EA6;\n",
       "    }\n",
       "\n",
       "    .colab-df-buttons div {\n",
       "      margin-bottom: 4px;\n",
       "    }\n",
       "\n",
       "    [theme=dark] .colab-df-convert {\n",
       "      background-color: #3B4455;\n",
       "      fill: #D2E3FC;\n",
       "    }\n",
       "\n",
       "    [theme=dark] .colab-df-convert:hover {\n",
       "      background-color: #434B5C;\n",
       "      box-shadow: 0px 1px 3px 1px rgba(0, 0, 0, 0.15);\n",
       "      filter: drop-shadow(0px 1px 2px rgba(0, 0, 0, 0.3));\n",
       "      fill: #FFFFFF;\n",
       "    }\n",
       "  </style>\n",
       "\n",
       "    <script>\n",
       "      const buttonEl =\n",
       "        document.querySelector('#df-69887192-cdce-48c8-88d3-a93d50df7ad0 button.colab-df-convert');\n",
       "      buttonEl.style.display =\n",
       "        google.colab.kernel.accessAllowed ? 'block' : 'none';\n",
       "\n",
       "      async function convertToInteractive(key) {\n",
       "        const element = document.querySelector('#df-69887192-cdce-48c8-88d3-a93d50df7ad0');\n",
       "        const dataTable =\n",
       "          await google.colab.kernel.invokeFunction('convertToInteractive',\n",
       "                                                    [key], {});\n",
       "        if (!dataTable) return;\n",
       "\n",
       "        const docLinkHtml = 'Like what you see? Visit the ' +\n",
       "          '<a target=\"_blank\" href=https://colab.research.google.com/notebooks/data_table.ipynb>data table notebook</a>'\n",
       "          + ' to learn more about interactive tables.';\n",
       "        element.innerHTML = '';\n",
       "        dataTable['output_type'] = 'display_data';\n",
       "        await google.colab.output.renderOutput(dataTable, element);\n",
       "        const docLink = document.createElement('div');\n",
       "        docLink.innerHTML = docLinkHtml;\n",
       "        element.appendChild(docLink);\n",
       "      }\n",
       "    </script>\n",
       "  </div>\n",
       "\n",
       "\n",
       "<div id=\"df-e19defff-328e-4255-910c-6f39d5175e78\">\n",
       "  <button class=\"colab-df-quickchart\" onclick=\"quickchart('df-e19defff-328e-4255-910c-6f39d5175e78')\"\n",
       "            title=\"Suggest charts.\"\n",
       "            style=\"display:none;\">\n",
       "\n",
       "<svg xmlns=\"http://www.w3.org/2000/svg\" height=\"24px\"viewBox=\"0 0 24 24\"\n",
       "     width=\"24px\">\n",
       "    <g>\n",
       "        <path d=\"M19 3H5c-1.1 0-2 .9-2 2v14c0 1.1.9 2 2 2h14c1.1 0 2-.9 2-2V5c0-1.1-.9-2-2-2zM9 17H7v-7h2v7zm4 0h-2V7h2v10zm4 0h-2v-4h2v4z\"/>\n",
       "    </g>\n",
       "</svg>\n",
       "  </button>\n",
       "\n",
       "<style>\n",
       "  .colab-df-quickchart {\n",
       "      --bg-color: #E8F0FE;\n",
       "      --fill-color: #1967D2;\n",
       "      --hover-bg-color: #E2EBFA;\n",
       "      --hover-fill-color: #174EA6;\n",
       "      --disabled-fill-color: #AAA;\n",
       "      --disabled-bg-color: #DDD;\n",
       "  }\n",
       "\n",
       "  [theme=dark] .colab-df-quickchart {\n",
       "      --bg-color: #3B4455;\n",
       "      --fill-color: #D2E3FC;\n",
       "      --hover-bg-color: #434B5C;\n",
       "      --hover-fill-color: #FFFFFF;\n",
       "      --disabled-bg-color: #3B4455;\n",
       "      --disabled-fill-color: #666;\n",
       "  }\n",
       "\n",
       "  .colab-df-quickchart {\n",
       "    background-color: var(--bg-color);\n",
       "    border: none;\n",
       "    border-radius: 50%;\n",
       "    cursor: pointer;\n",
       "    display: none;\n",
       "    fill: var(--fill-color);\n",
       "    height: 32px;\n",
       "    padding: 0;\n",
       "    width: 32px;\n",
       "  }\n",
       "\n",
       "  .colab-df-quickchart:hover {\n",
       "    background-color: var(--hover-bg-color);\n",
       "    box-shadow: 0 1px 2px rgba(60, 64, 67, 0.3), 0 1px 3px 1px rgba(60, 64, 67, 0.15);\n",
       "    fill: var(--button-hover-fill-color);\n",
       "  }\n",
       "\n",
       "  .colab-df-quickchart-complete:disabled,\n",
       "  .colab-df-quickchart-complete:disabled:hover {\n",
       "    background-color: var(--disabled-bg-color);\n",
       "    fill: var(--disabled-fill-color);\n",
       "    box-shadow: none;\n",
       "  }\n",
       "\n",
       "  .colab-df-spinner {\n",
       "    border: 2px solid var(--fill-color);\n",
       "    border-color: transparent;\n",
       "    border-bottom-color: var(--fill-color);\n",
       "    animation:\n",
       "      spin 1s steps(1) infinite;\n",
       "  }\n",
       "\n",
       "  @keyframes spin {\n",
       "    0% {\n",
       "      border-color: transparent;\n",
       "      border-bottom-color: var(--fill-color);\n",
       "      border-left-color: var(--fill-color);\n",
       "    }\n",
       "    20% {\n",
       "      border-color: transparent;\n",
       "      border-left-color: var(--fill-color);\n",
       "      border-top-color: var(--fill-color);\n",
       "    }\n",
       "    30% {\n",
       "      border-color: transparent;\n",
       "      border-left-color: var(--fill-color);\n",
       "      border-top-color: var(--fill-color);\n",
       "      border-right-color: var(--fill-color);\n",
       "    }\n",
       "    40% {\n",
       "      border-color: transparent;\n",
       "      border-right-color: var(--fill-color);\n",
       "      border-top-color: var(--fill-color);\n",
       "    }\n",
       "    60% {\n",
       "      border-color: transparent;\n",
       "      border-right-color: var(--fill-color);\n",
       "    }\n",
       "    80% {\n",
       "      border-color: transparent;\n",
       "      border-right-color: var(--fill-color);\n",
       "      border-bottom-color: var(--fill-color);\n",
       "    }\n",
       "    90% {\n",
       "      border-color: transparent;\n",
       "      border-bottom-color: var(--fill-color);\n",
       "    }\n",
       "  }\n",
       "</style>\n",
       "\n",
       "  <script>\n",
       "    async function quickchart(key) {\n",
       "      const quickchartButtonEl =\n",
       "        document.querySelector('#' + key + ' button');\n",
       "      quickchartButtonEl.disabled = true;  // To prevent multiple clicks.\n",
       "      quickchartButtonEl.classList.add('colab-df-spinner');\n",
       "      try {\n",
       "        const charts = await google.colab.kernel.invokeFunction(\n",
       "            'suggestCharts', [key], {});\n",
       "      } catch (error) {\n",
       "        console.error('Error during call to suggestCharts:', error);\n",
       "      }\n",
       "      quickchartButtonEl.classList.remove('colab-df-spinner');\n",
       "      quickchartButtonEl.classList.add('colab-df-quickchart-complete');\n",
       "    }\n",
       "    (() => {\n",
       "      let quickchartButtonEl =\n",
       "        document.querySelector('#df-e19defff-328e-4255-910c-6f39d5175e78 button');\n",
       "      quickchartButtonEl.style.display =\n",
       "        google.colab.kernel.accessAllowed ? 'block' : 'none';\n",
       "    })();\n",
       "  </script>\n",
       "</div>\n",
       "    </div>\n",
       "  </div>\n"
      ],
      "text/plain": [
       "       folio       tag  folio_solicitud           fecha     marca  \\\n",
       "0          3  HDNAWQ3A               30  12/11/21 19:00       ZTE   \n",
       "1          4  M418YNR4               33  12/11/21 19:15  MOTOROLA   \n",
       "2          5  SZ7V3NZT               37  13/11/21 14:13       ZTE   \n",
       "3          6  9I08UIQZ               38  13/11/21 15:45       ZTE   \n",
       "4          7  JMF4LKYU               44  13/11/21 16:10  MOTOROLA   \n",
       "...      ...       ...              ...             ...       ...   \n",
       "22730  22967  92KQVRIX            96502  18/04/23 18:45  Motorola   \n",
       "22731  22968  NWB2EA8J            96479  18/04/23 18:46  Motorola   \n",
       "22732  22969  VDTRJ2W6            96442  18/04/23 18:47   Samsung   \n",
       "22733  22970  PETLF56C            96536  18/04/23 18:49   Samsung   \n",
       "22734  22971  2CI4N2WS            96534  18/04/23 18:49   Samsung   \n",
       "\n",
       "                             modelo plazo  precio  enganche  descuento  ...  \\\n",
       "0                Blade A3 2020 RO B   26S  1949.0     780.0        0.0  ...   \n",
       "1      LTE XT2097-12 E7I POWER Azul   13S  2999.0    1050.0        0.0  ...   \n",
       "2                BLADE A3 2020 Gris   13S  1959.0     490.0        0.0  ...   \n",
       "3                BLADE A3 2020 Gris   13S  1959.0     490.0        0.0  ...   \n",
       "4                             G10 B   39S  4299.0    1075.0        0.0  ...   \n",
       "...                             ...   ...     ...       ...        ...  ...   \n",
       "22730                      Moto E13   26S  3349.0     297.0        0.0  ...   \n",
       "22731                     Moto E22i   26S  4100.0    1209.0        0.0  ...   \n",
       "22732                           A13   26S  4849.0    1152.0        0.0  ...   \n",
       "22733                        A53 5G   39S  9799.0    2799.0        0.0  ...   \n",
       "22734                        A22 5G   26S  5399.0    1086.0        0.0  ...   \n",
       "\n",
       "       porc_eng  limite_credito  semana_actual  cp_cliente edad_cliente  \\\n",
       "0         40.02            5000             26         NaN         23.0   \n",
       "1         35.01            6000             13         NaN         60.0   \n",
       "2         25.01               0             74         NaN         58.0   \n",
       "3         25.01            7000             13         NaN         42.0   \n",
       "4         25.01            7000             74         NaN         33.0   \n",
       "...         ...             ...            ...         ...          ...   \n",
       "22730      8.87           10000              0       97880         22.0   \n",
       "22731     29.49            5000              0       37295         27.0   \n",
       "22732     23.76            4750              0       20210         36.0   \n",
       "22733     28.56            7000              0       78434         53.0   \n",
       "22734     20.11            4750              0       43800         19.0   \n",
       "\n",
       "                        cd_cliente  edo_cliente                     cd_venta  \\\n",
       "0                                0            0                    Tantoyuca   \n",
       "1                          PUEBLA          PUE.   Heroica Puebla de Zaragoza   \n",
       "2                        TANTOYUCA         VER.                            0   \n",
       "3                      AMXTLAN PUE          NaN                     Zacatlan   \n",
       "4                       TANTOYUCA          VER.                    Tantoyuca   \n",
       "...                            ...          ...                          ...   \n",
       "22730                    OXKUTZCAB          YUC                    Oxkutzcab   \n",
       "22731                         LEON          GTO                         Leon   \n",
       "22732               AGUASCALIENTES          AGS               Aguascalientes   \n",
       "22733  SOLEDAD DE GRACIANO SANCHEZ          SLP  Soledad De Graciano Sanchez   \n",
       "22734                     TIZAYUCA          HGO            San Jose Del Cabo   \n",
       "\n",
       "                 edo_venta                curp  \n",
       "0                 Veracruz  AEVM980413MVZNDR02  \n",
       "1                   Puebla  ZALC610119MPLPRR07  \n",
       "2                        0                   0  \n",
       "3                   Puebla  SAMJ790115MPLNRS02  \n",
       "4                 Veracruz  TEHF880707HVZRRR07  \n",
       "...                    ...                 ...  \n",
       "22730              Yucatan  PACT990804MYNCCH05  \n",
       "22731           Guanajuato  HEGB950620MGTRMN03  \n",
       "22732       Aguascalientes  GADF870205HASLZL07  \n",
       "22733      San Luis Potosi  DELJ700417HSPLRS03  \n",
       "22734  Baja California Sur  RASI030731HDFMRSA1  \n",
       "\n",
       "[22735 rows x 39 columns]"
      ]
     },
     "execution_count": 579,
     "metadata": {},
     "output_type": "execute_result"
    }
   ],
   "source": [
    "df = pd.read_csv('cuentas_credicel.csv',encoding='latin')\n",
    "df"
   ]
  },
  {
   "cell_type": "code",
   "execution_count": 580,
   "metadata": {
    "colab": {
     "base_uri": "https://localhost:8080/"
    },
    "id": "KK4ntZ0KuIex",
    "outputId": "d2613089-6745-4cfd-a216-68fbc68e611a"
   },
   "outputs": [
    {
     "name": "stdout",
     "output_type": "stream",
     "text": [
      "<class 'pandas.core.frame.DataFrame'>\n",
      "RangeIndex: 22735 entries, 0 to 22734\n",
      "Data columns (total 39 columns):\n",
      " #   Column              Non-Null Count  Dtype  \n",
      "---  ------              --------------  -----  \n",
      " 0   folio               22735 non-null  int64  \n",
      " 1   tag                 22735 non-null  object \n",
      " 2   folio_solicitud     22735 non-null  int64  \n",
      " 3   fecha               22735 non-null  object \n",
      " 4   marca               22735 non-null  object \n",
      " 5   modelo              22735 non-null  object \n",
      " 6   plazo               22735 non-null  object \n",
      " 7   precio              22735 non-null  float64\n",
      " 8   enganche            22735 non-null  float64\n",
      " 9   descuento           22735 non-null  float64\n",
      " 10  semana              22735 non-null  int64  \n",
      " 11  monto_financiado    22735 non-null  float64\n",
      " 12  costo_total         22735 non-null  int64  \n",
      " 13  monto_accesorios    22735 non-null  float64\n",
      " 14  agente_venta        22735 non-null  object \n",
      " 15  dis_venta           22735 non-null  object \n",
      " 16  status              22735 non-null  int64  \n",
      " 17  fraude              22735 non-null  int64  \n",
      " 18  empresa             22722 non-null  object \n",
      " 19  inversion           22735 non-null  int64  \n",
      " 20  pagos_realizados    22735 non-null  int64  \n",
      " 21  reautorizacion      22735 non-null  int64  \n",
      " 22  fecha_ultimo_pago   19379 non-null  object \n",
      " 23  fecha_pago_proximo  19379 non-null  object \n",
      " 24  status_cuenta       19421 non-null  object \n",
      " 25  puntos              22735 non-null  int64  \n",
      " 26  riesgo              22735 non-null  float64\n",
      " 27  score_buro          22735 non-null  int64  \n",
      " 28  razones_buro        15395 non-null  object \n",
      " 29  porc_eng            22735 non-null  float64\n",
      " 30  limite_credito      22735 non-null  object \n",
      " 31  semana_actual       22735 non-null  int64  \n",
      " 32  cp_cliente          15492 non-null  object \n",
      " 33  edad_cliente        22726 non-null  float64\n",
      " 34  cd_cliente          22735 non-null  object \n",
      " 35  edo_cliente         22727 non-null  object \n",
      " 36  cd_venta            22735 non-null  object \n",
      " 37  edo_venta           22735 non-null  object \n",
      " 38  curp                22735 non-null  object \n",
      "dtypes: float64(8), int64(12), object(19)\n",
      "memory usage: 6.8+ MB\n"
     ]
    }
   ],
   "source": [
    "df.info()"
   ]
  },
  {
   "cell_type": "code",
   "execution_count": 581,
   "metadata": {
    "colab": {
     "base_uri": "https://localhost:8080/"
    },
    "id": "IJdTfygLuI9Y",
    "outputId": "1edd92e7-06c2-467f-e963-23ad214750ec"
   },
   "outputs": [
    {
     "data": {
      "text/plain": [
       "folio                    0\n",
       "tag                      0\n",
       "folio_solicitud          0\n",
       "fecha                    0\n",
       "marca                    0\n",
       "modelo                   0\n",
       "plazo                    0\n",
       "precio                   0\n",
       "enganche                 0\n",
       "descuento                0\n",
       "semana                   0\n",
       "monto_financiado         0\n",
       "costo_total              0\n",
       "monto_accesorios         0\n",
       "agente_venta             0\n",
       "dis_venta                0\n",
       "status                   0\n",
       "fraude                   0\n",
       "empresa                 13\n",
       "inversion                0\n",
       "pagos_realizados         0\n",
       "reautorizacion           0\n",
       "fecha_ultimo_pago     3356\n",
       "fecha_pago_proximo    3356\n",
       "status_cuenta         3314\n",
       "puntos                   0\n",
       "riesgo                   0\n",
       "score_buro               0\n",
       "razones_buro          7340\n",
       "porc_eng                 0\n",
       "limite_credito           0\n",
       "semana_actual            0\n",
       "cp_cliente            7243\n",
       "edad_cliente             9\n",
       "cd_cliente               0\n",
       "edo_cliente              8\n",
       "cd_venta                 0\n",
       "edo_venta                0\n",
       "curp                     0\n",
       "dtype: int64"
      ]
     },
     "execution_count": 581,
     "metadata": {},
     "output_type": "execute_result"
    }
   ],
   "source": [
    "df.isnull().sum()"
   ]
  },
  {
   "cell_type": "code",
   "execution_count": 582,
   "metadata": {
    "id": "U-GRqBTNuLGY"
   },
   "outputs": [],
   "source": [
    "df = df.fillna(df.mode().iloc[0])"
   ]
  },
  {
   "cell_type": "code",
   "execution_count": 583,
   "metadata": {
    "colab": {
     "base_uri": "https://localhost:8080/"
    },
    "id": "ji4U_XymuO3M",
    "outputId": "150110b0-5168-4986-95a4-064dd1080402"
   },
   "outputs": [
    {
     "data": {
      "text/plain": [
       "folio                 0\n",
       "tag                   0\n",
       "folio_solicitud       0\n",
       "fecha                 0\n",
       "marca                 0\n",
       "modelo                0\n",
       "plazo                 0\n",
       "precio                0\n",
       "enganche              0\n",
       "descuento             0\n",
       "semana                0\n",
       "monto_financiado      0\n",
       "costo_total           0\n",
       "monto_accesorios      0\n",
       "agente_venta          0\n",
       "dis_venta             0\n",
       "status                0\n",
       "fraude                0\n",
       "empresa               0\n",
       "inversion             0\n",
       "pagos_realizados      0\n",
       "reautorizacion        0\n",
       "fecha_ultimo_pago     0\n",
       "fecha_pago_proximo    0\n",
       "status_cuenta         0\n",
       "puntos                0\n",
       "riesgo                0\n",
       "score_buro            0\n",
       "razones_buro          0\n",
       "porc_eng              0\n",
       "limite_credito        0\n",
       "semana_actual         0\n",
       "cp_cliente            0\n",
       "edad_cliente          0\n",
       "cd_cliente            0\n",
       "edo_cliente           0\n",
       "cd_venta              0\n",
       "edo_venta             0\n",
       "curp                  0\n",
       "dtype: int64"
      ]
     },
     "execution_count": 583,
     "metadata": {},
     "output_type": "execute_result"
    }
   ],
   "source": [
    "df.isnull().sum()"
   ]
  },
  {
   "cell_type": "code",
   "execution_count": 584,
   "metadata": {
    "colab": {
     "base_uri": "https://localhost:8080/"
    },
    "id": "DgYRy3VTuQng",
    "outputId": "d4420a05-dc55-4439-d83b-587b99791117"
   },
   "outputs": [
    {
     "name": "stdout",
     "output_type": "stream",
     "text": [
      "Limite Superior:  folio                34333.500\n",
      "folio_solicitud     139392.000\n",
      "precio                7674.000\n",
      "enganche              1841.750\n",
      "descuento              500.000\n",
      "semana                 457.500\n",
      "monto_financiado      5703.000\n",
      "costo_total          11108.500\n",
      "monto_accesorios         0.000\n",
      "status                   1.000\n",
      "fraude                   0.000\n",
      "inversion                0.000\n",
      "pagos_realizados        34.500\n",
      "reautorizacion           0.000\n",
      "puntos                  20.000\n",
      "riesgo                  60.300\n",
      "score_buro            1370.000\n",
      "porc_eng                36.825\n",
      "semana_actual           48.500\n",
      "edad_cliente            68.500\n",
      "dtype: float64\n",
      "Limite Inferior:  folio              -11290.500\n",
      "folio_solicitud    -49692.000\n",
      "precio                274.000\n",
      "enganche             -104.250\n",
      "descuento            -300.000\n",
      "semana                 -2.500\n",
      "monto_financiado      359.000\n",
      "costo_total          -175.500\n",
      "monto_accesorios        0.000\n",
      "status                  1.000\n",
      "fraude                  0.000\n",
      "inversion               0.000\n",
      "pagos_realizados      -17.500\n",
      "reautorizacion          0.000\n",
      "puntos                  4.000\n",
      "riesgo                -45.300\n",
      "score_buro           -822.000\n",
      "porc_eng                7.425\n",
      "semana_actual         -11.500\n",
      "edad_cliente            0.500\n",
      "dtype: float64\n"
     ]
    },
    {
     "name": "stderr",
     "output_type": "stream",
     "text": [
      "<ipython-input-584-76d2ed3a9723>:2: FutureWarning: The default value of numeric_only in DataFrame.quantile is deprecated. In a future version, it will default to False. Select only valid columns or specify the value of numeric_only to silence this warning.\n",
      "  percentile25=y.quantile(0.25) #Q1\n",
      "<ipython-input-584-76d2ed3a9723>:3: FutureWarning: The default value of numeric_only in DataFrame.quantile is deprecated. In a future version, it will default to False. Select only valid columns or specify the value of numeric_only to silence this warning.\n",
      "  percentile75=y.quantile(0.75) #Q3\n"
     ]
    }
   ],
   "source": [
    "y=df\n",
    "percentile25=y.quantile(0.25) #Q1\n",
    "percentile75=y.quantile(0.75) #Q3\n",
    "iqr= percentile75 - percentile25\n",
    "\n",
    "Limite_Superior= percentile75 + 1.5*iqr\n",
    "Limite_Inferior= percentile25 - 1.5*iqr\n",
    "print(\"Limite Superior: \", Limite_Superior)\n",
    "print(\"Limite Inferior: \", Limite_Inferior)"
   ]
  },
  {
   "cell_type": "code",
   "execution_count": 585,
   "metadata": {
    "colab": {
     "base_uri": "https://localhost:8080/",
     "height": 478
    },
    "id": "U_q6xt94uTy6",
    "outputId": "ae79c64c-1ddd-419c-db90-8de45654c9c5"
   },
   "outputs": [
    {
     "name": "stderr",
     "output_type": "stream",
     "text": [
      "<ipython-input-585-967c8171ad5c>:1: FutureWarning: Automatic reindexing on DataFrame vs Series comparisons is deprecated and will raise ValueError in a future version. Do `left, right = left.align(right, axis=1, copy=False)` before e.g. `left == right`\n",
      "  dfL= df[(y<=Limite_Superior)&(y>=Limite_Inferior)]\n"
     ]
    },
    {
     "data": {
      "text/html": [
       "\n",
       "  <div id=\"df-2fe3cdfd-5342-4917-afe5-b094ad8f0ebf\" class=\"colab-df-container\">\n",
       "    <div>\n",
       "<style scoped>\n",
       "    .dataframe tbody tr th:only-of-type {\n",
       "        vertical-align: middle;\n",
       "    }\n",
       "\n",
       "    .dataframe tbody tr th {\n",
       "        vertical-align: top;\n",
       "    }\n",
       "\n",
       "    .dataframe thead th {\n",
       "        text-align: right;\n",
       "    }\n",
       "</style>\n",
       "<table border=\"1\" class=\"dataframe\">\n",
       "  <thead>\n",
       "    <tr style=\"text-align: right;\">\n",
       "      <th></th>\n",
       "      <th>folio</th>\n",
       "      <th>tag</th>\n",
       "      <th>folio_solicitud</th>\n",
       "      <th>fecha</th>\n",
       "      <th>marca</th>\n",
       "      <th>modelo</th>\n",
       "      <th>plazo</th>\n",
       "      <th>precio</th>\n",
       "      <th>enganche</th>\n",
       "      <th>descuento</th>\n",
       "      <th>...</th>\n",
       "      <th>porc_eng</th>\n",
       "      <th>limite_credito</th>\n",
       "      <th>semana_actual</th>\n",
       "      <th>cp_cliente</th>\n",
       "      <th>edad_cliente</th>\n",
       "      <th>cd_cliente</th>\n",
       "      <th>edo_cliente</th>\n",
       "      <th>cd_venta</th>\n",
       "      <th>edo_venta</th>\n",
       "      <th>curp</th>\n",
       "    </tr>\n",
       "  </thead>\n",
       "  <tbody>\n",
       "    <tr>\n",
       "      <th>0</th>\n",
       "      <td>3</td>\n",
       "      <td>NaN</td>\n",
       "      <td>30</td>\n",
       "      <td>NaN</td>\n",
       "      <td>NaN</td>\n",
       "      <td>NaN</td>\n",
       "      <td>NaN</td>\n",
       "      <td>1949.0</td>\n",
       "      <td>780.0</td>\n",
       "      <td>0.0</td>\n",
       "      <td>...</td>\n",
       "      <td>NaN</td>\n",
       "      <td>NaN</td>\n",
       "      <td>26.0</td>\n",
       "      <td>NaN</td>\n",
       "      <td>23.0</td>\n",
       "      <td>NaN</td>\n",
       "      <td>NaN</td>\n",
       "      <td>NaN</td>\n",
       "      <td>NaN</td>\n",
       "      <td>NaN</td>\n",
       "    </tr>\n",
       "    <tr>\n",
       "      <th>1</th>\n",
       "      <td>4</td>\n",
       "      <td>NaN</td>\n",
       "      <td>33</td>\n",
       "      <td>NaN</td>\n",
       "      <td>NaN</td>\n",
       "      <td>NaN</td>\n",
       "      <td>NaN</td>\n",
       "      <td>2999.0</td>\n",
       "      <td>1050.0</td>\n",
       "      <td>0.0</td>\n",
       "      <td>...</td>\n",
       "      <td>35.01</td>\n",
       "      <td>NaN</td>\n",
       "      <td>13.0</td>\n",
       "      <td>NaN</td>\n",
       "      <td>60.0</td>\n",
       "      <td>NaN</td>\n",
       "      <td>NaN</td>\n",
       "      <td>NaN</td>\n",
       "      <td>NaN</td>\n",
       "      <td>NaN</td>\n",
       "    </tr>\n",
       "    <tr>\n",
       "      <th>2</th>\n",
       "      <td>5</td>\n",
       "      <td>NaN</td>\n",
       "      <td>37</td>\n",
       "      <td>NaN</td>\n",
       "      <td>NaN</td>\n",
       "      <td>NaN</td>\n",
       "      <td>NaN</td>\n",
       "      <td>1959.0</td>\n",
       "      <td>490.0</td>\n",
       "      <td>0.0</td>\n",
       "      <td>...</td>\n",
       "      <td>25.01</td>\n",
       "      <td>NaN</td>\n",
       "      <td>NaN</td>\n",
       "      <td>NaN</td>\n",
       "      <td>58.0</td>\n",
       "      <td>NaN</td>\n",
       "      <td>NaN</td>\n",
       "      <td>NaN</td>\n",
       "      <td>NaN</td>\n",
       "      <td>NaN</td>\n",
       "    </tr>\n",
       "    <tr>\n",
       "      <th>3</th>\n",
       "      <td>6</td>\n",
       "      <td>NaN</td>\n",
       "      <td>38</td>\n",
       "      <td>NaN</td>\n",
       "      <td>NaN</td>\n",
       "      <td>NaN</td>\n",
       "      <td>NaN</td>\n",
       "      <td>1959.0</td>\n",
       "      <td>490.0</td>\n",
       "      <td>0.0</td>\n",
       "      <td>...</td>\n",
       "      <td>25.01</td>\n",
       "      <td>NaN</td>\n",
       "      <td>13.0</td>\n",
       "      <td>NaN</td>\n",
       "      <td>42.0</td>\n",
       "      <td>NaN</td>\n",
       "      <td>NaN</td>\n",
       "      <td>NaN</td>\n",
       "      <td>NaN</td>\n",
       "      <td>NaN</td>\n",
       "    </tr>\n",
       "    <tr>\n",
       "      <th>4</th>\n",
       "      <td>7</td>\n",
       "      <td>NaN</td>\n",
       "      <td>44</td>\n",
       "      <td>NaN</td>\n",
       "      <td>NaN</td>\n",
       "      <td>NaN</td>\n",
       "      <td>NaN</td>\n",
       "      <td>4299.0</td>\n",
       "      <td>1075.0</td>\n",
       "      <td>0.0</td>\n",
       "      <td>...</td>\n",
       "      <td>25.01</td>\n",
       "      <td>NaN</td>\n",
       "      <td>NaN</td>\n",
       "      <td>NaN</td>\n",
       "      <td>33.0</td>\n",
       "      <td>NaN</td>\n",
       "      <td>NaN</td>\n",
       "      <td>NaN</td>\n",
       "      <td>NaN</td>\n",
       "      <td>NaN</td>\n",
       "    </tr>\n",
       "    <tr>\n",
       "      <th>...</th>\n",
       "      <td>...</td>\n",
       "      <td>...</td>\n",
       "      <td>...</td>\n",
       "      <td>...</td>\n",
       "      <td>...</td>\n",
       "      <td>...</td>\n",
       "      <td>...</td>\n",
       "      <td>...</td>\n",
       "      <td>...</td>\n",
       "      <td>...</td>\n",
       "      <td>...</td>\n",
       "      <td>...</td>\n",
       "      <td>...</td>\n",
       "      <td>...</td>\n",
       "      <td>...</td>\n",
       "      <td>...</td>\n",
       "      <td>...</td>\n",
       "      <td>...</td>\n",
       "      <td>...</td>\n",
       "      <td>...</td>\n",
       "      <td>...</td>\n",
       "    </tr>\n",
       "    <tr>\n",
       "      <th>22730</th>\n",
       "      <td>22967</td>\n",
       "      <td>NaN</td>\n",
       "      <td>96502</td>\n",
       "      <td>NaN</td>\n",
       "      <td>NaN</td>\n",
       "      <td>NaN</td>\n",
       "      <td>NaN</td>\n",
       "      <td>3349.0</td>\n",
       "      <td>297.0</td>\n",
       "      <td>0.0</td>\n",
       "      <td>...</td>\n",
       "      <td>8.87</td>\n",
       "      <td>NaN</td>\n",
       "      <td>0.0</td>\n",
       "      <td>NaN</td>\n",
       "      <td>22.0</td>\n",
       "      <td>NaN</td>\n",
       "      <td>NaN</td>\n",
       "      <td>NaN</td>\n",
       "      <td>NaN</td>\n",
       "      <td>NaN</td>\n",
       "    </tr>\n",
       "    <tr>\n",
       "      <th>22731</th>\n",
       "      <td>22968</td>\n",
       "      <td>NaN</td>\n",
       "      <td>96479</td>\n",
       "      <td>NaN</td>\n",
       "      <td>NaN</td>\n",
       "      <td>NaN</td>\n",
       "      <td>NaN</td>\n",
       "      <td>4100.0</td>\n",
       "      <td>1209.0</td>\n",
       "      <td>0.0</td>\n",
       "      <td>...</td>\n",
       "      <td>29.49</td>\n",
       "      <td>NaN</td>\n",
       "      <td>0.0</td>\n",
       "      <td>NaN</td>\n",
       "      <td>27.0</td>\n",
       "      <td>NaN</td>\n",
       "      <td>NaN</td>\n",
       "      <td>NaN</td>\n",
       "      <td>NaN</td>\n",
       "      <td>NaN</td>\n",
       "    </tr>\n",
       "    <tr>\n",
       "      <th>22732</th>\n",
       "      <td>22969</td>\n",
       "      <td>NaN</td>\n",
       "      <td>96442</td>\n",
       "      <td>NaN</td>\n",
       "      <td>NaN</td>\n",
       "      <td>NaN</td>\n",
       "      <td>NaN</td>\n",
       "      <td>4849.0</td>\n",
       "      <td>1152.0</td>\n",
       "      <td>0.0</td>\n",
       "      <td>...</td>\n",
       "      <td>23.76</td>\n",
       "      <td>NaN</td>\n",
       "      <td>0.0</td>\n",
       "      <td>NaN</td>\n",
       "      <td>36.0</td>\n",
       "      <td>NaN</td>\n",
       "      <td>NaN</td>\n",
       "      <td>NaN</td>\n",
       "      <td>NaN</td>\n",
       "      <td>NaN</td>\n",
       "    </tr>\n",
       "    <tr>\n",
       "      <th>22733</th>\n",
       "      <td>22970</td>\n",
       "      <td>NaN</td>\n",
       "      <td>96536</td>\n",
       "      <td>NaN</td>\n",
       "      <td>NaN</td>\n",
       "      <td>NaN</td>\n",
       "      <td>NaN</td>\n",
       "      <td>NaN</td>\n",
       "      <td>NaN</td>\n",
       "      <td>0.0</td>\n",
       "      <td>...</td>\n",
       "      <td>28.56</td>\n",
       "      <td>NaN</td>\n",
       "      <td>0.0</td>\n",
       "      <td>NaN</td>\n",
       "      <td>53.0</td>\n",
       "      <td>NaN</td>\n",
       "      <td>NaN</td>\n",
       "      <td>NaN</td>\n",
       "      <td>NaN</td>\n",
       "      <td>NaN</td>\n",
       "    </tr>\n",
       "    <tr>\n",
       "      <th>22734</th>\n",
       "      <td>22971</td>\n",
       "      <td>NaN</td>\n",
       "      <td>96534</td>\n",
       "      <td>NaN</td>\n",
       "      <td>NaN</td>\n",
       "      <td>NaN</td>\n",
       "      <td>NaN</td>\n",
       "      <td>5399.0</td>\n",
       "      <td>1086.0</td>\n",
       "      <td>0.0</td>\n",
       "      <td>...</td>\n",
       "      <td>20.11</td>\n",
       "      <td>NaN</td>\n",
       "      <td>0.0</td>\n",
       "      <td>NaN</td>\n",
       "      <td>19.0</td>\n",
       "      <td>NaN</td>\n",
       "      <td>NaN</td>\n",
       "      <td>NaN</td>\n",
       "      <td>NaN</td>\n",
       "      <td>NaN</td>\n",
       "    </tr>\n",
       "  </tbody>\n",
       "</table>\n",
       "<p>22735 rows × 39 columns</p>\n",
       "</div>\n",
       "    <div class=\"colab-df-buttons\">\n",
       "\n",
       "  <div class=\"colab-df-container\">\n",
       "    <button class=\"colab-df-convert\" onclick=\"convertToInteractive('df-2fe3cdfd-5342-4917-afe5-b094ad8f0ebf')\"\n",
       "            title=\"Convert this dataframe to an interactive table.\"\n",
       "            style=\"display:none;\">\n",
       "\n",
       "  <svg xmlns=\"http://www.w3.org/2000/svg\" height=\"24px\" viewBox=\"0 -960 960 960\">\n",
       "    <path d=\"M120-120v-720h720v720H120Zm60-500h600v-160H180v160Zm220 220h160v-160H400v160Zm0 220h160v-160H400v160ZM180-400h160v-160H180v160Zm440 0h160v-160H620v160ZM180-180h160v-160H180v160Zm440 0h160v-160H620v160Z\"/>\n",
       "  </svg>\n",
       "    </button>\n",
       "\n",
       "  <style>\n",
       "    .colab-df-container {\n",
       "      display:flex;\n",
       "      gap: 12px;\n",
       "    }\n",
       "\n",
       "    .colab-df-convert {\n",
       "      background-color: #E8F0FE;\n",
       "      border: none;\n",
       "      border-radius: 50%;\n",
       "      cursor: pointer;\n",
       "      display: none;\n",
       "      fill: #1967D2;\n",
       "      height: 32px;\n",
       "      padding: 0 0 0 0;\n",
       "      width: 32px;\n",
       "    }\n",
       "\n",
       "    .colab-df-convert:hover {\n",
       "      background-color: #E2EBFA;\n",
       "      box-shadow: 0px 1px 2px rgba(60, 64, 67, 0.3), 0px 1px 3px 1px rgba(60, 64, 67, 0.15);\n",
       "      fill: #174EA6;\n",
       "    }\n",
       "\n",
       "    .colab-df-buttons div {\n",
       "      margin-bottom: 4px;\n",
       "    }\n",
       "\n",
       "    [theme=dark] .colab-df-convert {\n",
       "      background-color: #3B4455;\n",
       "      fill: #D2E3FC;\n",
       "    }\n",
       "\n",
       "    [theme=dark] .colab-df-convert:hover {\n",
       "      background-color: #434B5C;\n",
       "      box-shadow: 0px 1px 3px 1px rgba(0, 0, 0, 0.15);\n",
       "      filter: drop-shadow(0px 1px 2px rgba(0, 0, 0, 0.3));\n",
       "      fill: #FFFFFF;\n",
       "    }\n",
       "  </style>\n",
       "\n",
       "    <script>\n",
       "      const buttonEl =\n",
       "        document.querySelector('#df-2fe3cdfd-5342-4917-afe5-b094ad8f0ebf button.colab-df-convert');\n",
       "      buttonEl.style.display =\n",
       "        google.colab.kernel.accessAllowed ? 'block' : 'none';\n",
       "\n",
       "      async function convertToInteractive(key) {\n",
       "        const element = document.querySelector('#df-2fe3cdfd-5342-4917-afe5-b094ad8f0ebf');\n",
       "        const dataTable =\n",
       "          await google.colab.kernel.invokeFunction('convertToInteractive',\n",
       "                                                    [key], {});\n",
       "        if (!dataTable) return;\n",
       "\n",
       "        const docLinkHtml = 'Like what you see? Visit the ' +\n",
       "          '<a target=\"_blank\" href=https://colab.research.google.com/notebooks/data_table.ipynb>data table notebook</a>'\n",
       "          + ' to learn more about interactive tables.';\n",
       "        element.innerHTML = '';\n",
       "        dataTable['output_type'] = 'display_data';\n",
       "        await google.colab.output.renderOutput(dataTable, element);\n",
       "        const docLink = document.createElement('div');\n",
       "        docLink.innerHTML = docLinkHtml;\n",
       "        element.appendChild(docLink);\n",
       "      }\n",
       "    </script>\n",
       "  </div>\n",
       "\n",
       "\n",
       "<div id=\"df-9001650d-2f63-4ee0-9586-e59e6b58304c\">\n",
       "  <button class=\"colab-df-quickchart\" onclick=\"quickchart('df-9001650d-2f63-4ee0-9586-e59e6b58304c')\"\n",
       "            title=\"Suggest charts.\"\n",
       "            style=\"display:none;\">\n",
       "\n",
       "<svg xmlns=\"http://www.w3.org/2000/svg\" height=\"24px\"viewBox=\"0 0 24 24\"\n",
       "     width=\"24px\">\n",
       "    <g>\n",
       "        <path d=\"M19 3H5c-1.1 0-2 .9-2 2v14c0 1.1.9 2 2 2h14c1.1 0 2-.9 2-2V5c0-1.1-.9-2-2-2zM9 17H7v-7h2v7zm4 0h-2V7h2v10zm4 0h-2v-4h2v4z\"/>\n",
       "    </g>\n",
       "</svg>\n",
       "  </button>\n",
       "\n",
       "<style>\n",
       "  .colab-df-quickchart {\n",
       "      --bg-color: #E8F0FE;\n",
       "      --fill-color: #1967D2;\n",
       "      --hover-bg-color: #E2EBFA;\n",
       "      --hover-fill-color: #174EA6;\n",
       "      --disabled-fill-color: #AAA;\n",
       "      --disabled-bg-color: #DDD;\n",
       "  }\n",
       "\n",
       "  [theme=dark] .colab-df-quickchart {\n",
       "      --bg-color: #3B4455;\n",
       "      --fill-color: #D2E3FC;\n",
       "      --hover-bg-color: #434B5C;\n",
       "      --hover-fill-color: #FFFFFF;\n",
       "      --disabled-bg-color: #3B4455;\n",
       "      --disabled-fill-color: #666;\n",
       "  }\n",
       "\n",
       "  .colab-df-quickchart {\n",
       "    background-color: var(--bg-color);\n",
       "    border: none;\n",
       "    border-radius: 50%;\n",
       "    cursor: pointer;\n",
       "    display: none;\n",
       "    fill: var(--fill-color);\n",
       "    height: 32px;\n",
       "    padding: 0;\n",
       "    width: 32px;\n",
       "  }\n",
       "\n",
       "  .colab-df-quickchart:hover {\n",
       "    background-color: var(--hover-bg-color);\n",
       "    box-shadow: 0 1px 2px rgba(60, 64, 67, 0.3), 0 1px 3px 1px rgba(60, 64, 67, 0.15);\n",
       "    fill: var(--button-hover-fill-color);\n",
       "  }\n",
       "\n",
       "  .colab-df-quickchart-complete:disabled,\n",
       "  .colab-df-quickchart-complete:disabled:hover {\n",
       "    background-color: var(--disabled-bg-color);\n",
       "    fill: var(--disabled-fill-color);\n",
       "    box-shadow: none;\n",
       "  }\n",
       "\n",
       "  .colab-df-spinner {\n",
       "    border: 2px solid var(--fill-color);\n",
       "    border-color: transparent;\n",
       "    border-bottom-color: var(--fill-color);\n",
       "    animation:\n",
       "      spin 1s steps(1) infinite;\n",
       "  }\n",
       "\n",
       "  @keyframes spin {\n",
       "    0% {\n",
       "      border-color: transparent;\n",
       "      border-bottom-color: var(--fill-color);\n",
       "      border-left-color: var(--fill-color);\n",
       "    }\n",
       "    20% {\n",
       "      border-color: transparent;\n",
       "      border-left-color: var(--fill-color);\n",
       "      border-top-color: var(--fill-color);\n",
       "    }\n",
       "    30% {\n",
       "      border-color: transparent;\n",
       "      border-left-color: var(--fill-color);\n",
       "      border-top-color: var(--fill-color);\n",
       "      border-right-color: var(--fill-color);\n",
       "    }\n",
       "    40% {\n",
       "      border-color: transparent;\n",
       "      border-right-color: var(--fill-color);\n",
       "      border-top-color: var(--fill-color);\n",
       "    }\n",
       "    60% {\n",
       "      border-color: transparent;\n",
       "      border-right-color: var(--fill-color);\n",
       "    }\n",
       "    80% {\n",
       "      border-color: transparent;\n",
       "      border-right-color: var(--fill-color);\n",
       "      border-bottom-color: var(--fill-color);\n",
       "    }\n",
       "    90% {\n",
       "      border-color: transparent;\n",
       "      border-bottom-color: var(--fill-color);\n",
       "    }\n",
       "  }\n",
       "</style>\n",
       "\n",
       "  <script>\n",
       "    async function quickchart(key) {\n",
       "      const quickchartButtonEl =\n",
       "        document.querySelector('#' + key + ' button');\n",
       "      quickchartButtonEl.disabled = true;  // To prevent multiple clicks.\n",
       "      quickchartButtonEl.classList.add('colab-df-spinner');\n",
       "      try {\n",
       "        const charts = await google.colab.kernel.invokeFunction(\n",
       "            'suggestCharts', [key], {});\n",
       "      } catch (error) {\n",
       "        console.error('Error during call to suggestCharts:', error);\n",
       "      }\n",
       "      quickchartButtonEl.classList.remove('colab-df-spinner');\n",
       "      quickchartButtonEl.classList.add('colab-df-quickchart-complete');\n",
       "    }\n",
       "    (() => {\n",
       "      let quickchartButtonEl =\n",
       "        document.querySelector('#df-9001650d-2f63-4ee0-9586-e59e6b58304c button');\n",
       "      quickchartButtonEl.style.display =\n",
       "        google.colab.kernel.accessAllowed ? 'block' : 'none';\n",
       "    })();\n",
       "  </script>\n",
       "</div>\n",
       "    </div>\n",
       "  </div>\n"
      ],
      "text/plain": [
       "       folio  tag  folio_solicitud fecha marca modelo plazo  precio  enganche  \\\n",
       "0          3  NaN               30   NaN   NaN    NaN   NaN  1949.0     780.0   \n",
       "1          4  NaN               33   NaN   NaN    NaN   NaN  2999.0    1050.0   \n",
       "2          5  NaN               37   NaN   NaN    NaN   NaN  1959.0     490.0   \n",
       "3          6  NaN               38   NaN   NaN    NaN   NaN  1959.0     490.0   \n",
       "4          7  NaN               44   NaN   NaN    NaN   NaN  4299.0    1075.0   \n",
       "...      ...  ...              ...   ...   ...    ...   ...     ...       ...   \n",
       "22730  22967  NaN            96502   NaN   NaN    NaN   NaN  3349.0     297.0   \n",
       "22731  22968  NaN            96479   NaN   NaN    NaN   NaN  4100.0    1209.0   \n",
       "22732  22969  NaN            96442   NaN   NaN    NaN   NaN  4849.0    1152.0   \n",
       "22733  22970  NaN            96536   NaN   NaN    NaN   NaN     NaN       NaN   \n",
       "22734  22971  NaN            96534   NaN   NaN    NaN   NaN  5399.0    1086.0   \n",
       "\n",
       "       descuento  ...  porc_eng  limite_credito  semana_actual  cp_cliente  \\\n",
       "0            0.0  ...       NaN             NaN           26.0         NaN   \n",
       "1            0.0  ...     35.01             NaN           13.0         NaN   \n",
       "2            0.0  ...     25.01             NaN            NaN         NaN   \n",
       "3            0.0  ...     25.01             NaN           13.0         NaN   \n",
       "4            0.0  ...     25.01             NaN            NaN         NaN   \n",
       "...          ...  ...       ...             ...            ...         ...   \n",
       "22730        0.0  ...      8.87             NaN            0.0         NaN   \n",
       "22731        0.0  ...     29.49             NaN            0.0         NaN   \n",
       "22732        0.0  ...     23.76             NaN            0.0         NaN   \n",
       "22733        0.0  ...     28.56             NaN            0.0         NaN   \n",
       "22734        0.0  ...     20.11             NaN            0.0         NaN   \n",
       "\n",
       "      edad_cliente cd_cliente  edo_cliente  cd_venta edo_venta  curp  \n",
       "0             23.0        NaN          NaN       NaN       NaN   NaN  \n",
       "1             60.0        NaN          NaN       NaN       NaN   NaN  \n",
       "2             58.0        NaN          NaN       NaN       NaN   NaN  \n",
       "3             42.0        NaN          NaN       NaN       NaN   NaN  \n",
       "4             33.0        NaN          NaN       NaN       NaN   NaN  \n",
       "...            ...        ...          ...       ...       ...   ...  \n",
       "22730         22.0        NaN          NaN       NaN       NaN   NaN  \n",
       "22731         27.0        NaN          NaN       NaN       NaN   NaN  \n",
       "22732         36.0        NaN          NaN       NaN       NaN   NaN  \n",
       "22733         53.0        NaN          NaN       NaN       NaN   NaN  \n",
       "22734         19.0        NaN          NaN       NaN       NaN   NaN  \n",
       "\n",
       "[22735 rows x 39 columns]"
      ]
     },
     "execution_count": 585,
     "metadata": {},
     "output_type": "execute_result"
    }
   ],
   "source": [
    "dfL= df[(y<=Limite_Superior)&(y>=Limite_Inferior)]\n",
    "dfL"
   ]
  },
  {
   "cell_type": "code",
   "execution_count": 586,
   "metadata": {
    "colab": {
     "base_uri": "https://localhost:8080/"
    },
    "id": "wToKCHgyuaLt",
    "outputId": "90045548-64e0-474c-81ac-51ba81393410"
   },
   "outputs": [
    {
     "data": {
      "text/plain": [
       "folio                     0\n",
       "tag                   22735\n",
       "folio_solicitud           0\n",
       "fecha                 22735\n",
       "marca                 22735\n",
       "modelo                22735\n",
       "plazo                 22735\n",
       "precio                  309\n",
       "enganche                871\n",
       "descuento                 0\n",
       "semana                  946\n",
       "monto_financiado        497\n",
       "costo_total             787\n",
       "monto_accesorios       1854\n",
       "agente_venta          22735\n",
       "dis_venta             22735\n",
       "status                 5649\n",
       "fraude                 1701\n",
       "empresa               22735\n",
       "inversion              5379\n",
       "pagos_realizados        534\n",
       "reautorizacion          774\n",
       "fecha_ultimo_pago     22735\n",
       "fecha_pago_proximo    22735\n",
       "status_cuenta         22735\n",
       "puntos                 7044\n",
       "riesgo                   70\n",
       "score_buro                0\n",
       "razones_buro          22735\n",
       "porc_eng                959\n",
       "limite_credito        22735\n",
       "semana_actual          1029\n",
       "cp_cliente            22735\n",
       "edad_cliente            283\n",
       "cd_cliente            22735\n",
       "edo_cliente           22735\n",
       "cd_venta              22735\n",
       "edo_venta             22735\n",
       "curp                  22735\n",
       "dtype: int64"
      ]
     },
     "execution_count": 586,
     "metadata": {},
     "output_type": "execute_result"
    }
   ],
   "source": [
    "dfL.isnull().sum()"
   ]
  },
  {
   "cell_type": "code",
   "execution_count": 587,
   "metadata": {
    "colab": {
     "base_uri": "https://localhost:8080/",
     "height": 443
    },
    "id": "HhDGSt8AyNvg",
    "outputId": "e6994f2e-59a0-4cb6-ac50-6e8d3dbfdb5b"
   },
   "outputs": [
    {
     "data": {
      "text/html": [
       "\n",
       "  <div id=\"df-85120393-49d3-4463-a8ae-76d239558cea\" class=\"colab-df-container\">\n",
       "    <div>\n",
       "<style scoped>\n",
       "    .dataframe tbody tr th:only-of-type {\n",
       "        vertical-align: middle;\n",
       "    }\n",
       "\n",
       "    .dataframe tbody tr th {\n",
       "        vertical-align: top;\n",
       "    }\n",
       "\n",
       "    .dataframe thead th {\n",
       "        text-align: right;\n",
       "    }\n",
       "</style>\n",
       "<table border=\"1\" class=\"dataframe\">\n",
       "  <thead>\n",
       "    <tr style=\"text-align: right;\">\n",
       "      <th></th>\n",
       "      <th>folio</th>\n",
       "      <th>folio_solicitud</th>\n",
       "      <th>precio</th>\n",
       "      <th>enganche</th>\n",
       "      <th>descuento</th>\n",
       "      <th>semana</th>\n",
       "      <th>monto_financiado</th>\n",
       "      <th>costo_total</th>\n",
       "      <th>monto_accesorios</th>\n",
       "      <th>status</th>\n",
       "      <th>fraude</th>\n",
       "      <th>inversion</th>\n",
       "      <th>pagos_realizados</th>\n",
       "      <th>reautorizacion</th>\n",
       "      <th>puntos</th>\n",
       "      <th>riesgo</th>\n",
       "      <th>score_buro</th>\n",
       "      <th>porc_eng</th>\n",
       "      <th>semana_actual</th>\n",
       "      <th>edad_cliente</th>\n",
       "    </tr>\n",
       "  </thead>\n",
       "  <tbody>\n",
       "    <tr>\n",
       "      <th>0</th>\n",
       "      <td>3</td>\n",
       "      <td>30</td>\n",
       "      <td>1949.0</td>\n",
       "      <td>780.0</td>\n",
       "      <td>0.0</td>\n",
       "      <td>81</td>\n",
       "      <td>1169.0</td>\n",
       "      <td>2106</td>\n",
       "      <td>0.0</td>\n",
       "      <td>2</td>\n",
       "      <td>0</td>\n",
       "      <td>0</td>\n",
       "      <td>0</td>\n",
       "      <td>0</td>\n",
       "      <td>0</td>\n",
       "      <td>0.00</td>\n",
       "      <td>0</td>\n",
       "      <td>40.02</td>\n",
       "      <td>26</td>\n",
       "      <td>23.0</td>\n",
       "    </tr>\n",
       "    <tr>\n",
       "      <th>1</th>\n",
       "      <td>4</td>\n",
       "      <td>33</td>\n",
       "      <td>2999.0</td>\n",
       "      <td>1050.0</td>\n",
       "      <td>0.0</td>\n",
       "      <td>225</td>\n",
       "      <td>1949.0</td>\n",
       "      <td>2925</td>\n",
       "      <td>0.0</td>\n",
       "      <td>2</td>\n",
       "      <td>0</td>\n",
       "      <td>0</td>\n",
       "      <td>0</td>\n",
       "      <td>0</td>\n",
       "      <td>0</td>\n",
       "      <td>0.00</td>\n",
       "      <td>0</td>\n",
       "      <td>35.01</td>\n",
       "      <td>13</td>\n",
       "      <td>60.0</td>\n",
       "    </tr>\n",
       "    <tr>\n",
       "      <th>2</th>\n",
       "      <td>5</td>\n",
       "      <td>37</td>\n",
       "      <td>1959.0</td>\n",
       "      <td>490.0</td>\n",
       "      <td>0.0</td>\n",
       "      <td>170</td>\n",
       "      <td>1469.0</td>\n",
       "      <td>2210</td>\n",
       "      <td>0.0</td>\n",
       "      <td>3</td>\n",
       "      <td>0</td>\n",
       "      <td>0</td>\n",
       "      <td>0</td>\n",
       "      <td>0</td>\n",
       "      <td>0</td>\n",
       "      <td>0.00</td>\n",
       "      <td>0</td>\n",
       "      <td>25.01</td>\n",
       "      <td>74</td>\n",
       "      <td>58.0</td>\n",
       "    </tr>\n",
       "    <tr>\n",
       "      <th>3</th>\n",
       "      <td>6</td>\n",
       "      <td>38</td>\n",
       "      <td>1959.0</td>\n",
       "      <td>490.0</td>\n",
       "      <td>0.0</td>\n",
       "      <td>170</td>\n",
       "      <td>1469.0</td>\n",
       "      <td>2210</td>\n",
       "      <td>0.0</td>\n",
       "      <td>2</td>\n",
       "      <td>0</td>\n",
       "      <td>0</td>\n",
       "      <td>0</td>\n",
       "      <td>0</td>\n",
       "      <td>0</td>\n",
       "      <td>0.00</td>\n",
       "      <td>0</td>\n",
       "      <td>25.01</td>\n",
       "      <td>13</td>\n",
       "      <td>42.0</td>\n",
       "    </tr>\n",
       "    <tr>\n",
       "      <th>4</th>\n",
       "      <td>7</td>\n",
       "      <td>44</td>\n",
       "      <td>4299.0</td>\n",
       "      <td>1075.0</td>\n",
       "      <td>0.0</td>\n",
       "      <td>178</td>\n",
       "      <td>3224.0</td>\n",
       "      <td>6942</td>\n",
       "      <td>0.0</td>\n",
       "      <td>1</td>\n",
       "      <td>0</td>\n",
       "      <td>0</td>\n",
       "      <td>0</td>\n",
       "      <td>0</td>\n",
       "      <td>0</td>\n",
       "      <td>0.00</td>\n",
       "      <td>0</td>\n",
       "      <td>25.01</td>\n",
       "      <td>74</td>\n",
       "      <td>33.0</td>\n",
       "    </tr>\n",
       "    <tr>\n",
       "      <th>...</th>\n",
       "      <td>...</td>\n",
       "      <td>...</td>\n",
       "      <td>...</td>\n",
       "      <td>...</td>\n",
       "      <td>...</td>\n",
       "      <td>...</td>\n",
       "      <td>...</td>\n",
       "      <td>...</td>\n",
       "      <td>...</td>\n",
       "      <td>...</td>\n",
       "      <td>...</td>\n",
       "      <td>...</td>\n",
       "      <td>...</td>\n",
       "      <td>...</td>\n",
       "      <td>...</td>\n",
       "      <td>...</td>\n",
       "      <td>...</td>\n",
       "      <td>...</td>\n",
       "      <td>...</td>\n",
       "      <td>...</td>\n",
       "    </tr>\n",
       "    <tr>\n",
       "      <th>22730</th>\n",
       "      <td>22967</td>\n",
       "      <td>96502</td>\n",
       "      <td>3349.0</td>\n",
       "      <td>297.0</td>\n",
       "      <td>0.0</td>\n",
       "      <td>211</td>\n",
       "      <td>3052.0</td>\n",
       "      <td>5486</td>\n",
       "      <td>0.0</td>\n",
       "      <td>1</td>\n",
       "      <td>0</td>\n",
       "      <td>0</td>\n",
       "      <td>0</td>\n",
       "      <td>0</td>\n",
       "      <td>10</td>\n",
       "      <td>27.40</td>\n",
       "      <td>469</td>\n",
       "      <td>8.87</td>\n",
       "      <td>0</td>\n",
       "      <td>22.0</td>\n",
       "    </tr>\n",
       "    <tr>\n",
       "      <th>22731</th>\n",
       "      <td>22968</td>\n",
       "      <td>96479</td>\n",
       "      <td>4100.0</td>\n",
       "      <td>1209.0</td>\n",
       "      <td>0.0</td>\n",
       "      <td>200</td>\n",
       "      <td>2891.0</td>\n",
       "      <td>5200</td>\n",
       "      <td>0.0</td>\n",
       "      <td>1</td>\n",
       "      <td>0</td>\n",
       "      <td>0</td>\n",
       "      <td>0</td>\n",
       "      <td>0</td>\n",
       "      <td>9</td>\n",
       "      <td>19.00</td>\n",
       "      <td>502</td>\n",
       "      <td>29.49</td>\n",
       "      <td>0</td>\n",
       "      <td>27.0</td>\n",
       "    </tr>\n",
       "    <tr>\n",
       "      <th>22732</th>\n",
       "      <td>22969</td>\n",
       "      <td>96442</td>\n",
       "      <td>4849.0</td>\n",
       "      <td>1152.0</td>\n",
       "      <td>0.0</td>\n",
       "      <td>256</td>\n",
       "      <td>3697.0</td>\n",
       "      <td>6656</td>\n",
       "      <td>0.0</td>\n",
       "      <td>1</td>\n",
       "      <td>0</td>\n",
       "      <td>0</td>\n",
       "      <td>0</td>\n",
       "      <td>0</td>\n",
       "      <td>11</td>\n",
       "      <td>26.65</td>\n",
       "      <td>459</td>\n",
       "      <td>23.76</td>\n",
       "      <td>0</td>\n",
       "      <td>36.0</td>\n",
       "    </tr>\n",
       "    <tr>\n",
       "      <th>22733</th>\n",
       "      <td>22970</td>\n",
       "      <td>96536</td>\n",
       "      <td>9799.0</td>\n",
       "      <td>2799.0</td>\n",
       "      <td>0.0</td>\n",
       "      <td>386</td>\n",
       "      <td>7000.0</td>\n",
       "      <td>15054</td>\n",
       "      <td>0.0</td>\n",
       "      <td>1</td>\n",
       "      <td>0</td>\n",
       "      <td>0</td>\n",
       "      <td>0</td>\n",
       "      <td>0</td>\n",
       "      <td>14</td>\n",
       "      <td>-17.35</td>\n",
       "      <td>699</td>\n",
       "      <td>28.56</td>\n",
       "      <td>0</td>\n",
       "      <td>53.0</td>\n",
       "    </tr>\n",
       "    <tr>\n",
       "      <th>22734</th>\n",
       "      <td>22971</td>\n",
       "      <td>96534</td>\n",
       "      <td>5399.0</td>\n",
       "      <td>1086.0</td>\n",
       "      <td>0.0</td>\n",
       "      <td>299</td>\n",
       "      <td>4313.0</td>\n",
       "      <td>7774</td>\n",
       "      <td>0.0</td>\n",
       "      <td>1</td>\n",
       "      <td>0</td>\n",
       "      <td>1</td>\n",
       "      <td>0</td>\n",
       "      <td>0</td>\n",
       "      <td>12</td>\n",
       "      <td>21.80</td>\n",
       "      <td>0</td>\n",
       "      <td>20.11</td>\n",
       "      <td>0</td>\n",
       "      <td>19.0</td>\n",
       "    </tr>\n",
       "  </tbody>\n",
       "</table>\n",
       "<p>22735 rows × 20 columns</p>\n",
       "</div>\n",
       "    <div class=\"colab-df-buttons\">\n",
       "\n",
       "  <div class=\"colab-df-container\">\n",
       "    <button class=\"colab-df-convert\" onclick=\"convertToInteractive('df-85120393-49d3-4463-a8ae-76d239558cea')\"\n",
       "            title=\"Convert this dataframe to an interactive table.\"\n",
       "            style=\"display:none;\">\n",
       "\n",
       "  <svg xmlns=\"http://www.w3.org/2000/svg\" height=\"24px\" viewBox=\"0 -960 960 960\">\n",
       "    <path d=\"M120-120v-720h720v720H120Zm60-500h600v-160H180v160Zm220 220h160v-160H400v160Zm0 220h160v-160H400v160ZM180-400h160v-160H180v160Zm440 0h160v-160H620v160ZM180-180h160v-160H180v160Zm440 0h160v-160H620v160Z\"/>\n",
       "  </svg>\n",
       "    </button>\n",
       "\n",
       "  <style>\n",
       "    .colab-df-container {\n",
       "      display:flex;\n",
       "      gap: 12px;\n",
       "    }\n",
       "\n",
       "    .colab-df-convert {\n",
       "      background-color: #E8F0FE;\n",
       "      border: none;\n",
       "      border-radius: 50%;\n",
       "      cursor: pointer;\n",
       "      display: none;\n",
       "      fill: #1967D2;\n",
       "      height: 32px;\n",
       "      padding: 0 0 0 0;\n",
       "      width: 32px;\n",
       "    }\n",
       "\n",
       "    .colab-df-convert:hover {\n",
       "      background-color: #E2EBFA;\n",
       "      box-shadow: 0px 1px 2px rgba(60, 64, 67, 0.3), 0px 1px 3px 1px rgba(60, 64, 67, 0.15);\n",
       "      fill: #174EA6;\n",
       "    }\n",
       "\n",
       "    .colab-df-buttons div {\n",
       "      margin-bottom: 4px;\n",
       "    }\n",
       "\n",
       "    [theme=dark] .colab-df-convert {\n",
       "      background-color: #3B4455;\n",
       "      fill: #D2E3FC;\n",
       "    }\n",
       "\n",
       "    [theme=dark] .colab-df-convert:hover {\n",
       "      background-color: #434B5C;\n",
       "      box-shadow: 0px 1px 3px 1px rgba(0, 0, 0, 0.15);\n",
       "      filter: drop-shadow(0px 1px 2px rgba(0, 0, 0, 0.3));\n",
       "      fill: #FFFFFF;\n",
       "    }\n",
       "  </style>\n",
       "\n",
       "    <script>\n",
       "      const buttonEl =\n",
       "        document.querySelector('#df-85120393-49d3-4463-a8ae-76d239558cea button.colab-df-convert');\n",
       "      buttonEl.style.display =\n",
       "        google.colab.kernel.accessAllowed ? 'block' : 'none';\n",
       "\n",
       "      async function convertToInteractive(key) {\n",
       "        const element = document.querySelector('#df-85120393-49d3-4463-a8ae-76d239558cea');\n",
       "        const dataTable =\n",
       "          await google.colab.kernel.invokeFunction('convertToInteractive',\n",
       "                                                    [key], {});\n",
       "        if (!dataTable) return;\n",
       "\n",
       "        const docLinkHtml = 'Like what you see? Visit the ' +\n",
       "          '<a target=\"_blank\" href=https://colab.research.google.com/notebooks/data_table.ipynb>data table notebook</a>'\n",
       "          + ' to learn more about interactive tables.';\n",
       "        element.innerHTML = '';\n",
       "        dataTable['output_type'] = 'display_data';\n",
       "        await google.colab.output.renderOutput(dataTable, element);\n",
       "        const docLink = document.createElement('div');\n",
       "        docLink.innerHTML = docLinkHtml;\n",
       "        element.appendChild(docLink);\n",
       "      }\n",
       "    </script>\n",
       "  </div>\n",
       "\n",
       "\n",
       "<div id=\"df-e4c6bf58-ea21-4010-bc63-23d8811e6335\">\n",
       "  <button class=\"colab-df-quickchart\" onclick=\"quickchart('df-e4c6bf58-ea21-4010-bc63-23d8811e6335')\"\n",
       "            title=\"Suggest charts.\"\n",
       "            style=\"display:none;\">\n",
       "\n",
       "<svg xmlns=\"http://www.w3.org/2000/svg\" height=\"24px\"viewBox=\"0 0 24 24\"\n",
       "     width=\"24px\">\n",
       "    <g>\n",
       "        <path d=\"M19 3H5c-1.1 0-2 .9-2 2v14c0 1.1.9 2 2 2h14c1.1 0 2-.9 2-2V5c0-1.1-.9-2-2-2zM9 17H7v-7h2v7zm4 0h-2V7h2v10zm4 0h-2v-4h2v4z\"/>\n",
       "    </g>\n",
       "</svg>\n",
       "  </button>\n",
       "\n",
       "<style>\n",
       "  .colab-df-quickchart {\n",
       "      --bg-color: #E8F0FE;\n",
       "      --fill-color: #1967D2;\n",
       "      --hover-bg-color: #E2EBFA;\n",
       "      --hover-fill-color: #174EA6;\n",
       "      --disabled-fill-color: #AAA;\n",
       "      --disabled-bg-color: #DDD;\n",
       "  }\n",
       "\n",
       "  [theme=dark] .colab-df-quickchart {\n",
       "      --bg-color: #3B4455;\n",
       "      --fill-color: #D2E3FC;\n",
       "      --hover-bg-color: #434B5C;\n",
       "      --hover-fill-color: #FFFFFF;\n",
       "      --disabled-bg-color: #3B4455;\n",
       "      --disabled-fill-color: #666;\n",
       "  }\n",
       "\n",
       "  .colab-df-quickchart {\n",
       "    background-color: var(--bg-color);\n",
       "    border: none;\n",
       "    border-radius: 50%;\n",
       "    cursor: pointer;\n",
       "    display: none;\n",
       "    fill: var(--fill-color);\n",
       "    height: 32px;\n",
       "    padding: 0;\n",
       "    width: 32px;\n",
       "  }\n",
       "\n",
       "  .colab-df-quickchart:hover {\n",
       "    background-color: var(--hover-bg-color);\n",
       "    box-shadow: 0 1px 2px rgba(60, 64, 67, 0.3), 0 1px 3px 1px rgba(60, 64, 67, 0.15);\n",
       "    fill: var(--button-hover-fill-color);\n",
       "  }\n",
       "\n",
       "  .colab-df-quickchart-complete:disabled,\n",
       "  .colab-df-quickchart-complete:disabled:hover {\n",
       "    background-color: var(--disabled-bg-color);\n",
       "    fill: var(--disabled-fill-color);\n",
       "    box-shadow: none;\n",
       "  }\n",
       "\n",
       "  .colab-df-spinner {\n",
       "    border: 2px solid var(--fill-color);\n",
       "    border-color: transparent;\n",
       "    border-bottom-color: var(--fill-color);\n",
       "    animation:\n",
       "      spin 1s steps(1) infinite;\n",
       "  }\n",
       "\n",
       "  @keyframes spin {\n",
       "    0% {\n",
       "      border-color: transparent;\n",
       "      border-bottom-color: var(--fill-color);\n",
       "      border-left-color: var(--fill-color);\n",
       "    }\n",
       "    20% {\n",
       "      border-color: transparent;\n",
       "      border-left-color: var(--fill-color);\n",
       "      border-top-color: var(--fill-color);\n",
       "    }\n",
       "    30% {\n",
       "      border-color: transparent;\n",
       "      border-left-color: var(--fill-color);\n",
       "      border-top-color: var(--fill-color);\n",
       "      border-right-color: var(--fill-color);\n",
       "    }\n",
       "    40% {\n",
       "      border-color: transparent;\n",
       "      border-right-color: var(--fill-color);\n",
       "      border-top-color: var(--fill-color);\n",
       "    }\n",
       "    60% {\n",
       "      border-color: transparent;\n",
       "      border-right-color: var(--fill-color);\n",
       "    }\n",
       "    80% {\n",
       "      border-color: transparent;\n",
       "      border-right-color: var(--fill-color);\n",
       "      border-bottom-color: var(--fill-color);\n",
       "    }\n",
       "    90% {\n",
       "      border-color: transparent;\n",
       "      border-bottom-color: var(--fill-color);\n",
       "    }\n",
       "  }\n",
       "</style>\n",
       "\n",
       "  <script>\n",
       "    async function quickchart(key) {\n",
       "      const quickchartButtonEl =\n",
       "        document.querySelector('#' + key + ' button');\n",
       "      quickchartButtonEl.disabled = true;  // To prevent multiple clicks.\n",
       "      quickchartButtonEl.classList.add('colab-df-spinner');\n",
       "      try {\n",
       "        const charts = await google.colab.kernel.invokeFunction(\n",
       "            'suggestCharts', [key], {});\n",
       "      } catch (error) {\n",
       "        console.error('Error during call to suggestCharts:', error);\n",
       "      }\n",
       "      quickchartButtonEl.classList.remove('colab-df-spinner');\n",
       "      quickchartButtonEl.classList.add('colab-df-quickchart-complete');\n",
       "    }\n",
       "    (() => {\n",
       "      let quickchartButtonEl =\n",
       "        document.querySelector('#df-e4c6bf58-ea21-4010-bc63-23d8811e6335 button');\n",
       "      quickchartButtonEl.style.display =\n",
       "        google.colab.kernel.accessAllowed ? 'block' : 'none';\n",
       "    })();\n",
       "  </script>\n",
       "</div>\n",
       "    </div>\n",
       "  </div>\n"
      ],
      "text/plain": [
       "       folio  folio_solicitud  precio  enganche  descuento  semana  \\\n",
       "0          3               30  1949.0     780.0        0.0      81   \n",
       "1          4               33  2999.0    1050.0        0.0     225   \n",
       "2          5               37  1959.0     490.0        0.0     170   \n",
       "3          6               38  1959.0     490.0        0.0     170   \n",
       "4          7               44  4299.0    1075.0        0.0     178   \n",
       "...      ...              ...     ...       ...        ...     ...   \n",
       "22730  22967            96502  3349.0     297.0        0.0     211   \n",
       "22731  22968            96479  4100.0    1209.0        0.0     200   \n",
       "22732  22969            96442  4849.0    1152.0        0.0     256   \n",
       "22733  22970            96536  9799.0    2799.0        0.0     386   \n",
       "22734  22971            96534  5399.0    1086.0        0.0     299   \n",
       "\n",
       "       monto_financiado  costo_total  monto_accesorios  status  fraude  \\\n",
       "0                1169.0         2106               0.0       2       0   \n",
       "1                1949.0         2925               0.0       2       0   \n",
       "2                1469.0         2210               0.0       3       0   \n",
       "3                1469.0         2210               0.0       2       0   \n",
       "4                3224.0         6942               0.0       1       0   \n",
       "...                 ...          ...               ...     ...     ...   \n",
       "22730            3052.0         5486               0.0       1       0   \n",
       "22731            2891.0         5200               0.0       1       0   \n",
       "22732            3697.0         6656               0.0       1       0   \n",
       "22733            7000.0        15054               0.0       1       0   \n",
       "22734            4313.0         7774               0.0       1       0   \n",
       "\n",
       "       inversion  pagos_realizados  reautorizacion  puntos  riesgo  \\\n",
       "0              0                 0               0       0    0.00   \n",
       "1              0                 0               0       0    0.00   \n",
       "2              0                 0               0       0    0.00   \n",
       "3              0                 0               0       0    0.00   \n",
       "4              0                 0               0       0    0.00   \n",
       "...          ...               ...             ...     ...     ...   \n",
       "22730          0                 0               0      10   27.40   \n",
       "22731          0                 0               0       9   19.00   \n",
       "22732          0                 0               0      11   26.65   \n",
       "22733          0                 0               0      14  -17.35   \n",
       "22734          1                 0               0      12   21.80   \n",
       "\n",
       "       score_buro  porc_eng  semana_actual  edad_cliente  \n",
       "0               0     40.02             26          23.0  \n",
       "1               0     35.01             13          60.0  \n",
       "2               0     25.01             74          58.0  \n",
       "3               0     25.01             13          42.0  \n",
       "4               0     25.01             74          33.0  \n",
       "...           ...       ...            ...           ...  \n",
       "22730         469      8.87              0          22.0  \n",
       "22731         502     29.49              0          27.0  \n",
       "22732         459     23.76              0          36.0  \n",
       "22733         699     28.56              0          53.0  \n",
       "22734           0     20.11              0          19.0  \n",
       "\n",
       "[22735 rows x 20 columns]"
      ]
     },
     "execution_count": 587,
     "metadata": {},
     "output_type": "execute_result"
    }
   ],
   "source": [
    "dfL= df.drop(['tag', 'fecha', 'marca', 'modelo', 'plazo', 'agente_venta', 'dis_venta', 'empresa', 'fecha_ultimo_pago', 'fecha_pago_proximo', 'status_cuenta', 'razones_buro', 'limite_credito', 'cp_cliente', 'cd_cliente', 'edo_cliente', 'cd_venta', 'edo_venta', 'curp'], axis=1)\n",
    "dfL"
   ]
  },
  {
   "cell_type": "code",
   "execution_count": 588,
   "metadata": {
    "colab": {
     "base_uri": "https://localhost:8080/",
     "height": 478
    },
    "id": "Pj3OeKsuyWxP",
    "outputId": "26a5a77b-de33-45f3-edc5-3af49405bf6b"
   },
   "outputs": [
    {
     "name": "stderr",
     "output_type": "stream",
     "text": [
      "<ipython-input-588-1d5d672020da>:1: FutureWarning: The default value of numeric_only in DataFrame.mean is deprecated. In a future version, it will default to False. In addition, specifying 'numeric_only=None' is deprecated. Select only valid columns or specify the value of numeric_only to silence this warning.\n",
      "  dfL = dfL.fillna(df.mean())\n"
     ]
    },
    {
     "data": {
      "text/html": [
       "\n",
       "  <div id=\"df-0524a537-d75c-4453-aa80-66fa740d29df\" class=\"colab-df-container\">\n",
       "    <div>\n",
       "<style scoped>\n",
       "    .dataframe tbody tr th:only-of-type {\n",
       "        vertical-align: middle;\n",
       "    }\n",
       "\n",
       "    .dataframe tbody tr th {\n",
       "        vertical-align: top;\n",
       "    }\n",
       "\n",
       "    .dataframe thead th {\n",
       "        text-align: right;\n",
       "    }\n",
       "</style>\n",
       "<table border=\"1\" class=\"dataframe\">\n",
       "  <thead>\n",
       "    <tr style=\"text-align: right;\">\n",
       "      <th></th>\n",
       "      <th>folio</th>\n",
       "      <th>folio_solicitud</th>\n",
       "      <th>precio</th>\n",
       "      <th>enganche</th>\n",
       "      <th>descuento</th>\n",
       "      <th>semana</th>\n",
       "      <th>monto_financiado</th>\n",
       "      <th>costo_total</th>\n",
       "      <th>monto_accesorios</th>\n",
       "      <th>status</th>\n",
       "      <th>fraude</th>\n",
       "      <th>inversion</th>\n",
       "      <th>pagos_realizados</th>\n",
       "      <th>reautorizacion</th>\n",
       "      <th>puntos</th>\n",
       "      <th>riesgo</th>\n",
       "      <th>score_buro</th>\n",
       "      <th>porc_eng</th>\n",
       "      <th>semana_actual</th>\n",
       "      <th>edad_cliente</th>\n",
       "    </tr>\n",
       "  </thead>\n",
       "  <tbody>\n",
       "    <tr>\n",
       "      <th>0</th>\n",
       "      <td>3</td>\n",
       "      <td>30</td>\n",
       "      <td>1949.0</td>\n",
       "      <td>780.0</td>\n",
       "      <td>0.0</td>\n",
       "      <td>81</td>\n",
       "      <td>1169.0</td>\n",
       "      <td>2106</td>\n",
       "      <td>0.0</td>\n",
       "      <td>2</td>\n",
       "      <td>0</td>\n",
       "      <td>0</td>\n",
       "      <td>0</td>\n",
       "      <td>0</td>\n",
       "      <td>0</td>\n",
       "      <td>0.00</td>\n",
       "      <td>0</td>\n",
       "      <td>40.02</td>\n",
       "      <td>26</td>\n",
       "      <td>23.0</td>\n",
       "    </tr>\n",
       "    <tr>\n",
       "      <th>1</th>\n",
       "      <td>4</td>\n",
       "      <td>33</td>\n",
       "      <td>2999.0</td>\n",
       "      <td>1050.0</td>\n",
       "      <td>0.0</td>\n",
       "      <td>225</td>\n",
       "      <td>1949.0</td>\n",
       "      <td>2925</td>\n",
       "      <td>0.0</td>\n",
       "      <td>2</td>\n",
       "      <td>0</td>\n",
       "      <td>0</td>\n",
       "      <td>0</td>\n",
       "      <td>0</td>\n",
       "      <td>0</td>\n",
       "      <td>0.00</td>\n",
       "      <td>0</td>\n",
       "      <td>35.01</td>\n",
       "      <td>13</td>\n",
       "      <td>60.0</td>\n",
       "    </tr>\n",
       "    <tr>\n",
       "      <th>2</th>\n",
       "      <td>5</td>\n",
       "      <td>37</td>\n",
       "      <td>1959.0</td>\n",
       "      <td>490.0</td>\n",
       "      <td>0.0</td>\n",
       "      <td>170</td>\n",
       "      <td>1469.0</td>\n",
       "      <td>2210</td>\n",
       "      <td>0.0</td>\n",
       "      <td>3</td>\n",
       "      <td>0</td>\n",
       "      <td>0</td>\n",
       "      <td>0</td>\n",
       "      <td>0</td>\n",
       "      <td>0</td>\n",
       "      <td>0.00</td>\n",
       "      <td>0</td>\n",
       "      <td>25.01</td>\n",
       "      <td>74</td>\n",
       "      <td>58.0</td>\n",
       "    </tr>\n",
       "    <tr>\n",
       "      <th>3</th>\n",
       "      <td>6</td>\n",
       "      <td>38</td>\n",
       "      <td>1959.0</td>\n",
       "      <td>490.0</td>\n",
       "      <td>0.0</td>\n",
       "      <td>170</td>\n",
       "      <td>1469.0</td>\n",
       "      <td>2210</td>\n",
       "      <td>0.0</td>\n",
       "      <td>2</td>\n",
       "      <td>0</td>\n",
       "      <td>0</td>\n",
       "      <td>0</td>\n",
       "      <td>0</td>\n",
       "      <td>0</td>\n",
       "      <td>0.00</td>\n",
       "      <td>0</td>\n",
       "      <td>25.01</td>\n",
       "      <td>13</td>\n",
       "      <td>42.0</td>\n",
       "    </tr>\n",
       "    <tr>\n",
       "      <th>4</th>\n",
       "      <td>7</td>\n",
       "      <td>44</td>\n",
       "      <td>4299.0</td>\n",
       "      <td>1075.0</td>\n",
       "      <td>0.0</td>\n",
       "      <td>178</td>\n",
       "      <td>3224.0</td>\n",
       "      <td>6942</td>\n",
       "      <td>0.0</td>\n",
       "      <td>1</td>\n",
       "      <td>0</td>\n",
       "      <td>0</td>\n",
       "      <td>0</td>\n",
       "      <td>0</td>\n",
       "      <td>0</td>\n",
       "      <td>0.00</td>\n",
       "      <td>0</td>\n",
       "      <td>25.01</td>\n",
       "      <td>74</td>\n",
       "      <td>33.0</td>\n",
       "    </tr>\n",
       "    <tr>\n",
       "      <th>...</th>\n",
       "      <td>...</td>\n",
       "      <td>...</td>\n",
       "      <td>...</td>\n",
       "      <td>...</td>\n",
       "      <td>...</td>\n",
       "      <td>...</td>\n",
       "      <td>...</td>\n",
       "      <td>...</td>\n",
       "      <td>...</td>\n",
       "      <td>...</td>\n",
       "      <td>...</td>\n",
       "      <td>...</td>\n",
       "      <td>...</td>\n",
       "      <td>...</td>\n",
       "      <td>...</td>\n",
       "      <td>...</td>\n",
       "      <td>...</td>\n",
       "      <td>...</td>\n",
       "      <td>...</td>\n",
       "      <td>...</td>\n",
       "    </tr>\n",
       "    <tr>\n",
       "      <th>22730</th>\n",
       "      <td>22967</td>\n",
       "      <td>96502</td>\n",
       "      <td>3349.0</td>\n",
       "      <td>297.0</td>\n",
       "      <td>0.0</td>\n",
       "      <td>211</td>\n",
       "      <td>3052.0</td>\n",
       "      <td>5486</td>\n",
       "      <td>0.0</td>\n",
       "      <td>1</td>\n",
       "      <td>0</td>\n",
       "      <td>0</td>\n",
       "      <td>0</td>\n",
       "      <td>0</td>\n",
       "      <td>10</td>\n",
       "      <td>27.40</td>\n",
       "      <td>469</td>\n",
       "      <td>8.87</td>\n",
       "      <td>0</td>\n",
       "      <td>22.0</td>\n",
       "    </tr>\n",
       "    <tr>\n",
       "      <th>22731</th>\n",
       "      <td>22968</td>\n",
       "      <td>96479</td>\n",
       "      <td>4100.0</td>\n",
       "      <td>1209.0</td>\n",
       "      <td>0.0</td>\n",
       "      <td>200</td>\n",
       "      <td>2891.0</td>\n",
       "      <td>5200</td>\n",
       "      <td>0.0</td>\n",
       "      <td>1</td>\n",
       "      <td>0</td>\n",
       "      <td>0</td>\n",
       "      <td>0</td>\n",
       "      <td>0</td>\n",
       "      <td>9</td>\n",
       "      <td>19.00</td>\n",
       "      <td>502</td>\n",
       "      <td>29.49</td>\n",
       "      <td>0</td>\n",
       "      <td>27.0</td>\n",
       "    </tr>\n",
       "    <tr>\n",
       "      <th>22732</th>\n",
       "      <td>22969</td>\n",
       "      <td>96442</td>\n",
       "      <td>4849.0</td>\n",
       "      <td>1152.0</td>\n",
       "      <td>0.0</td>\n",
       "      <td>256</td>\n",
       "      <td>3697.0</td>\n",
       "      <td>6656</td>\n",
       "      <td>0.0</td>\n",
       "      <td>1</td>\n",
       "      <td>0</td>\n",
       "      <td>0</td>\n",
       "      <td>0</td>\n",
       "      <td>0</td>\n",
       "      <td>11</td>\n",
       "      <td>26.65</td>\n",
       "      <td>459</td>\n",
       "      <td>23.76</td>\n",
       "      <td>0</td>\n",
       "      <td>36.0</td>\n",
       "    </tr>\n",
       "    <tr>\n",
       "      <th>22733</th>\n",
       "      <td>22970</td>\n",
       "      <td>96536</td>\n",
       "      <td>9799.0</td>\n",
       "      <td>2799.0</td>\n",
       "      <td>0.0</td>\n",
       "      <td>386</td>\n",
       "      <td>7000.0</td>\n",
       "      <td>15054</td>\n",
       "      <td>0.0</td>\n",
       "      <td>1</td>\n",
       "      <td>0</td>\n",
       "      <td>0</td>\n",
       "      <td>0</td>\n",
       "      <td>0</td>\n",
       "      <td>14</td>\n",
       "      <td>-17.35</td>\n",
       "      <td>699</td>\n",
       "      <td>28.56</td>\n",
       "      <td>0</td>\n",
       "      <td>53.0</td>\n",
       "    </tr>\n",
       "    <tr>\n",
       "      <th>22734</th>\n",
       "      <td>22971</td>\n",
       "      <td>96534</td>\n",
       "      <td>5399.0</td>\n",
       "      <td>1086.0</td>\n",
       "      <td>0.0</td>\n",
       "      <td>299</td>\n",
       "      <td>4313.0</td>\n",
       "      <td>7774</td>\n",
       "      <td>0.0</td>\n",
       "      <td>1</td>\n",
       "      <td>0</td>\n",
       "      <td>1</td>\n",
       "      <td>0</td>\n",
       "      <td>0</td>\n",
       "      <td>12</td>\n",
       "      <td>21.80</td>\n",
       "      <td>0</td>\n",
       "      <td>20.11</td>\n",
       "      <td>0</td>\n",
       "      <td>19.0</td>\n",
       "    </tr>\n",
       "  </tbody>\n",
       "</table>\n",
       "<p>22735 rows × 20 columns</p>\n",
       "</div>\n",
       "    <div class=\"colab-df-buttons\">\n",
       "\n",
       "  <div class=\"colab-df-container\">\n",
       "    <button class=\"colab-df-convert\" onclick=\"convertToInteractive('df-0524a537-d75c-4453-aa80-66fa740d29df')\"\n",
       "            title=\"Convert this dataframe to an interactive table.\"\n",
       "            style=\"display:none;\">\n",
       "\n",
       "  <svg xmlns=\"http://www.w3.org/2000/svg\" height=\"24px\" viewBox=\"0 -960 960 960\">\n",
       "    <path d=\"M120-120v-720h720v720H120Zm60-500h600v-160H180v160Zm220 220h160v-160H400v160Zm0 220h160v-160H400v160ZM180-400h160v-160H180v160Zm440 0h160v-160H620v160ZM180-180h160v-160H180v160Zm440 0h160v-160H620v160Z\"/>\n",
       "  </svg>\n",
       "    </button>\n",
       "\n",
       "  <style>\n",
       "    .colab-df-container {\n",
       "      display:flex;\n",
       "      gap: 12px;\n",
       "    }\n",
       "\n",
       "    .colab-df-convert {\n",
       "      background-color: #E8F0FE;\n",
       "      border: none;\n",
       "      border-radius: 50%;\n",
       "      cursor: pointer;\n",
       "      display: none;\n",
       "      fill: #1967D2;\n",
       "      height: 32px;\n",
       "      padding: 0 0 0 0;\n",
       "      width: 32px;\n",
       "    }\n",
       "\n",
       "    .colab-df-convert:hover {\n",
       "      background-color: #E2EBFA;\n",
       "      box-shadow: 0px 1px 2px rgba(60, 64, 67, 0.3), 0px 1px 3px 1px rgba(60, 64, 67, 0.15);\n",
       "      fill: #174EA6;\n",
       "    }\n",
       "\n",
       "    .colab-df-buttons div {\n",
       "      margin-bottom: 4px;\n",
       "    }\n",
       "\n",
       "    [theme=dark] .colab-df-convert {\n",
       "      background-color: #3B4455;\n",
       "      fill: #D2E3FC;\n",
       "    }\n",
       "\n",
       "    [theme=dark] .colab-df-convert:hover {\n",
       "      background-color: #434B5C;\n",
       "      box-shadow: 0px 1px 3px 1px rgba(0, 0, 0, 0.15);\n",
       "      filter: drop-shadow(0px 1px 2px rgba(0, 0, 0, 0.3));\n",
       "      fill: #FFFFFF;\n",
       "    }\n",
       "  </style>\n",
       "\n",
       "    <script>\n",
       "      const buttonEl =\n",
       "        document.querySelector('#df-0524a537-d75c-4453-aa80-66fa740d29df button.colab-df-convert');\n",
       "      buttonEl.style.display =\n",
       "        google.colab.kernel.accessAllowed ? 'block' : 'none';\n",
       "\n",
       "      async function convertToInteractive(key) {\n",
       "        const element = document.querySelector('#df-0524a537-d75c-4453-aa80-66fa740d29df');\n",
       "        const dataTable =\n",
       "          await google.colab.kernel.invokeFunction('convertToInteractive',\n",
       "                                                    [key], {});\n",
       "        if (!dataTable) return;\n",
       "\n",
       "        const docLinkHtml = 'Like what you see? Visit the ' +\n",
       "          '<a target=\"_blank\" href=https://colab.research.google.com/notebooks/data_table.ipynb>data table notebook</a>'\n",
       "          + ' to learn more about interactive tables.';\n",
       "        element.innerHTML = '';\n",
       "        dataTable['output_type'] = 'display_data';\n",
       "        await google.colab.output.renderOutput(dataTable, element);\n",
       "        const docLink = document.createElement('div');\n",
       "        docLink.innerHTML = docLinkHtml;\n",
       "        element.appendChild(docLink);\n",
       "      }\n",
       "    </script>\n",
       "  </div>\n",
       "\n",
       "\n",
       "<div id=\"df-1cd78cef-33cb-449c-bf35-f0ba4edf4dfd\">\n",
       "  <button class=\"colab-df-quickchart\" onclick=\"quickchart('df-1cd78cef-33cb-449c-bf35-f0ba4edf4dfd')\"\n",
       "            title=\"Suggest charts.\"\n",
       "            style=\"display:none;\">\n",
       "\n",
       "<svg xmlns=\"http://www.w3.org/2000/svg\" height=\"24px\"viewBox=\"0 0 24 24\"\n",
       "     width=\"24px\">\n",
       "    <g>\n",
       "        <path d=\"M19 3H5c-1.1 0-2 .9-2 2v14c0 1.1.9 2 2 2h14c1.1 0 2-.9 2-2V5c0-1.1-.9-2-2-2zM9 17H7v-7h2v7zm4 0h-2V7h2v10zm4 0h-2v-4h2v4z\"/>\n",
       "    </g>\n",
       "</svg>\n",
       "  </button>\n",
       "\n",
       "<style>\n",
       "  .colab-df-quickchart {\n",
       "      --bg-color: #E8F0FE;\n",
       "      --fill-color: #1967D2;\n",
       "      --hover-bg-color: #E2EBFA;\n",
       "      --hover-fill-color: #174EA6;\n",
       "      --disabled-fill-color: #AAA;\n",
       "      --disabled-bg-color: #DDD;\n",
       "  }\n",
       "\n",
       "  [theme=dark] .colab-df-quickchart {\n",
       "      --bg-color: #3B4455;\n",
       "      --fill-color: #D2E3FC;\n",
       "      --hover-bg-color: #434B5C;\n",
       "      --hover-fill-color: #FFFFFF;\n",
       "      --disabled-bg-color: #3B4455;\n",
       "      --disabled-fill-color: #666;\n",
       "  }\n",
       "\n",
       "  .colab-df-quickchart {\n",
       "    background-color: var(--bg-color);\n",
       "    border: none;\n",
       "    border-radius: 50%;\n",
       "    cursor: pointer;\n",
       "    display: none;\n",
       "    fill: var(--fill-color);\n",
       "    height: 32px;\n",
       "    padding: 0;\n",
       "    width: 32px;\n",
       "  }\n",
       "\n",
       "  .colab-df-quickchart:hover {\n",
       "    background-color: var(--hover-bg-color);\n",
       "    box-shadow: 0 1px 2px rgba(60, 64, 67, 0.3), 0 1px 3px 1px rgba(60, 64, 67, 0.15);\n",
       "    fill: var(--button-hover-fill-color);\n",
       "  }\n",
       "\n",
       "  .colab-df-quickchart-complete:disabled,\n",
       "  .colab-df-quickchart-complete:disabled:hover {\n",
       "    background-color: var(--disabled-bg-color);\n",
       "    fill: var(--disabled-fill-color);\n",
       "    box-shadow: none;\n",
       "  }\n",
       "\n",
       "  .colab-df-spinner {\n",
       "    border: 2px solid var(--fill-color);\n",
       "    border-color: transparent;\n",
       "    border-bottom-color: var(--fill-color);\n",
       "    animation:\n",
       "      spin 1s steps(1) infinite;\n",
       "  }\n",
       "\n",
       "  @keyframes spin {\n",
       "    0% {\n",
       "      border-color: transparent;\n",
       "      border-bottom-color: var(--fill-color);\n",
       "      border-left-color: var(--fill-color);\n",
       "    }\n",
       "    20% {\n",
       "      border-color: transparent;\n",
       "      border-left-color: var(--fill-color);\n",
       "      border-top-color: var(--fill-color);\n",
       "    }\n",
       "    30% {\n",
       "      border-color: transparent;\n",
       "      border-left-color: var(--fill-color);\n",
       "      border-top-color: var(--fill-color);\n",
       "      border-right-color: var(--fill-color);\n",
       "    }\n",
       "    40% {\n",
       "      border-color: transparent;\n",
       "      border-right-color: var(--fill-color);\n",
       "      border-top-color: var(--fill-color);\n",
       "    }\n",
       "    60% {\n",
       "      border-color: transparent;\n",
       "      border-right-color: var(--fill-color);\n",
       "    }\n",
       "    80% {\n",
       "      border-color: transparent;\n",
       "      border-right-color: var(--fill-color);\n",
       "      border-bottom-color: var(--fill-color);\n",
       "    }\n",
       "    90% {\n",
       "      border-color: transparent;\n",
       "      border-bottom-color: var(--fill-color);\n",
       "    }\n",
       "  }\n",
       "</style>\n",
       "\n",
       "  <script>\n",
       "    async function quickchart(key) {\n",
       "      const quickchartButtonEl =\n",
       "        document.querySelector('#' + key + ' button');\n",
       "      quickchartButtonEl.disabled = true;  // To prevent multiple clicks.\n",
       "      quickchartButtonEl.classList.add('colab-df-spinner');\n",
       "      try {\n",
       "        const charts = await google.colab.kernel.invokeFunction(\n",
       "            'suggestCharts', [key], {});\n",
       "      } catch (error) {\n",
       "        console.error('Error during call to suggestCharts:', error);\n",
       "      }\n",
       "      quickchartButtonEl.classList.remove('colab-df-spinner');\n",
       "      quickchartButtonEl.classList.add('colab-df-quickchart-complete');\n",
       "    }\n",
       "    (() => {\n",
       "      let quickchartButtonEl =\n",
       "        document.querySelector('#df-1cd78cef-33cb-449c-bf35-f0ba4edf4dfd button');\n",
       "      quickchartButtonEl.style.display =\n",
       "        google.colab.kernel.accessAllowed ? 'block' : 'none';\n",
       "    })();\n",
       "  </script>\n",
       "</div>\n",
       "    </div>\n",
       "  </div>\n"
      ],
      "text/plain": [
       "       folio  folio_solicitud  precio  enganche  descuento  semana  \\\n",
       "0          3               30  1949.0     780.0        0.0      81   \n",
       "1          4               33  2999.0    1050.0        0.0     225   \n",
       "2          5               37  1959.0     490.0        0.0     170   \n",
       "3          6               38  1959.0     490.0        0.0     170   \n",
       "4          7               44  4299.0    1075.0        0.0     178   \n",
       "...      ...              ...     ...       ...        ...     ...   \n",
       "22730  22967            96502  3349.0     297.0        0.0     211   \n",
       "22731  22968            96479  4100.0    1209.0        0.0     200   \n",
       "22732  22969            96442  4849.0    1152.0        0.0     256   \n",
       "22733  22970            96536  9799.0    2799.0        0.0     386   \n",
       "22734  22971            96534  5399.0    1086.0        0.0     299   \n",
       "\n",
       "       monto_financiado  costo_total  monto_accesorios  status  fraude  \\\n",
       "0                1169.0         2106               0.0       2       0   \n",
       "1                1949.0         2925               0.0       2       0   \n",
       "2                1469.0         2210               0.0       3       0   \n",
       "3                1469.0         2210               0.0       2       0   \n",
       "4                3224.0         6942               0.0       1       0   \n",
       "...                 ...          ...               ...     ...     ...   \n",
       "22730            3052.0         5486               0.0       1       0   \n",
       "22731            2891.0         5200               0.0       1       0   \n",
       "22732            3697.0         6656               0.0       1       0   \n",
       "22733            7000.0        15054               0.0       1       0   \n",
       "22734            4313.0         7774               0.0       1       0   \n",
       "\n",
       "       inversion  pagos_realizados  reautorizacion  puntos  riesgo  \\\n",
       "0              0                 0               0       0    0.00   \n",
       "1              0                 0               0       0    0.00   \n",
       "2              0                 0               0       0    0.00   \n",
       "3              0                 0               0       0    0.00   \n",
       "4              0                 0               0       0    0.00   \n",
       "...          ...               ...             ...     ...     ...   \n",
       "22730          0                 0               0      10   27.40   \n",
       "22731          0                 0               0       9   19.00   \n",
       "22732          0                 0               0      11   26.65   \n",
       "22733          0                 0               0      14  -17.35   \n",
       "22734          1                 0               0      12   21.80   \n",
       "\n",
       "       score_buro  porc_eng  semana_actual  edad_cliente  \n",
       "0               0     40.02             26          23.0  \n",
       "1               0     35.01             13          60.0  \n",
       "2               0     25.01             74          58.0  \n",
       "3               0     25.01             13          42.0  \n",
       "4               0     25.01             74          33.0  \n",
       "...           ...       ...            ...           ...  \n",
       "22730         469      8.87              0          22.0  \n",
       "22731         502     29.49              0          27.0  \n",
       "22732         459     23.76              0          36.0  \n",
       "22733         699     28.56              0          53.0  \n",
       "22734           0     20.11              0          19.0  \n",
       "\n",
       "[22735 rows x 20 columns]"
      ]
     },
     "execution_count": 588,
     "metadata": {},
     "output_type": "execute_result"
    }
   ],
   "source": [
    "dfL = dfL.fillna(df.mean())\n",
    "dfL"
   ]
  },
  {
   "cell_type": "code",
   "execution_count": 589,
   "metadata": {
    "colab": {
     "base_uri": "https://localhost:8080/"
    },
    "id": "Jo6ghwRQytjn",
    "outputId": "b5143076-77f9-45bd-ca5a-e63abaf286e2"
   },
   "outputs": [
    {
     "data": {
      "text/plain": [
       "folio               0\n",
       "folio_solicitud     0\n",
       "precio              0\n",
       "enganche            0\n",
       "descuento           0\n",
       "semana              0\n",
       "monto_financiado    0\n",
       "costo_total         0\n",
       "monto_accesorios    0\n",
       "status              0\n",
       "fraude              0\n",
       "inversion           0\n",
       "pagos_realizados    0\n",
       "reautorizacion      0\n",
       "puntos              0\n",
       "riesgo              0\n",
       "score_buro          0\n",
       "porc_eng            0\n",
       "semana_actual       0\n",
       "edad_cliente        0\n",
       "dtype: int64"
      ]
     },
     "execution_count": 589,
     "metadata": {},
     "output_type": "execute_result"
    }
   ],
   "source": [
    "dfL.isnull().sum()"
   ]
  },
  {
   "cell_type": "code",
   "execution_count": 590,
   "metadata": {
    "colab": {
     "base_uri": "https://localhost:8080/",
     "height": 877
    },
    "id": "YAKK71abyv7B",
    "outputId": "bc5b450b-49a1-4193-b269-fc21d017dc82"
   },
   "outputs": [
    {
     "data": {
      "text/html": [
       "\n",
       "  <div id=\"df-4a2e9ca0-c1cc-48e4-beb3-f07da9984377\" class=\"colab-df-container\">\n",
       "    <div>\n",
       "<style scoped>\n",
       "    .dataframe tbody tr th:only-of-type {\n",
       "        vertical-align: middle;\n",
       "    }\n",
       "\n",
       "    .dataframe tbody tr th {\n",
       "        vertical-align: top;\n",
       "    }\n",
       "\n",
       "    .dataframe thead th {\n",
       "        text-align: right;\n",
       "    }\n",
       "</style>\n",
       "<table border=\"1\" class=\"dataframe\">\n",
       "  <thead>\n",
       "    <tr style=\"text-align: right;\">\n",
       "      <th></th>\n",
       "      <th>tag</th>\n",
       "      <th>fecha</th>\n",
       "      <th>marca</th>\n",
       "      <th>modelo</th>\n",
       "      <th>plazo</th>\n",
       "      <th>agente_venta</th>\n",
       "      <th>dis_venta</th>\n",
       "      <th>empresa</th>\n",
       "      <th>fecha_ultimo_pago</th>\n",
       "      <th>fecha_pago_proximo</th>\n",
       "      <th>...</th>\n",
       "      <th>fraude</th>\n",
       "      <th>inversion</th>\n",
       "      <th>pagos_realizados</th>\n",
       "      <th>reautorizacion</th>\n",
       "      <th>puntos</th>\n",
       "      <th>riesgo</th>\n",
       "      <th>score_buro</th>\n",
       "      <th>porc_eng</th>\n",
       "      <th>semana_actual</th>\n",
       "      <th>edad_cliente</th>\n",
       "    </tr>\n",
       "  </thead>\n",
       "  <tbody>\n",
       "    <tr>\n",
       "      <th>0</th>\n",
       "      <td>HDNAWQ3A</td>\n",
       "      <td>12/11/21 19:00</td>\n",
       "      <td>ZTE</td>\n",
       "      <td>Blade A3 2020 RO B</td>\n",
       "      <td>26S</td>\n",
       "      <td>Sintia Verenice Tenorio Perez E</td>\n",
       "      <td>mic0437</td>\n",
       "      <td>microtec</td>\n",
       "      <td>15/04/23 0:00</td>\n",
       "      <td>22/04/23 0:00</td>\n",
       "      <td>...</td>\n",
       "      <td>0</td>\n",
       "      <td>0</td>\n",
       "      <td>0</td>\n",
       "      <td>0</td>\n",
       "      <td>0</td>\n",
       "      <td>0.00</td>\n",
       "      <td>0</td>\n",
       "      <td>40.02</td>\n",
       "      <td>26</td>\n",
       "      <td>23.0</td>\n",
       "    </tr>\n",
       "    <tr>\n",
       "      <th>1</th>\n",
       "      <td>M418YNR4</td>\n",
       "      <td>12/11/21 19:15</td>\n",
       "      <td>MOTOROLA</td>\n",
       "      <td>LTE XT2097-12 E7I POWER Azul</td>\n",
       "      <td>13S</td>\n",
       "      <td>Alvaro Rafael Pascual</td>\n",
       "      <td>mic015</td>\n",
       "      <td>microtec</td>\n",
       "      <td>15/04/23 0:00</td>\n",
       "      <td>22/04/23 0:00</td>\n",
       "      <td>...</td>\n",
       "      <td>0</td>\n",
       "      <td>0</td>\n",
       "      <td>0</td>\n",
       "      <td>0</td>\n",
       "      <td>0</td>\n",
       "      <td>0.00</td>\n",
       "      <td>0</td>\n",
       "      <td>35.01</td>\n",
       "      <td>13</td>\n",
       "      <td>60.0</td>\n",
       "    </tr>\n",
       "    <tr>\n",
       "      <th>2</th>\n",
       "      <td>SZ7V3NZT</td>\n",
       "      <td>13/11/21 14:13</td>\n",
       "      <td>ZTE</td>\n",
       "      <td>BLADE A3 2020 Gris</td>\n",
       "      <td>13S</td>\n",
       "      <td>Sintia Verenice Tenorio Perez E</td>\n",
       "      <td>mic0437</td>\n",
       "      <td>microtec</td>\n",
       "      <td>15/04/23 0:00</td>\n",
       "      <td>22/04/23 0:00</td>\n",
       "      <td>...</td>\n",
       "      <td>0</td>\n",
       "      <td>0</td>\n",
       "      <td>0</td>\n",
       "      <td>0</td>\n",
       "      <td>0</td>\n",
       "      <td>0.00</td>\n",
       "      <td>0</td>\n",
       "      <td>25.01</td>\n",
       "      <td>74</td>\n",
       "      <td>58.0</td>\n",
       "    </tr>\n",
       "    <tr>\n",
       "      <th>3</th>\n",
       "      <td>9I08UIQZ</td>\n",
       "      <td>13/11/21 15:45</td>\n",
       "      <td>ZTE</td>\n",
       "      <td>BLADE A3 2020 Gris</td>\n",
       "      <td>13S</td>\n",
       "      <td>Luz Aylin Hernandez Lopez1</td>\n",
       "      <td>mic0748</td>\n",
       "      <td>microtec</td>\n",
       "      <td>15/04/23 0:00</td>\n",
       "      <td>22/04/23 0:00</td>\n",
       "      <td>...</td>\n",
       "      <td>0</td>\n",
       "      <td>0</td>\n",
       "      <td>0</td>\n",
       "      <td>0</td>\n",
       "      <td>0</td>\n",
       "      <td>0.00</td>\n",
       "      <td>0</td>\n",
       "      <td>25.01</td>\n",
       "      <td>13</td>\n",
       "      <td>42.0</td>\n",
       "    </tr>\n",
       "    <tr>\n",
       "      <th>4</th>\n",
       "      <td>JMF4LKYU</td>\n",
       "      <td>13/11/21 16:10</td>\n",
       "      <td>MOTOROLA</td>\n",
       "      <td>G10 B</td>\n",
       "      <td>39S</td>\n",
       "      <td>Sintia Verenice Tenorio Perez E</td>\n",
       "      <td>mic0437</td>\n",
       "      <td>microtec</td>\n",
       "      <td>05/03/22 0:00</td>\n",
       "      <td>12/03/22 0:00</td>\n",
       "      <td>...</td>\n",
       "      <td>0</td>\n",
       "      <td>0</td>\n",
       "      <td>0</td>\n",
       "      <td>0</td>\n",
       "      <td>0</td>\n",
       "      <td>0.00</td>\n",
       "      <td>0</td>\n",
       "      <td>25.01</td>\n",
       "      <td>74</td>\n",
       "      <td>33.0</td>\n",
       "    </tr>\n",
       "    <tr>\n",
       "      <th>...</th>\n",
       "      <td>...</td>\n",
       "      <td>...</td>\n",
       "      <td>...</td>\n",
       "      <td>...</td>\n",
       "      <td>...</td>\n",
       "      <td>...</td>\n",
       "      <td>...</td>\n",
       "      <td>...</td>\n",
       "      <td>...</td>\n",
       "      <td>...</td>\n",
       "      <td>...</td>\n",
       "      <td>...</td>\n",
       "      <td>...</td>\n",
       "      <td>...</td>\n",
       "      <td>...</td>\n",
       "      <td>...</td>\n",
       "      <td>...</td>\n",
       "      <td>...</td>\n",
       "      <td>...</td>\n",
       "      <td>...</td>\n",
       "      <td>...</td>\n",
       "    </tr>\n",
       "    <tr>\n",
       "      <th>22730</th>\n",
       "      <td>92KQVRIX</td>\n",
       "      <td>18/04/23 18:45</td>\n",
       "      <td>Motorola</td>\n",
       "      <td>Moto E13</td>\n",
       "      <td>26S</td>\n",
       "      <td>Mildred Asuncion Arguello Caamal</td>\n",
       "      <td>svc044</td>\n",
       "      <td>servicel</td>\n",
       "      <td>18/04/23 18:45</td>\n",
       "      <td>25/04/23 0:00</td>\n",
       "      <td>...</td>\n",
       "      <td>0</td>\n",
       "      <td>0</td>\n",
       "      <td>0</td>\n",
       "      <td>0</td>\n",
       "      <td>10</td>\n",
       "      <td>27.40</td>\n",
       "      <td>469</td>\n",
       "      <td>8.87</td>\n",
       "      <td>0</td>\n",
       "      <td>22.0</td>\n",
       "    </tr>\n",
       "    <tr>\n",
       "      <th>22731</th>\n",
       "      <td>NWB2EA8J</td>\n",
       "      <td>18/04/23 18:46</td>\n",
       "      <td>Motorola</td>\n",
       "      <td>Moto E22i</td>\n",
       "      <td>26S</td>\n",
       "      <td>Maria Guadalupe Vargas Lopez</td>\n",
       "      <td>PXC004</td>\n",
       "      <td>pixelulares</td>\n",
       "      <td>18/04/23 18:46</td>\n",
       "      <td>25/04/23 0:00</td>\n",
       "      <td>...</td>\n",
       "      <td>0</td>\n",
       "      <td>0</td>\n",
       "      <td>0</td>\n",
       "      <td>0</td>\n",
       "      <td>9</td>\n",
       "      <td>19.00</td>\n",
       "      <td>502</td>\n",
       "      <td>29.49</td>\n",
       "      <td>0</td>\n",
       "      <td>27.0</td>\n",
       "    </tr>\n",
       "    <tr>\n",
       "      <th>22732</th>\n",
       "      <td>VDTRJ2W6</td>\n",
       "      <td>18/04/23 18:47</td>\n",
       "      <td>Samsung</td>\n",
       "      <td>A13</td>\n",
       "      <td>26S</td>\n",
       "      <td>Nicolás Jiménez Sánchez</td>\n",
       "      <td>gph008</td>\n",
       "      <td>microtec</td>\n",
       "      <td>18/04/23 18:47</td>\n",
       "      <td>25/04/23 0:00</td>\n",
       "      <td>...</td>\n",
       "      <td>0</td>\n",
       "      <td>0</td>\n",
       "      <td>0</td>\n",
       "      <td>0</td>\n",
       "      <td>11</td>\n",
       "      <td>26.65</td>\n",
       "      <td>459</td>\n",
       "      <td>23.76</td>\n",
       "      <td>0</td>\n",
       "      <td>36.0</td>\n",
       "    </tr>\n",
       "    <tr>\n",
       "      <th>22733</th>\n",
       "      <td>PETLF56C</td>\n",
       "      <td>18/04/23 18:49</td>\n",
       "      <td>Samsung</td>\n",
       "      <td>A53 5G</td>\n",
       "      <td>39S</td>\n",
       "      <td>Maribel Ulibarri Medina</td>\n",
       "      <td>gph014</td>\n",
       "      <td>grupoph</td>\n",
       "      <td>18/04/23 18:49</td>\n",
       "      <td>25/04/23 0:00</td>\n",
       "      <td>...</td>\n",
       "      <td>0</td>\n",
       "      <td>0</td>\n",
       "      <td>0</td>\n",
       "      <td>0</td>\n",
       "      <td>14</td>\n",
       "      <td>-17.35</td>\n",
       "      <td>699</td>\n",
       "      <td>28.56</td>\n",
       "      <td>0</td>\n",
       "      <td>53.0</td>\n",
       "    </tr>\n",
       "    <tr>\n",
       "      <th>22734</th>\n",
       "      <td>2CI4N2WS</td>\n",
       "      <td>18/04/23 18:49</td>\n",
       "      <td>Samsung</td>\n",
       "      <td>A22 5G</td>\n",
       "      <td>26S</td>\n",
       "      <td>Netza Fierros Mateos</td>\n",
       "      <td>php005</td>\n",
       "      <td>phonepay</td>\n",
       "      <td>18/04/23 18:49</td>\n",
       "      <td>25/04/23 0:00</td>\n",
       "      <td>...</td>\n",
       "      <td>0</td>\n",
       "      <td>1</td>\n",
       "      <td>0</td>\n",
       "      <td>0</td>\n",
       "      <td>12</td>\n",
       "      <td>21.80</td>\n",
       "      <td>0</td>\n",
       "      <td>20.11</td>\n",
       "      <td>0</td>\n",
       "      <td>19.0</td>\n",
       "    </tr>\n",
       "  </tbody>\n",
       "</table>\n",
       "<p>22735 rows × 39 columns</p>\n",
       "</div>\n",
       "    <div class=\"colab-df-buttons\">\n",
       "\n",
       "  <div class=\"colab-df-container\">\n",
       "    <button class=\"colab-df-convert\" onclick=\"convertToInteractive('df-4a2e9ca0-c1cc-48e4-beb3-f07da9984377')\"\n",
       "            title=\"Convert this dataframe to an interactive table.\"\n",
       "            style=\"display:none;\">\n",
       "\n",
       "  <svg xmlns=\"http://www.w3.org/2000/svg\" height=\"24px\" viewBox=\"0 -960 960 960\">\n",
       "    <path d=\"M120-120v-720h720v720H120Zm60-500h600v-160H180v160Zm220 220h160v-160H400v160Zm0 220h160v-160H400v160ZM180-400h160v-160H180v160Zm440 0h160v-160H620v160ZM180-180h160v-160H180v160Zm440 0h160v-160H620v160Z\"/>\n",
       "  </svg>\n",
       "    </button>\n",
       "\n",
       "  <style>\n",
       "    .colab-df-container {\n",
       "      display:flex;\n",
       "      gap: 12px;\n",
       "    }\n",
       "\n",
       "    .colab-df-convert {\n",
       "      background-color: #E8F0FE;\n",
       "      border: none;\n",
       "      border-radius: 50%;\n",
       "      cursor: pointer;\n",
       "      display: none;\n",
       "      fill: #1967D2;\n",
       "      height: 32px;\n",
       "      padding: 0 0 0 0;\n",
       "      width: 32px;\n",
       "    }\n",
       "\n",
       "    .colab-df-convert:hover {\n",
       "      background-color: #E2EBFA;\n",
       "      box-shadow: 0px 1px 2px rgba(60, 64, 67, 0.3), 0px 1px 3px 1px rgba(60, 64, 67, 0.15);\n",
       "      fill: #174EA6;\n",
       "    }\n",
       "\n",
       "    .colab-df-buttons div {\n",
       "      margin-bottom: 4px;\n",
       "    }\n",
       "\n",
       "    [theme=dark] .colab-df-convert {\n",
       "      background-color: #3B4455;\n",
       "      fill: #D2E3FC;\n",
       "    }\n",
       "\n",
       "    [theme=dark] .colab-df-convert:hover {\n",
       "      background-color: #434B5C;\n",
       "      box-shadow: 0px 1px 3px 1px rgba(0, 0, 0, 0.15);\n",
       "      filter: drop-shadow(0px 1px 2px rgba(0, 0, 0, 0.3));\n",
       "      fill: #FFFFFF;\n",
       "    }\n",
       "  </style>\n",
       "\n",
       "    <script>\n",
       "      const buttonEl =\n",
       "        document.querySelector('#df-4a2e9ca0-c1cc-48e4-beb3-f07da9984377 button.colab-df-convert');\n",
       "      buttonEl.style.display =\n",
       "        google.colab.kernel.accessAllowed ? 'block' : 'none';\n",
       "\n",
       "      async function convertToInteractive(key) {\n",
       "        const element = document.querySelector('#df-4a2e9ca0-c1cc-48e4-beb3-f07da9984377');\n",
       "        const dataTable =\n",
       "          await google.colab.kernel.invokeFunction('convertToInteractive',\n",
       "                                                    [key], {});\n",
       "        if (!dataTable) return;\n",
       "\n",
       "        const docLinkHtml = 'Like what you see? Visit the ' +\n",
       "          '<a target=\"_blank\" href=https://colab.research.google.com/notebooks/data_table.ipynb>data table notebook</a>'\n",
       "          + ' to learn more about interactive tables.';\n",
       "        element.innerHTML = '';\n",
       "        dataTable['output_type'] = 'display_data';\n",
       "        await google.colab.output.renderOutput(dataTable, element);\n",
       "        const docLink = document.createElement('div');\n",
       "        docLink.innerHTML = docLinkHtml;\n",
       "        element.appendChild(docLink);\n",
       "      }\n",
       "    </script>\n",
       "  </div>\n",
       "\n",
       "\n",
       "<div id=\"df-d520b31f-dc06-4235-b145-072c217f77e0\">\n",
       "  <button class=\"colab-df-quickchart\" onclick=\"quickchart('df-d520b31f-dc06-4235-b145-072c217f77e0')\"\n",
       "            title=\"Suggest charts.\"\n",
       "            style=\"display:none;\">\n",
       "\n",
       "<svg xmlns=\"http://www.w3.org/2000/svg\" height=\"24px\"viewBox=\"0 0 24 24\"\n",
       "     width=\"24px\">\n",
       "    <g>\n",
       "        <path d=\"M19 3H5c-1.1 0-2 .9-2 2v14c0 1.1.9 2 2 2h14c1.1 0 2-.9 2-2V5c0-1.1-.9-2-2-2zM9 17H7v-7h2v7zm4 0h-2V7h2v10zm4 0h-2v-4h2v4z\"/>\n",
       "    </g>\n",
       "</svg>\n",
       "  </button>\n",
       "\n",
       "<style>\n",
       "  .colab-df-quickchart {\n",
       "      --bg-color: #E8F0FE;\n",
       "      --fill-color: #1967D2;\n",
       "      --hover-bg-color: #E2EBFA;\n",
       "      --hover-fill-color: #174EA6;\n",
       "      --disabled-fill-color: #AAA;\n",
       "      --disabled-bg-color: #DDD;\n",
       "  }\n",
       "\n",
       "  [theme=dark] .colab-df-quickchart {\n",
       "      --bg-color: #3B4455;\n",
       "      --fill-color: #D2E3FC;\n",
       "      --hover-bg-color: #434B5C;\n",
       "      --hover-fill-color: #FFFFFF;\n",
       "      --disabled-bg-color: #3B4455;\n",
       "      --disabled-fill-color: #666;\n",
       "  }\n",
       "\n",
       "  .colab-df-quickchart {\n",
       "    background-color: var(--bg-color);\n",
       "    border: none;\n",
       "    border-radius: 50%;\n",
       "    cursor: pointer;\n",
       "    display: none;\n",
       "    fill: var(--fill-color);\n",
       "    height: 32px;\n",
       "    padding: 0;\n",
       "    width: 32px;\n",
       "  }\n",
       "\n",
       "  .colab-df-quickchart:hover {\n",
       "    background-color: var(--hover-bg-color);\n",
       "    box-shadow: 0 1px 2px rgba(60, 64, 67, 0.3), 0 1px 3px 1px rgba(60, 64, 67, 0.15);\n",
       "    fill: var(--button-hover-fill-color);\n",
       "  }\n",
       "\n",
       "  .colab-df-quickchart-complete:disabled,\n",
       "  .colab-df-quickchart-complete:disabled:hover {\n",
       "    background-color: var(--disabled-bg-color);\n",
       "    fill: var(--disabled-fill-color);\n",
       "    box-shadow: none;\n",
       "  }\n",
       "\n",
       "  .colab-df-spinner {\n",
       "    border: 2px solid var(--fill-color);\n",
       "    border-color: transparent;\n",
       "    border-bottom-color: var(--fill-color);\n",
       "    animation:\n",
       "      spin 1s steps(1) infinite;\n",
       "  }\n",
       "\n",
       "  @keyframes spin {\n",
       "    0% {\n",
       "      border-color: transparent;\n",
       "      border-bottom-color: var(--fill-color);\n",
       "      border-left-color: var(--fill-color);\n",
       "    }\n",
       "    20% {\n",
       "      border-color: transparent;\n",
       "      border-left-color: var(--fill-color);\n",
       "      border-top-color: var(--fill-color);\n",
       "    }\n",
       "    30% {\n",
       "      border-color: transparent;\n",
       "      border-left-color: var(--fill-color);\n",
       "      border-top-color: var(--fill-color);\n",
       "      border-right-color: var(--fill-color);\n",
       "    }\n",
       "    40% {\n",
       "      border-color: transparent;\n",
       "      border-right-color: var(--fill-color);\n",
       "      border-top-color: var(--fill-color);\n",
       "    }\n",
       "    60% {\n",
       "      border-color: transparent;\n",
       "      border-right-color: var(--fill-color);\n",
       "    }\n",
       "    80% {\n",
       "      border-color: transparent;\n",
       "      border-right-color: var(--fill-color);\n",
       "      border-bottom-color: var(--fill-color);\n",
       "    }\n",
       "    90% {\n",
       "      border-color: transparent;\n",
       "      border-bottom-color: var(--fill-color);\n",
       "    }\n",
       "  }\n",
       "</style>\n",
       "\n",
       "  <script>\n",
       "    async function quickchart(key) {\n",
       "      const quickchartButtonEl =\n",
       "        document.querySelector('#' + key + ' button');\n",
       "      quickchartButtonEl.disabled = true;  // To prevent multiple clicks.\n",
       "      quickchartButtonEl.classList.add('colab-df-spinner');\n",
       "      try {\n",
       "        const charts = await google.colab.kernel.invokeFunction(\n",
       "            'suggestCharts', [key], {});\n",
       "      } catch (error) {\n",
       "        console.error('Error during call to suggestCharts:', error);\n",
       "      }\n",
       "      quickchartButtonEl.classList.remove('colab-df-spinner');\n",
       "      quickchartButtonEl.classList.add('colab-df-quickchart-complete');\n",
       "    }\n",
       "    (() => {\n",
       "      let quickchartButtonEl =\n",
       "        document.querySelector('#df-d520b31f-dc06-4235-b145-072c217f77e0 button');\n",
       "      quickchartButtonEl.style.display =\n",
       "        google.colab.kernel.accessAllowed ? 'block' : 'none';\n",
       "    })();\n",
       "  </script>\n",
       "</div>\n",
       "    </div>\n",
       "  </div>\n"
      ],
      "text/plain": [
       "            tag           fecha     marca                        modelo plazo  \\\n",
       "0      HDNAWQ3A  12/11/21 19:00       ZTE            Blade A3 2020 RO B   26S   \n",
       "1      M418YNR4  12/11/21 19:15  MOTOROLA  LTE XT2097-12 E7I POWER Azul   13S   \n",
       "2      SZ7V3NZT  13/11/21 14:13       ZTE            BLADE A3 2020 Gris   13S   \n",
       "3      9I08UIQZ  13/11/21 15:45       ZTE            BLADE A3 2020 Gris   13S   \n",
       "4      JMF4LKYU  13/11/21 16:10  MOTOROLA                         G10 B   39S   \n",
       "...         ...             ...       ...                           ...   ...   \n",
       "22730  92KQVRIX  18/04/23 18:45  Motorola                      Moto E13   26S   \n",
       "22731  NWB2EA8J  18/04/23 18:46  Motorola                     Moto E22i   26S   \n",
       "22732  VDTRJ2W6  18/04/23 18:47   Samsung                           A13   26S   \n",
       "22733  PETLF56C  18/04/23 18:49   Samsung                        A53 5G   39S   \n",
       "22734  2CI4N2WS  18/04/23 18:49   Samsung                        A22 5G   26S   \n",
       "\n",
       "                           agente_venta dis_venta      empresa  \\\n",
       "0       Sintia Verenice Tenorio Perez E   mic0437     microtec   \n",
       "1                 Alvaro Rafael Pascual    mic015     microtec   \n",
       "2       Sintia Verenice Tenorio Perez E   mic0437     microtec   \n",
       "3            Luz Aylin Hernandez Lopez1   mic0748     microtec   \n",
       "4       Sintia Verenice Tenorio Perez E   mic0437     microtec   \n",
       "...                                 ...       ...          ...   \n",
       "22730  Mildred Asuncion Arguello Caamal    svc044     servicel   \n",
       "22731      Maria Guadalupe Vargas Lopez    PXC004  pixelulares   \n",
       "22732           Nicolás Jiménez Sánchez    gph008     microtec   \n",
       "22733           Maribel Ulibarri Medina    gph014      grupoph   \n",
       "22734              Netza Fierros Mateos    php005     phonepay   \n",
       "\n",
       "      fecha_ultimo_pago fecha_pago_proximo  ... fraude inversion  \\\n",
       "0         15/04/23 0:00      22/04/23 0:00  ...      0         0   \n",
       "1         15/04/23 0:00      22/04/23 0:00  ...      0         0   \n",
       "2         15/04/23 0:00      22/04/23 0:00  ...      0         0   \n",
       "3         15/04/23 0:00      22/04/23 0:00  ...      0         0   \n",
       "4         05/03/22 0:00      12/03/22 0:00  ...      0         0   \n",
       "...                 ...                ...  ...    ...       ...   \n",
       "22730    18/04/23 18:45      25/04/23 0:00  ...      0         0   \n",
       "22731    18/04/23 18:46      25/04/23 0:00  ...      0         0   \n",
       "22732    18/04/23 18:47      25/04/23 0:00  ...      0         0   \n",
       "22733    18/04/23 18:49      25/04/23 0:00  ...      0         0   \n",
       "22734    18/04/23 18:49      25/04/23 0:00  ...      0         1   \n",
       "\n",
       "      pagos_realizados reautorizacion puntos riesgo score_buro porc_eng  \\\n",
       "0                    0              0      0   0.00          0    40.02   \n",
       "1                    0              0      0   0.00          0    35.01   \n",
       "2                    0              0      0   0.00          0    25.01   \n",
       "3                    0              0      0   0.00          0    25.01   \n",
       "4                    0              0      0   0.00          0    25.01   \n",
       "...                ...            ...    ...    ...        ...      ...   \n",
       "22730                0              0     10  27.40        469     8.87   \n",
       "22731                0              0      9  19.00        502    29.49   \n",
       "22732                0              0     11  26.65        459    23.76   \n",
       "22733                0              0     14 -17.35        699    28.56   \n",
       "22734                0              0     12  21.80          0    20.11   \n",
       "\n",
       "      semana_actual  edad_cliente  \n",
       "0                26          23.0  \n",
       "1                13          60.0  \n",
       "2                74          58.0  \n",
       "3                13          42.0  \n",
       "4                74          33.0  \n",
       "...             ...           ...  \n",
       "22730             0          22.0  \n",
       "22731             0          27.0  \n",
       "22732             0          36.0  \n",
       "22733             0          53.0  \n",
       "22734             0          19.0  \n",
       "\n",
       "[22735 rows x 39 columns]"
      ]
     },
     "execution_count": 590,
     "metadata": {},
     "output_type": "execute_result"
    }
   ],
   "source": [
    "n_col=df[['tag', 'fecha', 'marca', 'modelo', 'plazo', 'agente_venta', 'dis_venta', 'empresa', 'fecha_ultimo_pago', 'fecha_pago_proximo', 'status_cuenta', 'razones_buro', 'limite_credito', 'cp_cliente', 'cd_cliente', 'edo_cliente', 'cd_venta', 'edo_venta', 'curp']]\n",
    "df = pd.concat([n_col, dfL], axis=1)\n",
    "df"
   ]
  },
  {
   "cell_type": "code",
   "execution_count": 591,
   "metadata": {
    "colab": {
     "base_uri": "https://localhost:8080/"
    },
    "id": "KnyTFVhCy4Ux",
    "outputId": "b03e022e-e5d4-47cf-f337-67f5b55fc9fc"
   },
   "outputs": [
    {
     "data": {
      "text/plain": [
       "tag                   0\n",
       "fecha                 0\n",
       "marca                 0\n",
       "modelo                0\n",
       "plazo                 0\n",
       "agente_venta          0\n",
       "dis_venta             0\n",
       "empresa               0\n",
       "fecha_ultimo_pago     0\n",
       "fecha_pago_proximo    0\n",
       "status_cuenta         0\n",
       "razones_buro          0\n",
       "limite_credito        0\n",
       "cp_cliente            0\n",
       "cd_cliente            0\n",
       "edo_cliente           0\n",
       "cd_venta              0\n",
       "edo_venta             0\n",
       "curp                  0\n",
       "folio                 0\n",
       "folio_solicitud       0\n",
       "precio                0\n",
       "enganche              0\n",
       "descuento             0\n",
       "semana                0\n",
       "monto_financiado      0\n",
       "costo_total           0\n",
       "monto_accesorios      0\n",
       "status                0\n",
       "fraude                0\n",
       "inversion             0\n",
       "pagos_realizados      0\n",
       "reautorizacion        0\n",
       "puntos                0\n",
       "riesgo                0\n",
       "score_buro            0\n",
       "porc_eng              0\n",
       "semana_actual         0\n",
       "edad_cliente          0\n",
       "dtype: int64"
      ]
     },
     "execution_count": 591,
     "metadata": {},
     "output_type": "execute_result"
    }
   ],
   "source": [
    "df.isnull().sum()"
   ]
  },
  {
   "cell_type": "code",
   "execution_count": 592,
   "metadata": {
    "colab": {
     "base_uri": "https://localhost:8080/"
    },
    "id": "FJ_nzGK1y6Yw",
    "outputId": "6266c00e-0018-429a-f1e8-5779df00998a"
   },
   "outputs": [
    {
     "name": "stdout",
     "output_type": "stream",
     "text": [
      "<class 'pandas.core.frame.DataFrame'>\n",
      "RangeIndex: 22735 entries, 0 to 22734\n",
      "Data columns (total 39 columns):\n",
      " #   Column              Non-Null Count  Dtype  \n",
      "---  ------              --------------  -----  \n",
      " 0   tag                 22735 non-null  object \n",
      " 1   fecha               22735 non-null  object \n",
      " 2   marca               22735 non-null  object \n",
      " 3   modelo              22735 non-null  object \n",
      " 4   plazo               22735 non-null  object \n",
      " 5   agente_venta        22735 non-null  object \n",
      " 6   dis_venta           22735 non-null  object \n",
      " 7   empresa             22735 non-null  object \n",
      " 8   fecha_ultimo_pago   22735 non-null  object \n",
      " 9   fecha_pago_proximo  22735 non-null  object \n",
      " 10  status_cuenta       22735 non-null  object \n",
      " 11  razones_buro        22735 non-null  object \n",
      " 12  limite_credito      22735 non-null  object \n",
      " 13  cp_cliente          22735 non-null  object \n",
      " 14  cd_cliente          22735 non-null  object \n",
      " 15  edo_cliente         22735 non-null  object \n",
      " 16  cd_venta            22735 non-null  object \n",
      " 17  edo_venta           22735 non-null  object \n",
      " 18  curp                22735 non-null  object \n",
      " 19  folio               22735 non-null  int64  \n",
      " 20  folio_solicitud     22735 non-null  int64  \n",
      " 21  precio              22735 non-null  float64\n",
      " 22  enganche            22735 non-null  float64\n",
      " 23  descuento           22735 non-null  float64\n",
      " 24  semana              22735 non-null  int64  \n",
      " 25  monto_financiado    22735 non-null  float64\n",
      " 26  costo_total         22735 non-null  int64  \n",
      " 27  monto_accesorios    22735 non-null  float64\n",
      " 28  status              22735 non-null  int64  \n",
      " 29  fraude              22735 non-null  int64  \n",
      " 30  inversion           22735 non-null  int64  \n",
      " 31  pagos_realizados    22735 non-null  int64  \n",
      " 32  reautorizacion      22735 non-null  int64  \n",
      " 33  puntos              22735 non-null  int64  \n",
      " 34  riesgo              22735 non-null  float64\n",
      " 35  score_buro          22735 non-null  int64  \n",
      " 36  porc_eng            22735 non-null  float64\n",
      " 37  semana_actual       22735 non-null  int64  \n",
      " 38  edad_cliente        22735 non-null  float64\n",
      "dtypes: float64(8), int64(12), object(19)\n",
      "memory usage: 6.8+ MB\n"
     ]
    }
   ],
   "source": [
    "df.info()"
   ]
  },
  {
   "cell_type": "code",
   "execution_count": 593,
   "metadata": {
    "colab": {
     "base_uri": "https://localhost:8080/",
     "height": 731
    },
    "id": "QMwBVshEy8l-",
    "outputId": "8c088010-3e34-48b1-d14d-7395de04332a"
   },
   "outputs": [
    {
     "name": "stderr",
     "output_type": "stream",
     "text": [
      "<ipython-input-593-7668110952fa>:1: FutureWarning: The default value of numeric_only in DataFrame.corr is deprecated. In a future version, it will default to False. Select only valid columns or specify the value of numeric_only to silence this warning.\n",
      "  matriz = df.corr()\n"
     ]
    },
    {
     "data": {
      "text/html": [
       "\n",
       "  <div id=\"df-365bc376-ab7f-4c1f-a212-a7856d7dadc6\" class=\"colab-df-container\">\n",
       "    <div>\n",
       "<style scoped>\n",
       "    .dataframe tbody tr th:only-of-type {\n",
       "        vertical-align: middle;\n",
       "    }\n",
       "\n",
       "    .dataframe tbody tr th {\n",
       "        vertical-align: top;\n",
       "    }\n",
       "\n",
       "    .dataframe thead th {\n",
       "        text-align: right;\n",
       "    }\n",
       "</style>\n",
       "<table border=\"1\" class=\"dataframe\">\n",
       "  <thead>\n",
       "    <tr style=\"text-align: right;\">\n",
       "      <th></th>\n",
       "      <th>folio</th>\n",
       "      <th>folio_solicitud</th>\n",
       "      <th>precio</th>\n",
       "      <th>enganche</th>\n",
       "      <th>descuento</th>\n",
       "      <th>semana</th>\n",
       "      <th>monto_financiado</th>\n",
       "      <th>costo_total</th>\n",
       "      <th>monto_accesorios</th>\n",
       "      <th>status</th>\n",
       "      <th>fraude</th>\n",
       "      <th>inversion</th>\n",
       "      <th>pagos_realizados</th>\n",
       "      <th>reautorizacion</th>\n",
       "      <th>puntos</th>\n",
       "      <th>riesgo</th>\n",
       "      <th>score_buro</th>\n",
       "      <th>porc_eng</th>\n",
       "      <th>semana_actual</th>\n",
       "      <th>edad_cliente</th>\n",
       "    </tr>\n",
       "  </thead>\n",
       "  <tbody>\n",
       "    <tr>\n",
       "      <th>folio</th>\n",
       "      <td>1.000000</td>\n",
       "      <td>0.971332</td>\n",
       "      <td>0.098971</td>\n",
       "      <td>0.124622</td>\n",
       "      <td>0.130377</td>\n",
       "      <td>0.094659</td>\n",
       "      <td>0.075446</td>\n",
       "      <td>0.027103</td>\n",
       "      <td>0.081637</td>\n",
       "      <td>-0.381641</td>\n",
       "      <td>-0.051590</td>\n",
       "      <td>-0.139744</td>\n",
       "      <td>-0.477863</td>\n",
       "      <td>-0.267134</td>\n",
       "      <td>-0.120736</td>\n",
       "      <td>0.352654</td>\n",
       "      <td>0.548206</td>\n",
       "      <td>0.069327</td>\n",
       "      <td>-0.819061</td>\n",
       "      <td>0.047835</td>\n",
       "    </tr>\n",
       "    <tr>\n",
       "      <th>folio_solicitud</th>\n",
       "      <td>0.971332</td>\n",
       "      <td>1.000000</td>\n",
       "      <td>0.099934</td>\n",
       "      <td>0.121863</td>\n",
       "      <td>0.127074</td>\n",
       "      <td>0.097633</td>\n",
       "      <td>0.077342</td>\n",
       "      <td>0.029438</td>\n",
       "      <td>0.071465</td>\n",
       "      <td>-0.378045</td>\n",
       "      <td>-0.051017</td>\n",
       "      <td>-0.130940</td>\n",
       "      <td>-0.467299</td>\n",
       "      <td>-0.250896</td>\n",
       "      <td>-0.136859</td>\n",
       "      <td>0.340098</td>\n",
       "      <td>0.527624</td>\n",
       "      <td>0.063868</td>\n",
       "      <td>-0.796687</td>\n",
       "      <td>0.050773</td>\n",
       "    </tr>\n",
       "    <tr>\n",
       "      <th>precio</th>\n",
       "      <td>0.098971</td>\n",
       "      <td>0.099934</td>\n",
       "      <td>1.000000</td>\n",
       "      <td>0.678519</td>\n",
       "      <td>0.009883</td>\n",
       "      <td>0.672673</td>\n",
       "      <td>0.947080</td>\n",
       "      <td>0.872403</td>\n",
       "      <td>0.019097</td>\n",
       "      <td>-0.096183</td>\n",
       "      <td>0.060723</td>\n",
       "      <td>0.004445</td>\n",
       "      <td>0.017000</td>\n",
       "      <td>-0.057546</td>\n",
       "      <td>0.073077</td>\n",
       "      <td>-0.042888</td>\n",
       "      <td>0.080220</td>\n",
       "      <td>-0.011328</td>\n",
       "      <td>-0.030421</td>\n",
       "      <td>-0.017567</td>\n",
       "    </tr>\n",
       "    <tr>\n",
       "      <th>enganche</th>\n",
       "      <td>0.124622</td>\n",
       "      <td>0.121863</td>\n",
       "      <td>0.678519</td>\n",
       "      <td>1.000000</td>\n",
       "      <td>-0.025689</td>\n",
       "      <td>0.339912</td>\n",
       "      <td>0.408276</td>\n",
       "      <td>0.355694</td>\n",
       "      <td>0.031409</td>\n",
       "      <td>-0.032450</td>\n",
       "      <td>0.051645</td>\n",
       "      <td>-0.071798</td>\n",
       "      <td>-0.080730</td>\n",
       "      <td>-0.022209</td>\n",
       "      <td>-0.175815</td>\n",
       "      <td>0.272575</td>\n",
       "      <td>0.059764</td>\n",
       "      <td>0.676520</td>\n",
       "      <td>-0.094174</td>\n",
       "      <td>-0.013904</td>\n",
       "    </tr>\n",
       "    <tr>\n",
       "      <th>descuento</th>\n",
       "      <td>0.130377</td>\n",
       "      <td>0.127074</td>\n",
       "      <td>0.009883</td>\n",
       "      <td>-0.025689</td>\n",
       "      <td>1.000000</td>\n",
       "      <td>-0.026317</td>\n",
       "      <td>0.024136</td>\n",
       "      <td>0.036940</td>\n",
       "      <td>-0.006212</td>\n",
       "      <td>-0.076093</td>\n",
       "      <td>-0.035743</td>\n",
       "      <td>0.240813</td>\n",
       "      <td>0.040920</td>\n",
       "      <td>-0.016730</td>\n",
       "      <td>-0.087252</td>\n",
       "      <td>0.036555</td>\n",
       "      <td>0.103998</td>\n",
       "      <td>-0.050813</td>\n",
       "      <td>-0.112215</td>\n",
       "      <td>0.012407</td>\n",
       "    </tr>\n",
       "    <tr>\n",
       "      <th>semana</th>\n",
       "      <td>0.094659</td>\n",
       "      <td>0.097633</td>\n",
       "      <td>0.672673</td>\n",
       "      <td>0.339912</td>\n",
       "      <td>-0.026317</td>\n",
       "      <td>1.000000</td>\n",
       "      <td>0.688111</td>\n",
       "      <td>0.411911</td>\n",
       "      <td>0.028635</td>\n",
       "      <td>0.143145</td>\n",
       "      <td>0.028683</td>\n",
       "      <td>0.036724</td>\n",
       "      <td>-0.133589</td>\n",
       "      <td>0.006011</td>\n",
       "      <td>0.084821</td>\n",
       "      <td>-0.091175</td>\n",
       "      <td>0.072555</td>\n",
       "      <td>-0.158246</td>\n",
       "      <td>-0.189936</td>\n",
       "      <td>-0.018347</td>\n",
       "    </tr>\n",
       "    <tr>\n",
       "      <th>monto_financiado</th>\n",
       "      <td>0.075446</td>\n",
       "      <td>0.077342</td>\n",
       "      <td>0.947080</td>\n",
       "      <td>0.408276</td>\n",
       "      <td>0.024136</td>\n",
       "      <td>0.688111</td>\n",
       "      <td>1.000000</td>\n",
       "      <td>0.929859</td>\n",
       "      <td>0.030831</td>\n",
       "      <td>-0.108464</td>\n",
       "      <td>0.052949</td>\n",
       "      <td>0.036326</td>\n",
       "      <td>0.052593</td>\n",
       "      <td>-0.062734</td>\n",
       "      <td>0.165852</td>\n",
       "      <td>-0.169037</td>\n",
       "      <td>0.076027</td>\n",
       "      <td>-0.307681</td>\n",
       "      <td>-0.002362</td>\n",
       "      <td>-0.014597</td>\n",
       "    </tr>\n",
       "    <tr>\n",
       "      <th>costo_total</th>\n",
       "      <td>0.027103</td>\n",
       "      <td>0.029438</td>\n",
       "      <td>0.872403</td>\n",
       "      <td>0.355694</td>\n",
       "      <td>0.036940</td>\n",
       "      <td>0.411911</td>\n",
       "      <td>0.929859</td>\n",
       "      <td>1.000000</td>\n",
       "      <td>0.063101</td>\n",
       "      <td>-0.195627</td>\n",
       "      <td>0.060782</td>\n",
       "      <td>0.024614</td>\n",
       "      <td>0.132380</td>\n",
       "      <td>-0.086438</td>\n",
       "      <td>0.159682</td>\n",
       "      <td>-0.171733</td>\n",
       "      <td>0.060079</td>\n",
       "      <td>-0.305885</td>\n",
       "      <td>0.104572</td>\n",
       "      <td>-0.008468</td>\n",
       "    </tr>\n",
       "    <tr>\n",
       "      <th>monto_accesorios</th>\n",
       "      <td>0.081637</td>\n",
       "      <td>0.071465</td>\n",
       "      <td>0.019097</td>\n",
       "      <td>0.031409</td>\n",
       "      <td>-0.006212</td>\n",
       "      <td>0.028635</td>\n",
       "      <td>0.030831</td>\n",
       "      <td>0.063101</td>\n",
       "      <td>1.000000</td>\n",
       "      <td>-0.043031</td>\n",
       "      <td>0.029445</td>\n",
       "      <td>-0.050677</td>\n",
       "      <td>-0.062232</td>\n",
       "      <td>-0.026971</td>\n",
       "      <td>-0.040392</td>\n",
       "      <td>0.078120</td>\n",
       "      <td>0.039010</td>\n",
       "      <td>0.029359</td>\n",
       "      <td>-0.059894</td>\n",
       "      <td>0.034453</td>\n",
       "    </tr>\n",
       "    <tr>\n",
       "      <th>status</th>\n",
       "      <td>-0.381641</td>\n",
       "      <td>-0.378045</td>\n",
       "      <td>-0.096183</td>\n",
       "      <td>-0.032450</td>\n",
       "      <td>-0.076093</td>\n",
       "      <td>0.143145</td>\n",
       "      <td>-0.108464</td>\n",
       "      <td>-0.195627</td>\n",
       "      <td>-0.043031</td>\n",
       "      <td>1.000000</td>\n",
       "      <td>-0.155148</td>\n",
       "      <td>0.077710</td>\n",
       "      <td>0.251670</td>\n",
       "      <td>0.281953</td>\n",
       "      <td>0.062583</td>\n",
       "      <td>-0.143361</td>\n",
       "      <td>-0.240651</td>\n",
       "      <td>0.049292</td>\n",
       "      <td>-0.006862</td>\n",
       "      <td>-0.018282</td>\n",
       "    </tr>\n",
       "    <tr>\n",
       "      <th>fraude</th>\n",
       "      <td>-0.051590</td>\n",
       "      <td>-0.051017</td>\n",
       "      <td>0.060723</td>\n",
       "      <td>0.051645</td>\n",
       "      <td>-0.035743</td>\n",
       "      <td>0.028683</td>\n",
       "      <td>0.052949</td>\n",
       "      <td>0.060782</td>\n",
       "      <td>0.029445</td>\n",
       "      <td>-0.155148</td>\n",
       "      <td>1.000000</td>\n",
       "      <td>-0.045808</td>\n",
       "      <td>-0.290140</td>\n",
       "      <td>-0.053387</td>\n",
       "      <td>-0.000143</td>\n",
       "      <td>0.033686</td>\n",
       "      <td>-0.024286</td>\n",
       "      <td>0.023888</td>\n",
       "      <td>0.131246</td>\n",
       "      <td>0.008989</td>\n",
       "    </tr>\n",
       "    <tr>\n",
       "      <th>inversion</th>\n",
       "      <td>-0.139744</td>\n",
       "      <td>-0.130940</td>\n",
       "      <td>0.004445</td>\n",
       "      <td>-0.071798</td>\n",
       "      <td>0.240813</td>\n",
       "      <td>0.036724</td>\n",
       "      <td>0.036326</td>\n",
       "      <td>0.024614</td>\n",
       "      <td>-0.050677</td>\n",
       "      <td>0.077710</td>\n",
       "      <td>-0.045808</td>\n",
       "      <td>1.000000</td>\n",
       "      <td>0.183455</td>\n",
       "      <td>0.083254</td>\n",
       "      <td>0.079687</td>\n",
       "      <td>-0.134503</td>\n",
       "      <td>-0.097543</td>\n",
       "      <td>-0.131851</td>\n",
       "      <td>0.091410</td>\n",
       "      <td>-0.021387</td>\n",
       "    </tr>\n",
       "    <tr>\n",
       "      <th>pagos_realizados</th>\n",
       "      <td>-0.477863</td>\n",
       "      <td>-0.467299</td>\n",
       "      <td>0.017000</td>\n",
       "      <td>-0.080730</td>\n",
       "      <td>0.040920</td>\n",
       "      <td>-0.133589</td>\n",
       "      <td>0.052593</td>\n",
       "      <td>0.132380</td>\n",
       "      <td>-0.062232</td>\n",
       "      <td>0.251670</td>\n",
       "      <td>-0.290140</td>\n",
       "      <td>0.183455</td>\n",
       "      <td>1.000000</td>\n",
       "      <td>0.191830</td>\n",
       "      <td>0.173756</td>\n",
       "      <td>-0.239008</td>\n",
       "      <td>-0.220372</td>\n",
       "      <td>-0.143488</td>\n",
       "      <td>0.383564</td>\n",
       "      <td>-0.014660</td>\n",
       "    </tr>\n",
       "    <tr>\n",
       "      <th>reautorizacion</th>\n",
       "      <td>-0.267134</td>\n",
       "      <td>-0.250896</td>\n",
       "      <td>-0.057546</td>\n",
       "      <td>-0.022209</td>\n",
       "      <td>-0.016730</td>\n",
       "      <td>0.006011</td>\n",
       "      <td>-0.062734</td>\n",
       "      <td>-0.086438</td>\n",
       "      <td>-0.026971</td>\n",
       "      <td>0.281953</td>\n",
       "      <td>-0.053387</td>\n",
       "      <td>0.083254</td>\n",
       "      <td>0.191830</td>\n",
       "      <td>1.000000</td>\n",
       "      <td>-0.203217</td>\n",
       "      <td>-0.057144</td>\n",
       "      <td>-0.188628</td>\n",
       "      <td>0.027921</td>\n",
       "      <td>0.026692</td>\n",
       "      <td>-0.010277</td>\n",
       "    </tr>\n",
       "    <tr>\n",
       "      <th>puntos</th>\n",
       "      <td>-0.120736</td>\n",
       "      <td>-0.136859</td>\n",
       "      <td>0.073077</td>\n",
       "      <td>-0.175815</td>\n",
       "      <td>-0.087252</td>\n",
       "      <td>0.084821</td>\n",
       "      <td>0.165852</td>\n",
       "      <td>0.159682</td>\n",
       "      <td>-0.040392</td>\n",
       "      <td>0.062583</td>\n",
       "      <td>-0.000143</td>\n",
       "      <td>0.079687</td>\n",
       "      <td>0.173756</td>\n",
       "      <td>-0.203217</td>\n",
       "      <td>1.000000</td>\n",
       "      <td>-0.455606</td>\n",
       "      <td>-0.224206</td>\n",
       "      <td>-0.357969</td>\n",
       "      <td>0.119593</td>\n",
       "      <td>-0.000907</td>\n",
       "    </tr>\n",
       "    <tr>\n",
       "      <th>riesgo</th>\n",
       "      <td>0.352654</td>\n",
       "      <td>0.340098</td>\n",
       "      <td>-0.042888</td>\n",
       "      <td>0.272575</td>\n",
       "      <td>0.036555</td>\n",
       "      <td>-0.091175</td>\n",
       "      <td>-0.169037</td>\n",
       "      <td>-0.171733</td>\n",
       "      <td>0.078120</td>\n",
       "      <td>-0.143361</td>\n",
       "      <td>0.033686</td>\n",
       "      <td>-0.134503</td>\n",
       "      <td>-0.239008</td>\n",
       "      <td>-0.057144</td>\n",
       "      <td>-0.455606</td>\n",
       "      <td>1.000000</td>\n",
       "      <td>-0.067350</td>\n",
       "      <td>0.474009</td>\n",
       "      <td>-0.304266</td>\n",
       "      <td>0.019913</td>\n",
       "    </tr>\n",
       "    <tr>\n",
       "      <th>score_buro</th>\n",
       "      <td>0.548206</td>\n",
       "      <td>0.527624</td>\n",
       "      <td>0.080220</td>\n",
       "      <td>0.059764</td>\n",
       "      <td>0.103998</td>\n",
       "      <td>0.072555</td>\n",
       "      <td>0.076027</td>\n",
       "      <td>0.060079</td>\n",
       "      <td>0.039010</td>\n",
       "      <td>-0.240651</td>\n",
       "      <td>-0.024286</td>\n",
       "      <td>-0.097543</td>\n",
       "      <td>-0.220372</td>\n",
       "      <td>-0.188628</td>\n",
       "      <td>-0.224206</td>\n",
       "      <td>-0.067350</td>\n",
       "      <td>1.000000</td>\n",
       "      <td>0.006687</td>\n",
       "      <td>-0.454738</td>\n",
       "      <td>-0.028217</td>\n",
       "    </tr>\n",
       "    <tr>\n",
       "      <th>porc_eng</th>\n",
       "      <td>0.069327</td>\n",
       "      <td>0.063868</td>\n",
       "      <td>-0.011328</td>\n",
       "      <td>0.676520</td>\n",
       "      <td>-0.050813</td>\n",
       "      <td>-0.158246</td>\n",
       "      <td>-0.307681</td>\n",
       "      <td>-0.305885</td>\n",
       "      <td>0.029359</td>\n",
       "      <td>0.049292</td>\n",
       "      <td>0.023888</td>\n",
       "      <td>-0.131851</td>\n",
       "      <td>-0.143488</td>\n",
       "      <td>0.027921</td>\n",
       "      <td>-0.357969</td>\n",
       "      <td>0.474009</td>\n",
       "      <td>0.006687</td>\n",
       "      <td>1.000000</td>\n",
       "      <td>-0.095722</td>\n",
       "      <td>-0.004217</td>\n",
       "    </tr>\n",
       "    <tr>\n",
       "      <th>semana_actual</th>\n",
       "      <td>-0.819061</td>\n",
       "      <td>-0.796687</td>\n",
       "      <td>-0.030421</td>\n",
       "      <td>-0.094174</td>\n",
       "      <td>-0.112215</td>\n",
       "      <td>-0.189936</td>\n",
       "      <td>-0.002362</td>\n",
       "      <td>0.104572</td>\n",
       "      <td>-0.059894</td>\n",
       "      <td>-0.006862</td>\n",
       "      <td>0.131246</td>\n",
       "      <td>0.091410</td>\n",
       "      <td>0.383564</td>\n",
       "      <td>0.026692</td>\n",
       "      <td>0.119593</td>\n",
       "      <td>-0.304266</td>\n",
       "      <td>-0.454738</td>\n",
       "      <td>-0.095722</td>\n",
       "      <td>1.000000</td>\n",
       "      <td>-0.042021</td>\n",
       "    </tr>\n",
       "    <tr>\n",
       "      <th>edad_cliente</th>\n",
       "      <td>0.047835</td>\n",
       "      <td>0.050773</td>\n",
       "      <td>-0.017567</td>\n",
       "      <td>-0.013904</td>\n",
       "      <td>0.012407</td>\n",
       "      <td>-0.018347</td>\n",
       "      <td>-0.014597</td>\n",
       "      <td>-0.008468</td>\n",
       "      <td>0.034453</td>\n",
       "      <td>-0.018282</td>\n",
       "      <td>0.008989</td>\n",
       "      <td>-0.021387</td>\n",
       "      <td>-0.014660</td>\n",
       "      <td>-0.010277</td>\n",
       "      <td>-0.000907</td>\n",
       "      <td>0.019913</td>\n",
       "      <td>-0.028217</td>\n",
       "      <td>-0.004217</td>\n",
       "      <td>-0.042021</td>\n",
       "      <td>1.000000</td>\n",
       "    </tr>\n",
       "  </tbody>\n",
       "</table>\n",
       "</div>\n",
       "    <div class=\"colab-df-buttons\">\n",
       "\n",
       "  <div class=\"colab-df-container\">\n",
       "    <button class=\"colab-df-convert\" onclick=\"convertToInteractive('df-365bc376-ab7f-4c1f-a212-a7856d7dadc6')\"\n",
       "            title=\"Convert this dataframe to an interactive table.\"\n",
       "            style=\"display:none;\">\n",
       "\n",
       "  <svg xmlns=\"http://www.w3.org/2000/svg\" height=\"24px\" viewBox=\"0 -960 960 960\">\n",
       "    <path d=\"M120-120v-720h720v720H120Zm60-500h600v-160H180v160Zm220 220h160v-160H400v160Zm0 220h160v-160H400v160ZM180-400h160v-160H180v160Zm440 0h160v-160H620v160ZM180-180h160v-160H180v160Zm440 0h160v-160H620v160Z\"/>\n",
       "  </svg>\n",
       "    </button>\n",
       "\n",
       "  <style>\n",
       "    .colab-df-container {\n",
       "      display:flex;\n",
       "      gap: 12px;\n",
       "    }\n",
       "\n",
       "    .colab-df-convert {\n",
       "      background-color: #E8F0FE;\n",
       "      border: none;\n",
       "      border-radius: 50%;\n",
       "      cursor: pointer;\n",
       "      display: none;\n",
       "      fill: #1967D2;\n",
       "      height: 32px;\n",
       "      padding: 0 0 0 0;\n",
       "      width: 32px;\n",
       "    }\n",
       "\n",
       "    .colab-df-convert:hover {\n",
       "      background-color: #E2EBFA;\n",
       "      box-shadow: 0px 1px 2px rgba(60, 64, 67, 0.3), 0px 1px 3px 1px rgba(60, 64, 67, 0.15);\n",
       "      fill: #174EA6;\n",
       "    }\n",
       "\n",
       "    .colab-df-buttons div {\n",
       "      margin-bottom: 4px;\n",
       "    }\n",
       "\n",
       "    [theme=dark] .colab-df-convert {\n",
       "      background-color: #3B4455;\n",
       "      fill: #D2E3FC;\n",
       "    }\n",
       "\n",
       "    [theme=dark] .colab-df-convert:hover {\n",
       "      background-color: #434B5C;\n",
       "      box-shadow: 0px 1px 3px 1px rgba(0, 0, 0, 0.15);\n",
       "      filter: drop-shadow(0px 1px 2px rgba(0, 0, 0, 0.3));\n",
       "      fill: #FFFFFF;\n",
       "    }\n",
       "  </style>\n",
       "\n",
       "    <script>\n",
       "      const buttonEl =\n",
       "        document.querySelector('#df-365bc376-ab7f-4c1f-a212-a7856d7dadc6 button.colab-df-convert');\n",
       "      buttonEl.style.display =\n",
       "        google.colab.kernel.accessAllowed ? 'block' : 'none';\n",
       "\n",
       "      async function convertToInteractive(key) {\n",
       "        const element = document.querySelector('#df-365bc376-ab7f-4c1f-a212-a7856d7dadc6');\n",
       "        const dataTable =\n",
       "          await google.colab.kernel.invokeFunction('convertToInteractive',\n",
       "                                                    [key], {});\n",
       "        if (!dataTable) return;\n",
       "\n",
       "        const docLinkHtml = 'Like what you see? Visit the ' +\n",
       "          '<a target=\"_blank\" href=https://colab.research.google.com/notebooks/data_table.ipynb>data table notebook</a>'\n",
       "          + ' to learn more about interactive tables.';\n",
       "        element.innerHTML = '';\n",
       "        dataTable['output_type'] = 'display_data';\n",
       "        await google.colab.output.renderOutput(dataTable, element);\n",
       "        const docLink = document.createElement('div');\n",
       "        docLink.innerHTML = docLinkHtml;\n",
       "        element.appendChild(docLink);\n",
       "      }\n",
       "    </script>\n",
       "  </div>\n",
       "\n",
       "\n",
       "<div id=\"df-d7831440-74c5-4b16-a06e-a00d13f12230\">\n",
       "  <button class=\"colab-df-quickchart\" onclick=\"quickchart('df-d7831440-74c5-4b16-a06e-a00d13f12230')\"\n",
       "            title=\"Suggest charts.\"\n",
       "            style=\"display:none;\">\n",
       "\n",
       "<svg xmlns=\"http://www.w3.org/2000/svg\" height=\"24px\"viewBox=\"0 0 24 24\"\n",
       "     width=\"24px\">\n",
       "    <g>\n",
       "        <path d=\"M19 3H5c-1.1 0-2 .9-2 2v14c0 1.1.9 2 2 2h14c1.1 0 2-.9 2-2V5c0-1.1-.9-2-2-2zM9 17H7v-7h2v7zm4 0h-2V7h2v10zm4 0h-2v-4h2v4z\"/>\n",
       "    </g>\n",
       "</svg>\n",
       "  </button>\n",
       "\n",
       "<style>\n",
       "  .colab-df-quickchart {\n",
       "      --bg-color: #E8F0FE;\n",
       "      --fill-color: #1967D2;\n",
       "      --hover-bg-color: #E2EBFA;\n",
       "      --hover-fill-color: #174EA6;\n",
       "      --disabled-fill-color: #AAA;\n",
       "      --disabled-bg-color: #DDD;\n",
       "  }\n",
       "\n",
       "  [theme=dark] .colab-df-quickchart {\n",
       "      --bg-color: #3B4455;\n",
       "      --fill-color: #D2E3FC;\n",
       "      --hover-bg-color: #434B5C;\n",
       "      --hover-fill-color: #FFFFFF;\n",
       "      --disabled-bg-color: #3B4455;\n",
       "      --disabled-fill-color: #666;\n",
       "  }\n",
       "\n",
       "  .colab-df-quickchart {\n",
       "    background-color: var(--bg-color);\n",
       "    border: none;\n",
       "    border-radius: 50%;\n",
       "    cursor: pointer;\n",
       "    display: none;\n",
       "    fill: var(--fill-color);\n",
       "    height: 32px;\n",
       "    padding: 0;\n",
       "    width: 32px;\n",
       "  }\n",
       "\n",
       "  .colab-df-quickchart:hover {\n",
       "    background-color: var(--hover-bg-color);\n",
       "    box-shadow: 0 1px 2px rgba(60, 64, 67, 0.3), 0 1px 3px 1px rgba(60, 64, 67, 0.15);\n",
       "    fill: var(--button-hover-fill-color);\n",
       "  }\n",
       "\n",
       "  .colab-df-quickchart-complete:disabled,\n",
       "  .colab-df-quickchart-complete:disabled:hover {\n",
       "    background-color: var(--disabled-bg-color);\n",
       "    fill: var(--disabled-fill-color);\n",
       "    box-shadow: none;\n",
       "  }\n",
       "\n",
       "  .colab-df-spinner {\n",
       "    border: 2px solid var(--fill-color);\n",
       "    border-color: transparent;\n",
       "    border-bottom-color: var(--fill-color);\n",
       "    animation:\n",
       "      spin 1s steps(1) infinite;\n",
       "  }\n",
       "\n",
       "  @keyframes spin {\n",
       "    0% {\n",
       "      border-color: transparent;\n",
       "      border-bottom-color: var(--fill-color);\n",
       "      border-left-color: var(--fill-color);\n",
       "    }\n",
       "    20% {\n",
       "      border-color: transparent;\n",
       "      border-left-color: var(--fill-color);\n",
       "      border-top-color: var(--fill-color);\n",
       "    }\n",
       "    30% {\n",
       "      border-color: transparent;\n",
       "      border-left-color: var(--fill-color);\n",
       "      border-top-color: var(--fill-color);\n",
       "      border-right-color: var(--fill-color);\n",
       "    }\n",
       "    40% {\n",
       "      border-color: transparent;\n",
       "      border-right-color: var(--fill-color);\n",
       "      border-top-color: var(--fill-color);\n",
       "    }\n",
       "    60% {\n",
       "      border-color: transparent;\n",
       "      border-right-color: var(--fill-color);\n",
       "    }\n",
       "    80% {\n",
       "      border-color: transparent;\n",
       "      border-right-color: var(--fill-color);\n",
       "      border-bottom-color: var(--fill-color);\n",
       "    }\n",
       "    90% {\n",
       "      border-color: transparent;\n",
       "      border-bottom-color: var(--fill-color);\n",
       "    }\n",
       "  }\n",
       "</style>\n",
       "\n",
       "  <script>\n",
       "    async function quickchart(key) {\n",
       "      const quickchartButtonEl =\n",
       "        document.querySelector('#' + key + ' button');\n",
       "      quickchartButtonEl.disabled = true;  // To prevent multiple clicks.\n",
       "      quickchartButtonEl.classList.add('colab-df-spinner');\n",
       "      try {\n",
       "        const charts = await google.colab.kernel.invokeFunction(\n",
       "            'suggestCharts', [key], {});\n",
       "      } catch (error) {\n",
       "        console.error('Error during call to suggestCharts:', error);\n",
       "      }\n",
       "      quickchartButtonEl.classList.remove('colab-df-spinner');\n",
       "      quickchartButtonEl.classList.add('colab-df-quickchart-complete');\n",
       "    }\n",
       "    (() => {\n",
       "      let quickchartButtonEl =\n",
       "        document.querySelector('#df-d7831440-74c5-4b16-a06e-a00d13f12230 button');\n",
       "      quickchartButtonEl.style.display =\n",
       "        google.colab.kernel.accessAllowed ? 'block' : 'none';\n",
       "    })();\n",
       "  </script>\n",
       "</div>\n",
       "    </div>\n",
       "  </div>\n"
      ],
      "text/plain": [
       "                     folio  folio_solicitud    precio  enganche  descuento  \\\n",
       "folio             1.000000         0.971332  0.098971  0.124622   0.130377   \n",
       "folio_solicitud   0.971332         1.000000  0.099934  0.121863   0.127074   \n",
       "precio            0.098971         0.099934  1.000000  0.678519   0.009883   \n",
       "enganche          0.124622         0.121863  0.678519  1.000000  -0.025689   \n",
       "descuento         0.130377         0.127074  0.009883 -0.025689   1.000000   \n",
       "semana            0.094659         0.097633  0.672673  0.339912  -0.026317   \n",
       "monto_financiado  0.075446         0.077342  0.947080  0.408276   0.024136   \n",
       "costo_total       0.027103         0.029438  0.872403  0.355694   0.036940   \n",
       "monto_accesorios  0.081637         0.071465  0.019097  0.031409  -0.006212   \n",
       "status           -0.381641        -0.378045 -0.096183 -0.032450  -0.076093   \n",
       "fraude           -0.051590        -0.051017  0.060723  0.051645  -0.035743   \n",
       "inversion        -0.139744        -0.130940  0.004445 -0.071798   0.240813   \n",
       "pagos_realizados -0.477863        -0.467299  0.017000 -0.080730   0.040920   \n",
       "reautorizacion   -0.267134        -0.250896 -0.057546 -0.022209  -0.016730   \n",
       "puntos           -0.120736        -0.136859  0.073077 -0.175815  -0.087252   \n",
       "riesgo            0.352654         0.340098 -0.042888  0.272575   0.036555   \n",
       "score_buro        0.548206         0.527624  0.080220  0.059764   0.103998   \n",
       "porc_eng          0.069327         0.063868 -0.011328  0.676520  -0.050813   \n",
       "semana_actual    -0.819061        -0.796687 -0.030421 -0.094174  -0.112215   \n",
       "edad_cliente      0.047835         0.050773 -0.017567 -0.013904   0.012407   \n",
       "\n",
       "                    semana  monto_financiado  costo_total  monto_accesorios  \\\n",
       "folio             0.094659          0.075446     0.027103          0.081637   \n",
       "folio_solicitud   0.097633          0.077342     0.029438          0.071465   \n",
       "precio            0.672673          0.947080     0.872403          0.019097   \n",
       "enganche          0.339912          0.408276     0.355694          0.031409   \n",
       "descuento        -0.026317          0.024136     0.036940         -0.006212   \n",
       "semana            1.000000          0.688111     0.411911          0.028635   \n",
       "monto_financiado  0.688111          1.000000     0.929859          0.030831   \n",
       "costo_total       0.411911          0.929859     1.000000          0.063101   \n",
       "monto_accesorios  0.028635          0.030831     0.063101          1.000000   \n",
       "status            0.143145         -0.108464    -0.195627         -0.043031   \n",
       "fraude            0.028683          0.052949     0.060782          0.029445   \n",
       "inversion         0.036724          0.036326     0.024614         -0.050677   \n",
       "pagos_realizados -0.133589          0.052593     0.132380         -0.062232   \n",
       "reautorizacion    0.006011         -0.062734    -0.086438         -0.026971   \n",
       "puntos            0.084821          0.165852     0.159682         -0.040392   \n",
       "riesgo           -0.091175         -0.169037    -0.171733          0.078120   \n",
       "score_buro        0.072555          0.076027     0.060079          0.039010   \n",
       "porc_eng         -0.158246         -0.307681    -0.305885          0.029359   \n",
       "semana_actual    -0.189936         -0.002362     0.104572         -0.059894   \n",
       "edad_cliente     -0.018347         -0.014597    -0.008468          0.034453   \n",
       "\n",
       "                    status    fraude  inversion  pagos_realizados  \\\n",
       "folio            -0.381641 -0.051590  -0.139744         -0.477863   \n",
       "folio_solicitud  -0.378045 -0.051017  -0.130940         -0.467299   \n",
       "precio           -0.096183  0.060723   0.004445          0.017000   \n",
       "enganche         -0.032450  0.051645  -0.071798         -0.080730   \n",
       "descuento        -0.076093 -0.035743   0.240813          0.040920   \n",
       "semana            0.143145  0.028683   0.036724         -0.133589   \n",
       "monto_financiado -0.108464  0.052949   0.036326          0.052593   \n",
       "costo_total      -0.195627  0.060782   0.024614          0.132380   \n",
       "monto_accesorios -0.043031  0.029445  -0.050677         -0.062232   \n",
       "status            1.000000 -0.155148   0.077710          0.251670   \n",
       "fraude           -0.155148  1.000000  -0.045808         -0.290140   \n",
       "inversion         0.077710 -0.045808   1.000000          0.183455   \n",
       "pagos_realizados  0.251670 -0.290140   0.183455          1.000000   \n",
       "reautorizacion    0.281953 -0.053387   0.083254          0.191830   \n",
       "puntos            0.062583 -0.000143   0.079687          0.173756   \n",
       "riesgo           -0.143361  0.033686  -0.134503         -0.239008   \n",
       "score_buro       -0.240651 -0.024286  -0.097543         -0.220372   \n",
       "porc_eng          0.049292  0.023888  -0.131851         -0.143488   \n",
       "semana_actual    -0.006862  0.131246   0.091410          0.383564   \n",
       "edad_cliente     -0.018282  0.008989  -0.021387         -0.014660   \n",
       "\n",
       "                  reautorizacion    puntos    riesgo  score_buro  porc_eng  \\\n",
       "folio                  -0.267134 -0.120736  0.352654    0.548206  0.069327   \n",
       "folio_solicitud        -0.250896 -0.136859  0.340098    0.527624  0.063868   \n",
       "precio                 -0.057546  0.073077 -0.042888    0.080220 -0.011328   \n",
       "enganche               -0.022209 -0.175815  0.272575    0.059764  0.676520   \n",
       "descuento              -0.016730 -0.087252  0.036555    0.103998 -0.050813   \n",
       "semana                  0.006011  0.084821 -0.091175    0.072555 -0.158246   \n",
       "monto_financiado       -0.062734  0.165852 -0.169037    0.076027 -0.307681   \n",
       "costo_total            -0.086438  0.159682 -0.171733    0.060079 -0.305885   \n",
       "monto_accesorios       -0.026971 -0.040392  0.078120    0.039010  0.029359   \n",
       "status                  0.281953  0.062583 -0.143361   -0.240651  0.049292   \n",
       "fraude                 -0.053387 -0.000143  0.033686   -0.024286  0.023888   \n",
       "inversion               0.083254  0.079687 -0.134503   -0.097543 -0.131851   \n",
       "pagos_realizados        0.191830  0.173756 -0.239008   -0.220372 -0.143488   \n",
       "reautorizacion          1.000000 -0.203217 -0.057144   -0.188628  0.027921   \n",
       "puntos                 -0.203217  1.000000 -0.455606   -0.224206 -0.357969   \n",
       "riesgo                 -0.057144 -0.455606  1.000000   -0.067350  0.474009   \n",
       "score_buro             -0.188628 -0.224206 -0.067350    1.000000  0.006687   \n",
       "porc_eng                0.027921 -0.357969  0.474009    0.006687  1.000000   \n",
       "semana_actual           0.026692  0.119593 -0.304266   -0.454738 -0.095722   \n",
       "edad_cliente           -0.010277 -0.000907  0.019913   -0.028217 -0.004217   \n",
       "\n",
       "                  semana_actual  edad_cliente  \n",
       "folio                 -0.819061      0.047835  \n",
       "folio_solicitud       -0.796687      0.050773  \n",
       "precio                -0.030421     -0.017567  \n",
       "enganche              -0.094174     -0.013904  \n",
       "descuento             -0.112215      0.012407  \n",
       "semana                -0.189936     -0.018347  \n",
       "monto_financiado      -0.002362     -0.014597  \n",
       "costo_total            0.104572     -0.008468  \n",
       "monto_accesorios      -0.059894      0.034453  \n",
       "status                -0.006862     -0.018282  \n",
       "fraude                 0.131246      0.008989  \n",
       "inversion              0.091410     -0.021387  \n",
       "pagos_realizados       0.383564     -0.014660  \n",
       "reautorizacion         0.026692     -0.010277  \n",
       "puntos                 0.119593     -0.000907  \n",
       "riesgo                -0.304266      0.019913  \n",
       "score_buro            -0.454738     -0.028217  \n",
       "porc_eng              -0.095722     -0.004217  \n",
       "semana_actual          1.000000     -0.042021  \n",
       "edad_cliente          -0.042021      1.000000  "
      ]
     },
     "execution_count": 593,
     "metadata": {},
     "output_type": "execute_result"
    }
   ],
   "source": [
    "matriz = df.corr()\n",
    "matriz"
   ]
  },
  {
   "cell_type": "code",
   "execution_count": 594,
   "metadata": {
    "colab": {
     "base_uri": "https://localhost:8080/",
     "height": 731
    },
    "id": "TWgsDS3Xy-pw",
    "outputId": "fff02637-ced6-42d5-ecb7-c3d33098ac03"
   },
   "outputs": [
    {
     "name": "stderr",
     "output_type": "stream",
     "text": [
      "<ipython-input-594-eedb82ff93a6>:1: UserWarning: Pandas doesn't allow columns to be created via a new attribute name - see https://pandas.pydata.org/pandas-docs/stable/indexing.html#attribute-access\n",
      "  matriz.n = np.abs(matriz)\n"
     ]
    },
    {
     "data": {
      "text/html": [
       "\n",
       "  <div id=\"df-53ba6ae0-78cb-4ea7-9d32-24f6adf7c8d3\" class=\"colab-df-container\">\n",
       "    <div>\n",
       "<style scoped>\n",
       "    .dataframe tbody tr th:only-of-type {\n",
       "        vertical-align: middle;\n",
       "    }\n",
       "\n",
       "    .dataframe tbody tr th {\n",
       "        vertical-align: top;\n",
       "    }\n",
       "\n",
       "    .dataframe thead th {\n",
       "        text-align: right;\n",
       "    }\n",
       "</style>\n",
       "<table border=\"1\" class=\"dataframe\">\n",
       "  <thead>\n",
       "    <tr style=\"text-align: right;\">\n",
       "      <th></th>\n",
       "      <th>folio</th>\n",
       "      <th>folio_solicitud</th>\n",
       "      <th>precio</th>\n",
       "      <th>enganche</th>\n",
       "      <th>descuento</th>\n",
       "      <th>semana</th>\n",
       "      <th>monto_financiado</th>\n",
       "      <th>costo_total</th>\n",
       "      <th>monto_accesorios</th>\n",
       "      <th>status</th>\n",
       "      <th>fraude</th>\n",
       "      <th>inversion</th>\n",
       "      <th>pagos_realizados</th>\n",
       "      <th>reautorizacion</th>\n",
       "      <th>puntos</th>\n",
       "      <th>riesgo</th>\n",
       "      <th>score_buro</th>\n",
       "      <th>porc_eng</th>\n",
       "      <th>semana_actual</th>\n",
       "      <th>edad_cliente</th>\n",
       "    </tr>\n",
       "  </thead>\n",
       "  <tbody>\n",
       "    <tr>\n",
       "      <th>folio</th>\n",
       "      <td>1.000000</td>\n",
       "      <td>0.971332</td>\n",
       "      <td>0.098971</td>\n",
       "      <td>0.124622</td>\n",
       "      <td>0.130377</td>\n",
       "      <td>0.094659</td>\n",
       "      <td>0.075446</td>\n",
       "      <td>0.027103</td>\n",
       "      <td>0.081637</td>\n",
       "      <td>0.381641</td>\n",
       "      <td>0.051590</td>\n",
       "      <td>0.139744</td>\n",
       "      <td>0.477863</td>\n",
       "      <td>0.267134</td>\n",
       "      <td>0.120736</td>\n",
       "      <td>0.352654</td>\n",
       "      <td>0.548206</td>\n",
       "      <td>0.069327</td>\n",
       "      <td>0.819061</td>\n",
       "      <td>0.047835</td>\n",
       "    </tr>\n",
       "    <tr>\n",
       "      <th>folio_solicitud</th>\n",
       "      <td>0.971332</td>\n",
       "      <td>1.000000</td>\n",
       "      <td>0.099934</td>\n",
       "      <td>0.121863</td>\n",
       "      <td>0.127074</td>\n",
       "      <td>0.097633</td>\n",
       "      <td>0.077342</td>\n",
       "      <td>0.029438</td>\n",
       "      <td>0.071465</td>\n",
       "      <td>0.378045</td>\n",
       "      <td>0.051017</td>\n",
       "      <td>0.130940</td>\n",
       "      <td>0.467299</td>\n",
       "      <td>0.250896</td>\n",
       "      <td>0.136859</td>\n",
       "      <td>0.340098</td>\n",
       "      <td>0.527624</td>\n",
       "      <td>0.063868</td>\n",
       "      <td>0.796687</td>\n",
       "      <td>0.050773</td>\n",
       "    </tr>\n",
       "    <tr>\n",
       "      <th>precio</th>\n",
       "      <td>0.098971</td>\n",
       "      <td>0.099934</td>\n",
       "      <td>1.000000</td>\n",
       "      <td>0.678519</td>\n",
       "      <td>0.009883</td>\n",
       "      <td>0.672673</td>\n",
       "      <td>0.947080</td>\n",
       "      <td>0.872403</td>\n",
       "      <td>0.019097</td>\n",
       "      <td>0.096183</td>\n",
       "      <td>0.060723</td>\n",
       "      <td>0.004445</td>\n",
       "      <td>0.017000</td>\n",
       "      <td>0.057546</td>\n",
       "      <td>0.073077</td>\n",
       "      <td>0.042888</td>\n",
       "      <td>0.080220</td>\n",
       "      <td>0.011328</td>\n",
       "      <td>0.030421</td>\n",
       "      <td>0.017567</td>\n",
       "    </tr>\n",
       "    <tr>\n",
       "      <th>enganche</th>\n",
       "      <td>0.124622</td>\n",
       "      <td>0.121863</td>\n",
       "      <td>0.678519</td>\n",
       "      <td>1.000000</td>\n",
       "      <td>0.025689</td>\n",
       "      <td>0.339912</td>\n",
       "      <td>0.408276</td>\n",
       "      <td>0.355694</td>\n",
       "      <td>0.031409</td>\n",
       "      <td>0.032450</td>\n",
       "      <td>0.051645</td>\n",
       "      <td>0.071798</td>\n",
       "      <td>0.080730</td>\n",
       "      <td>0.022209</td>\n",
       "      <td>0.175815</td>\n",
       "      <td>0.272575</td>\n",
       "      <td>0.059764</td>\n",
       "      <td>0.676520</td>\n",
       "      <td>0.094174</td>\n",
       "      <td>0.013904</td>\n",
       "    </tr>\n",
       "    <tr>\n",
       "      <th>descuento</th>\n",
       "      <td>0.130377</td>\n",
       "      <td>0.127074</td>\n",
       "      <td>0.009883</td>\n",
       "      <td>0.025689</td>\n",
       "      <td>1.000000</td>\n",
       "      <td>0.026317</td>\n",
       "      <td>0.024136</td>\n",
       "      <td>0.036940</td>\n",
       "      <td>0.006212</td>\n",
       "      <td>0.076093</td>\n",
       "      <td>0.035743</td>\n",
       "      <td>0.240813</td>\n",
       "      <td>0.040920</td>\n",
       "      <td>0.016730</td>\n",
       "      <td>0.087252</td>\n",
       "      <td>0.036555</td>\n",
       "      <td>0.103998</td>\n",
       "      <td>0.050813</td>\n",
       "      <td>0.112215</td>\n",
       "      <td>0.012407</td>\n",
       "    </tr>\n",
       "    <tr>\n",
       "      <th>semana</th>\n",
       "      <td>0.094659</td>\n",
       "      <td>0.097633</td>\n",
       "      <td>0.672673</td>\n",
       "      <td>0.339912</td>\n",
       "      <td>0.026317</td>\n",
       "      <td>1.000000</td>\n",
       "      <td>0.688111</td>\n",
       "      <td>0.411911</td>\n",
       "      <td>0.028635</td>\n",
       "      <td>0.143145</td>\n",
       "      <td>0.028683</td>\n",
       "      <td>0.036724</td>\n",
       "      <td>0.133589</td>\n",
       "      <td>0.006011</td>\n",
       "      <td>0.084821</td>\n",
       "      <td>0.091175</td>\n",
       "      <td>0.072555</td>\n",
       "      <td>0.158246</td>\n",
       "      <td>0.189936</td>\n",
       "      <td>0.018347</td>\n",
       "    </tr>\n",
       "    <tr>\n",
       "      <th>monto_financiado</th>\n",
       "      <td>0.075446</td>\n",
       "      <td>0.077342</td>\n",
       "      <td>0.947080</td>\n",
       "      <td>0.408276</td>\n",
       "      <td>0.024136</td>\n",
       "      <td>0.688111</td>\n",
       "      <td>1.000000</td>\n",
       "      <td>0.929859</td>\n",
       "      <td>0.030831</td>\n",
       "      <td>0.108464</td>\n",
       "      <td>0.052949</td>\n",
       "      <td>0.036326</td>\n",
       "      <td>0.052593</td>\n",
       "      <td>0.062734</td>\n",
       "      <td>0.165852</td>\n",
       "      <td>0.169037</td>\n",
       "      <td>0.076027</td>\n",
       "      <td>0.307681</td>\n",
       "      <td>0.002362</td>\n",
       "      <td>0.014597</td>\n",
       "    </tr>\n",
       "    <tr>\n",
       "      <th>costo_total</th>\n",
       "      <td>0.027103</td>\n",
       "      <td>0.029438</td>\n",
       "      <td>0.872403</td>\n",
       "      <td>0.355694</td>\n",
       "      <td>0.036940</td>\n",
       "      <td>0.411911</td>\n",
       "      <td>0.929859</td>\n",
       "      <td>1.000000</td>\n",
       "      <td>0.063101</td>\n",
       "      <td>0.195627</td>\n",
       "      <td>0.060782</td>\n",
       "      <td>0.024614</td>\n",
       "      <td>0.132380</td>\n",
       "      <td>0.086438</td>\n",
       "      <td>0.159682</td>\n",
       "      <td>0.171733</td>\n",
       "      <td>0.060079</td>\n",
       "      <td>0.305885</td>\n",
       "      <td>0.104572</td>\n",
       "      <td>0.008468</td>\n",
       "    </tr>\n",
       "    <tr>\n",
       "      <th>monto_accesorios</th>\n",
       "      <td>0.081637</td>\n",
       "      <td>0.071465</td>\n",
       "      <td>0.019097</td>\n",
       "      <td>0.031409</td>\n",
       "      <td>0.006212</td>\n",
       "      <td>0.028635</td>\n",
       "      <td>0.030831</td>\n",
       "      <td>0.063101</td>\n",
       "      <td>1.000000</td>\n",
       "      <td>0.043031</td>\n",
       "      <td>0.029445</td>\n",
       "      <td>0.050677</td>\n",
       "      <td>0.062232</td>\n",
       "      <td>0.026971</td>\n",
       "      <td>0.040392</td>\n",
       "      <td>0.078120</td>\n",
       "      <td>0.039010</td>\n",
       "      <td>0.029359</td>\n",
       "      <td>0.059894</td>\n",
       "      <td>0.034453</td>\n",
       "    </tr>\n",
       "    <tr>\n",
       "      <th>status</th>\n",
       "      <td>0.381641</td>\n",
       "      <td>0.378045</td>\n",
       "      <td>0.096183</td>\n",
       "      <td>0.032450</td>\n",
       "      <td>0.076093</td>\n",
       "      <td>0.143145</td>\n",
       "      <td>0.108464</td>\n",
       "      <td>0.195627</td>\n",
       "      <td>0.043031</td>\n",
       "      <td>1.000000</td>\n",
       "      <td>0.155148</td>\n",
       "      <td>0.077710</td>\n",
       "      <td>0.251670</td>\n",
       "      <td>0.281953</td>\n",
       "      <td>0.062583</td>\n",
       "      <td>0.143361</td>\n",
       "      <td>0.240651</td>\n",
       "      <td>0.049292</td>\n",
       "      <td>0.006862</td>\n",
       "      <td>0.018282</td>\n",
       "    </tr>\n",
       "    <tr>\n",
       "      <th>fraude</th>\n",
       "      <td>0.051590</td>\n",
       "      <td>0.051017</td>\n",
       "      <td>0.060723</td>\n",
       "      <td>0.051645</td>\n",
       "      <td>0.035743</td>\n",
       "      <td>0.028683</td>\n",
       "      <td>0.052949</td>\n",
       "      <td>0.060782</td>\n",
       "      <td>0.029445</td>\n",
       "      <td>0.155148</td>\n",
       "      <td>1.000000</td>\n",
       "      <td>0.045808</td>\n",
       "      <td>0.290140</td>\n",
       "      <td>0.053387</td>\n",
       "      <td>0.000143</td>\n",
       "      <td>0.033686</td>\n",
       "      <td>0.024286</td>\n",
       "      <td>0.023888</td>\n",
       "      <td>0.131246</td>\n",
       "      <td>0.008989</td>\n",
       "    </tr>\n",
       "    <tr>\n",
       "      <th>inversion</th>\n",
       "      <td>0.139744</td>\n",
       "      <td>0.130940</td>\n",
       "      <td>0.004445</td>\n",
       "      <td>0.071798</td>\n",
       "      <td>0.240813</td>\n",
       "      <td>0.036724</td>\n",
       "      <td>0.036326</td>\n",
       "      <td>0.024614</td>\n",
       "      <td>0.050677</td>\n",
       "      <td>0.077710</td>\n",
       "      <td>0.045808</td>\n",
       "      <td>1.000000</td>\n",
       "      <td>0.183455</td>\n",
       "      <td>0.083254</td>\n",
       "      <td>0.079687</td>\n",
       "      <td>0.134503</td>\n",
       "      <td>0.097543</td>\n",
       "      <td>0.131851</td>\n",
       "      <td>0.091410</td>\n",
       "      <td>0.021387</td>\n",
       "    </tr>\n",
       "    <tr>\n",
       "      <th>pagos_realizados</th>\n",
       "      <td>0.477863</td>\n",
       "      <td>0.467299</td>\n",
       "      <td>0.017000</td>\n",
       "      <td>0.080730</td>\n",
       "      <td>0.040920</td>\n",
       "      <td>0.133589</td>\n",
       "      <td>0.052593</td>\n",
       "      <td>0.132380</td>\n",
       "      <td>0.062232</td>\n",
       "      <td>0.251670</td>\n",
       "      <td>0.290140</td>\n",
       "      <td>0.183455</td>\n",
       "      <td>1.000000</td>\n",
       "      <td>0.191830</td>\n",
       "      <td>0.173756</td>\n",
       "      <td>0.239008</td>\n",
       "      <td>0.220372</td>\n",
       "      <td>0.143488</td>\n",
       "      <td>0.383564</td>\n",
       "      <td>0.014660</td>\n",
       "    </tr>\n",
       "    <tr>\n",
       "      <th>reautorizacion</th>\n",
       "      <td>0.267134</td>\n",
       "      <td>0.250896</td>\n",
       "      <td>0.057546</td>\n",
       "      <td>0.022209</td>\n",
       "      <td>0.016730</td>\n",
       "      <td>0.006011</td>\n",
       "      <td>0.062734</td>\n",
       "      <td>0.086438</td>\n",
       "      <td>0.026971</td>\n",
       "      <td>0.281953</td>\n",
       "      <td>0.053387</td>\n",
       "      <td>0.083254</td>\n",
       "      <td>0.191830</td>\n",
       "      <td>1.000000</td>\n",
       "      <td>0.203217</td>\n",
       "      <td>0.057144</td>\n",
       "      <td>0.188628</td>\n",
       "      <td>0.027921</td>\n",
       "      <td>0.026692</td>\n",
       "      <td>0.010277</td>\n",
       "    </tr>\n",
       "    <tr>\n",
       "      <th>puntos</th>\n",
       "      <td>0.120736</td>\n",
       "      <td>0.136859</td>\n",
       "      <td>0.073077</td>\n",
       "      <td>0.175815</td>\n",
       "      <td>0.087252</td>\n",
       "      <td>0.084821</td>\n",
       "      <td>0.165852</td>\n",
       "      <td>0.159682</td>\n",
       "      <td>0.040392</td>\n",
       "      <td>0.062583</td>\n",
       "      <td>0.000143</td>\n",
       "      <td>0.079687</td>\n",
       "      <td>0.173756</td>\n",
       "      <td>0.203217</td>\n",
       "      <td>1.000000</td>\n",
       "      <td>0.455606</td>\n",
       "      <td>0.224206</td>\n",
       "      <td>0.357969</td>\n",
       "      <td>0.119593</td>\n",
       "      <td>0.000907</td>\n",
       "    </tr>\n",
       "    <tr>\n",
       "      <th>riesgo</th>\n",
       "      <td>0.352654</td>\n",
       "      <td>0.340098</td>\n",
       "      <td>0.042888</td>\n",
       "      <td>0.272575</td>\n",
       "      <td>0.036555</td>\n",
       "      <td>0.091175</td>\n",
       "      <td>0.169037</td>\n",
       "      <td>0.171733</td>\n",
       "      <td>0.078120</td>\n",
       "      <td>0.143361</td>\n",
       "      <td>0.033686</td>\n",
       "      <td>0.134503</td>\n",
       "      <td>0.239008</td>\n",
       "      <td>0.057144</td>\n",
       "      <td>0.455606</td>\n",
       "      <td>1.000000</td>\n",
       "      <td>0.067350</td>\n",
       "      <td>0.474009</td>\n",
       "      <td>0.304266</td>\n",
       "      <td>0.019913</td>\n",
       "    </tr>\n",
       "    <tr>\n",
       "      <th>score_buro</th>\n",
       "      <td>0.548206</td>\n",
       "      <td>0.527624</td>\n",
       "      <td>0.080220</td>\n",
       "      <td>0.059764</td>\n",
       "      <td>0.103998</td>\n",
       "      <td>0.072555</td>\n",
       "      <td>0.076027</td>\n",
       "      <td>0.060079</td>\n",
       "      <td>0.039010</td>\n",
       "      <td>0.240651</td>\n",
       "      <td>0.024286</td>\n",
       "      <td>0.097543</td>\n",
       "      <td>0.220372</td>\n",
       "      <td>0.188628</td>\n",
       "      <td>0.224206</td>\n",
       "      <td>0.067350</td>\n",
       "      <td>1.000000</td>\n",
       "      <td>0.006687</td>\n",
       "      <td>0.454738</td>\n",
       "      <td>0.028217</td>\n",
       "    </tr>\n",
       "    <tr>\n",
       "      <th>porc_eng</th>\n",
       "      <td>0.069327</td>\n",
       "      <td>0.063868</td>\n",
       "      <td>0.011328</td>\n",
       "      <td>0.676520</td>\n",
       "      <td>0.050813</td>\n",
       "      <td>0.158246</td>\n",
       "      <td>0.307681</td>\n",
       "      <td>0.305885</td>\n",
       "      <td>0.029359</td>\n",
       "      <td>0.049292</td>\n",
       "      <td>0.023888</td>\n",
       "      <td>0.131851</td>\n",
       "      <td>0.143488</td>\n",
       "      <td>0.027921</td>\n",
       "      <td>0.357969</td>\n",
       "      <td>0.474009</td>\n",
       "      <td>0.006687</td>\n",
       "      <td>1.000000</td>\n",
       "      <td>0.095722</td>\n",
       "      <td>0.004217</td>\n",
       "    </tr>\n",
       "    <tr>\n",
       "      <th>semana_actual</th>\n",
       "      <td>0.819061</td>\n",
       "      <td>0.796687</td>\n",
       "      <td>0.030421</td>\n",
       "      <td>0.094174</td>\n",
       "      <td>0.112215</td>\n",
       "      <td>0.189936</td>\n",
       "      <td>0.002362</td>\n",
       "      <td>0.104572</td>\n",
       "      <td>0.059894</td>\n",
       "      <td>0.006862</td>\n",
       "      <td>0.131246</td>\n",
       "      <td>0.091410</td>\n",
       "      <td>0.383564</td>\n",
       "      <td>0.026692</td>\n",
       "      <td>0.119593</td>\n",
       "      <td>0.304266</td>\n",
       "      <td>0.454738</td>\n",
       "      <td>0.095722</td>\n",
       "      <td>1.000000</td>\n",
       "      <td>0.042021</td>\n",
       "    </tr>\n",
       "    <tr>\n",
       "      <th>edad_cliente</th>\n",
       "      <td>0.047835</td>\n",
       "      <td>0.050773</td>\n",
       "      <td>0.017567</td>\n",
       "      <td>0.013904</td>\n",
       "      <td>0.012407</td>\n",
       "      <td>0.018347</td>\n",
       "      <td>0.014597</td>\n",
       "      <td>0.008468</td>\n",
       "      <td>0.034453</td>\n",
       "      <td>0.018282</td>\n",
       "      <td>0.008989</td>\n",
       "      <td>0.021387</td>\n",
       "      <td>0.014660</td>\n",
       "      <td>0.010277</td>\n",
       "      <td>0.000907</td>\n",
       "      <td>0.019913</td>\n",
       "      <td>0.028217</td>\n",
       "      <td>0.004217</td>\n",
       "      <td>0.042021</td>\n",
       "      <td>1.000000</td>\n",
       "    </tr>\n",
       "  </tbody>\n",
       "</table>\n",
       "</div>\n",
       "    <div class=\"colab-df-buttons\">\n",
       "\n",
       "  <div class=\"colab-df-container\">\n",
       "    <button class=\"colab-df-convert\" onclick=\"convertToInteractive('df-53ba6ae0-78cb-4ea7-9d32-24f6adf7c8d3')\"\n",
       "            title=\"Convert this dataframe to an interactive table.\"\n",
       "            style=\"display:none;\">\n",
       "\n",
       "  <svg xmlns=\"http://www.w3.org/2000/svg\" height=\"24px\" viewBox=\"0 -960 960 960\">\n",
       "    <path d=\"M120-120v-720h720v720H120Zm60-500h600v-160H180v160Zm220 220h160v-160H400v160Zm0 220h160v-160H400v160ZM180-400h160v-160H180v160Zm440 0h160v-160H620v160ZM180-180h160v-160H180v160Zm440 0h160v-160H620v160Z\"/>\n",
       "  </svg>\n",
       "    </button>\n",
       "\n",
       "  <style>\n",
       "    .colab-df-container {\n",
       "      display:flex;\n",
       "      gap: 12px;\n",
       "    }\n",
       "\n",
       "    .colab-df-convert {\n",
       "      background-color: #E8F0FE;\n",
       "      border: none;\n",
       "      border-radius: 50%;\n",
       "      cursor: pointer;\n",
       "      display: none;\n",
       "      fill: #1967D2;\n",
       "      height: 32px;\n",
       "      padding: 0 0 0 0;\n",
       "      width: 32px;\n",
       "    }\n",
       "\n",
       "    .colab-df-convert:hover {\n",
       "      background-color: #E2EBFA;\n",
       "      box-shadow: 0px 1px 2px rgba(60, 64, 67, 0.3), 0px 1px 3px 1px rgba(60, 64, 67, 0.15);\n",
       "      fill: #174EA6;\n",
       "    }\n",
       "\n",
       "    .colab-df-buttons div {\n",
       "      margin-bottom: 4px;\n",
       "    }\n",
       "\n",
       "    [theme=dark] .colab-df-convert {\n",
       "      background-color: #3B4455;\n",
       "      fill: #D2E3FC;\n",
       "    }\n",
       "\n",
       "    [theme=dark] .colab-df-convert:hover {\n",
       "      background-color: #434B5C;\n",
       "      box-shadow: 0px 1px 3px 1px rgba(0, 0, 0, 0.15);\n",
       "      filter: drop-shadow(0px 1px 2px rgba(0, 0, 0, 0.3));\n",
       "      fill: #FFFFFF;\n",
       "    }\n",
       "  </style>\n",
       "\n",
       "    <script>\n",
       "      const buttonEl =\n",
       "        document.querySelector('#df-53ba6ae0-78cb-4ea7-9d32-24f6adf7c8d3 button.colab-df-convert');\n",
       "      buttonEl.style.display =\n",
       "        google.colab.kernel.accessAllowed ? 'block' : 'none';\n",
       "\n",
       "      async function convertToInteractive(key) {\n",
       "        const element = document.querySelector('#df-53ba6ae0-78cb-4ea7-9d32-24f6adf7c8d3');\n",
       "        const dataTable =\n",
       "          await google.colab.kernel.invokeFunction('convertToInteractive',\n",
       "                                                    [key], {});\n",
       "        if (!dataTable) return;\n",
       "\n",
       "        const docLinkHtml = 'Like what you see? Visit the ' +\n",
       "          '<a target=\"_blank\" href=https://colab.research.google.com/notebooks/data_table.ipynb>data table notebook</a>'\n",
       "          + ' to learn more about interactive tables.';\n",
       "        element.innerHTML = '';\n",
       "        dataTable['output_type'] = 'display_data';\n",
       "        await google.colab.output.renderOutput(dataTable, element);\n",
       "        const docLink = document.createElement('div');\n",
       "        docLink.innerHTML = docLinkHtml;\n",
       "        element.appendChild(docLink);\n",
       "      }\n",
       "    </script>\n",
       "  </div>\n",
       "\n",
       "\n",
       "<div id=\"df-d012e504-0332-4240-9443-866674ddbf78\">\n",
       "  <button class=\"colab-df-quickchart\" onclick=\"quickchart('df-d012e504-0332-4240-9443-866674ddbf78')\"\n",
       "            title=\"Suggest charts.\"\n",
       "            style=\"display:none;\">\n",
       "\n",
       "<svg xmlns=\"http://www.w3.org/2000/svg\" height=\"24px\"viewBox=\"0 0 24 24\"\n",
       "     width=\"24px\">\n",
       "    <g>\n",
       "        <path d=\"M19 3H5c-1.1 0-2 .9-2 2v14c0 1.1.9 2 2 2h14c1.1 0 2-.9 2-2V5c0-1.1-.9-2-2-2zM9 17H7v-7h2v7zm4 0h-2V7h2v10zm4 0h-2v-4h2v4z\"/>\n",
       "    </g>\n",
       "</svg>\n",
       "  </button>\n",
       "\n",
       "<style>\n",
       "  .colab-df-quickchart {\n",
       "      --bg-color: #E8F0FE;\n",
       "      --fill-color: #1967D2;\n",
       "      --hover-bg-color: #E2EBFA;\n",
       "      --hover-fill-color: #174EA6;\n",
       "      --disabled-fill-color: #AAA;\n",
       "      --disabled-bg-color: #DDD;\n",
       "  }\n",
       "\n",
       "  [theme=dark] .colab-df-quickchart {\n",
       "      --bg-color: #3B4455;\n",
       "      --fill-color: #D2E3FC;\n",
       "      --hover-bg-color: #434B5C;\n",
       "      --hover-fill-color: #FFFFFF;\n",
       "      --disabled-bg-color: #3B4455;\n",
       "      --disabled-fill-color: #666;\n",
       "  }\n",
       "\n",
       "  .colab-df-quickchart {\n",
       "    background-color: var(--bg-color);\n",
       "    border: none;\n",
       "    border-radius: 50%;\n",
       "    cursor: pointer;\n",
       "    display: none;\n",
       "    fill: var(--fill-color);\n",
       "    height: 32px;\n",
       "    padding: 0;\n",
       "    width: 32px;\n",
       "  }\n",
       "\n",
       "  .colab-df-quickchart:hover {\n",
       "    background-color: var(--hover-bg-color);\n",
       "    box-shadow: 0 1px 2px rgba(60, 64, 67, 0.3), 0 1px 3px 1px rgba(60, 64, 67, 0.15);\n",
       "    fill: var(--button-hover-fill-color);\n",
       "  }\n",
       "\n",
       "  .colab-df-quickchart-complete:disabled,\n",
       "  .colab-df-quickchart-complete:disabled:hover {\n",
       "    background-color: var(--disabled-bg-color);\n",
       "    fill: var(--disabled-fill-color);\n",
       "    box-shadow: none;\n",
       "  }\n",
       "\n",
       "  .colab-df-spinner {\n",
       "    border: 2px solid var(--fill-color);\n",
       "    border-color: transparent;\n",
       "    border-bottom-color: var(--fill-color);\n",
       "    animation:\n",
       "      spin 1s steps(1) infinite;\n",
       "  }\n",
       "\n",
       "  @keyframes spin {\n",
       "    0% {\n",
       "      border-color: transparent;\n",
       "      border-bottom-color: var(--fill-color);\n",
       "      border-left-color: var(--fill-color);\n",
       "    }\n",
       "    20% {\n",
       "      border-color: transparent;\n",
       "      border-left-color: var(--fill-color);\n",
       "      border-top-color: var(--fill-color);\n",
       "    }\n",
       "    30% {\n",
       "      border-color: transparent;\n",
       "      border-left-color: var(--fill-color);\n",
       "      border-top-color: var(--fill-color);\n",
       "      border-right-color: var(--fill-color);\n",
       "    }\n",
       "    40% {\n",
       "      border-color: transparent;\n",
       "      border-right-color: var(--fill-color);\n",
       "      border-top-color: var(--fill-color);\n",
       "    }\n",
       "    60% {\n",
       "      border-color: transparent;\n",
       "      border-right-color: var(--fill-color);\n",
       "    }\n",
       "    80% {\n",
       "      border-color: transparent;\n",
       "      border-right-color: var(--fill-color);\n",
       "      border-bottom-color: var(--fill-color);\n",
       "    }\n",
       "    90% {\n",
       "      border-color: transparent;\n",
       "      border-bottom-color: var(--fill-color);\n",
       "    }\n",
       "  }\n",
       "</style>\n",
       "\n",
       "  <script>\n",
       "    async function quickchart(key) {\n",
       "      const quickchartButtonEl =\n",
       "        document.querySelector('#' + key + ' button');\n",
       "      quickchartButtonEl.disabled = true;  // To prevent multiple clicks.\n",
       "      quickchartButtonEl.classList.add('colab-df-spinner');\n",
       "      try {\n",
       "        const charts = await google.colab.kernel.invokeFunction(\n",
       "            'suggestCharts', [key], {});\n",
       "      } catch (error) {\n",
       "        console.error('Error during call to suggestCharts:', error);\n",
       "      }\n",
       "      quickchartButtonEl.classList.remove('colab-df-spinner');\n",
       "      quickchartButtonEl.classList.add('colab-df-quickchart-complete');\n",
       "    }\n",
       "    (() => {\n",
       "      let quickchartButtonEl =\n",
       "        document.querySelector('#df-d012e504-0332-4240-9443-866674ddbf78 button');\n",
       "      quickchartButtonEl.style.display =\n",
       "        google.colab.kernel.accessAllowed ? 'block' : 'none';\n",
       "    })();\n",
       "  </script>\n",
       "</div>\n",
       "    </div>\n",
       "  </div>\n"
      ],
      "text/plain": [
       "                     folio  folio_solicitud    precio  enganche  descuento  \\\n",
       "folio             1.000000         0.971332  0.098971  0.124622   0.130377   \n",
       "folio_solicitud   0.971332         1.000000  0.099934  0.121863   0.127074   \n",
       "precio            0.098971         0.099934  1.000000  0.678519   0.009883   \n",
       "enganche          0.124622         0.121863  0.678519  1.000000   0.025689   \n",
       "descuento         0.130377         0.127074  0.009883  0.025689   1.000000   \n",
       "semana            0.094659         0.097633  0.672673  0.339912   0.026317   \n",
       "monto_financiado  0.075446         0.077342  0.947080  0.408276   0.024136   \n",
       "costo_total       0.027103         0.029438  0.872403  0.355694   0.036940   \n",
       "monto_accesorios  0.081637         0.071465  0.019097  0.031409   0.006212   \n",
       "status            0.381641         0.378045  0.096183  0.032450   0.076093   \n",
       "fraude            0.051590         0.051017  0.060723  0.051645   0.035743   \n",
       "inversion         0.139744         0.130940  0.004445  0.071798   0.240813   \n",
       "pagos_realizados  0.477863         0.467299  0.017000  0.080730   0.040920   \n",
       "reautorizacion    0.267134         0.250896  0.057546  0.022209   0.016730   \n",
       "puntos            0.120736         0.136859  0.073077  0.175815   0.087252   \n",
       "riesgo            0.352654         0.340098  0.042888  0.272575   0.036555   \n",
       "score_buro        0.548206         0.527624  0.080220  0.059764   0.103998   \n",
       "porc_eng          0.069327         0.063868  0.011328  0.676520   0.050813   \n",
       "semana_actual     0.819061         0.796687  0.030421  0.094174   0.112215   \n",
       "edad_cliente      0.047835         0.050773  0.017567  0.013904   0.012407   \n",
       "\n",
       "                    semana  monto_financiado  costo_total  monto_accesorios  \\\n",
       "folio             0.094659          0.075446     0.027103          0.081637   \n",
       "folio_solicitud   0.097633          0.077342     0.029438          0.071465   \n",
       "precio            0.672673          0.947080     0.872403          0.019097   \n",
       "enganche          0.339912          0.408276     0.355694          0.031409   \n",
       "descuento         0.026317          0.024136     0.036940          0.006212   \n",
       "semana            1.000000          0.688111     0.411911          0.028635   \n",
       "monto_financiado  0.688111          1.000000     0.929859          0.030831   \n",
       "costo_total       0.411911          0.929859     1.000000          0.063101   \n",
       "monto_accesorios  0.028635          0.030831     0.063101          1.000000   \n",
       "status            0.143145          0.108464     0.195627          0.043031   \n",
       "fraude            0.028683          0.052949     0.060782          0.029445   \n",
       "inversion         0.036724          0.036326     0.024614          0.050677   \n",
       "pagos_realizados  0.133589          0.052593     0.132380          0.062232   \n",
       "reautorizacion    0.006011          0.062734     0.086438          0.026971   \n",
       "puntos            0.084821          0.165852     0.159682          0.040392   \n",
       "riesgo            0.091175          0.169037     0.171733          0.078120   \n",
       "score_buro        0.072555          0.076027     0.060079          0.039010   \n",
       "porc_eng          0.158246          0.307681     0.305885          0.029359   \n",
       "semana_actual     0.189936          0.002362     0.104572          0.059894   \n",
       "edad_cliente      0.018347          0.014597     0.008468          0.034453   \n",
       "\n",
       "                    status    fraude  inversion  pagos_realizados  \\\n",
       "folio             0.381641  0.051590   0.139744          0.477863   \n",
       "folio_solicitud   0.378045  0.051017   0.130940          0.467299   \n",
       "precio            0.096183  0.060723   0.004445          0.017000   \n",
       "enganche          0.032450  0.051645   0.071798          0.080730   \n",
       "descuento         0.076093  0.035743   0.240813          0.040920   \n",
       "semana            0.143145  0.028683   0.036724          0.133589   \n",
       "monto_financiado  0.108464  0.052949   0.036326          0.052593   \n",
       "costo_total       0.195627  0.060782   0.024614          0.132380   \n",
       "monto_accesorios  0.043031  0.029445   0.050677          0.062232   \n",
       "status            1.000000  0.155148   0.077710          0.251670   \n",
       "fraude            0.155148  1.000000   0.045808          0.290140   \n",
       "inversion         0.077710  0.045808   1.000000          0.183455   \n",
       "pagos_realizados  0.251670  0.290140   0.183455          1.000000   \n",
       "reautorizacion    0.281953  0.053387   0.083254          0.191830   \n",
       "puntos            0.062583  0.000143   0.079687          0.173756   \n",
       "riesgo            0.143361  0.033686   0.134503          0.239008   \n",
       "score_buro        0.240651  0.024286   0.097543          0.220372   \n",
       "porc_eng          0.049292  0.023888   0.131851          0.143488   \n",
       "semana_actual     0.006862  0.131246   0.091410          0.383564   \n",
       "edad_cliente      0.018282  0.008989   0.021387          0.014660   \n",
       "\n",
       "                  reautorizacion    puntos    riesgo  score_buro  porc_eng  \\\n",
       "folio                   0.267134  0.120736  0.352654    0.548206  0.069327   \n",
       "folio_solicitud         0.250896  0.136859  0.340098    0.527624  0.063868   \n",
       "precio                  0.057546  0.073077  0.042888    0.080220  0.011328   \n",
       "enganche                0.022209  0.175815  0.272575    0.059764  0.676520   \n",
       "descuento               0.016730  0.087252  0.036555    0.103998  0.050813   \n",
       "semana                  0.006011  0.084821  0.091175    0.072555  0.158246   \n",
       "monto_financiado        0.062734  0.165852  0.169037    0.076027  0.307681   \n",
       "costo_total             0.086438  0.159682  0.171733    0.060079  0.305885   \n",
       "monto_accesorios        0.026971  0.040392  0.078120    0.039010  0.029359   \n",
       "status                  0.281953  0.062583  0.143361    0.240651  0.049292   \n",
       "fraude                  0.053387  0.000143  0.033686    0.024286  0.023888   \n",
       "inversion               0.083254  0.079687  0.134503    0.097543  0.131851   \n",
       "pagos_realizados        0.191830  0.173756  0.239008    0.220372  0.143488   \n",
       "reautorizacion          1.000000  0.203217  0.057144    0.188628  0.027921   \n",
       "puntos                  0.203217  1.000000  0.455606    0.224206  0.357969   \n",
       "riesgo                  0.057144  0.455606  1.000000    0.067350  0.474009   \n",
       "score_buro              0.188628  0.224206  0.067350    1.000000  0.006687   \n",
       "porc_eng                0.027921  0.357969  0.474009    0.006687  1.000000   \n",
       "semana_actual           0.026692  0.119593  0.304266    0.454738  0.095722   \n",
       "edad_cliente            0.010277  0.000907  0.019913    0.028217  0.004217   \n",
       "\n",
       "                  semana_actual  edad_cliente  \n",
       "folio                  0.819061      0.047835  \n",
       "folio_solicitud        0.796687      0.050773  \n",
       "precio                 0.030421      0.017567  \n",
       "enganche               0.094174      0.013904  \n",
       "descuento              0.112215      0.012407  \n",
       "semana                 0.189936      0.018347  \n",
       "monto_financiado       0.002362      0.014597  \n",
       "costo_total            0.104572      0.008468  \n",
       "monto_accesorios       0.059894      0.034453  \n",
       "status                 0.006862      0.018282  \n",
       "fraude                 0.131246      0.008989  \n",
       "inversion              0.091410      0.021387  \n",
       "pagos_realizados       0.383564      0.014660  \n",
       "reautorizacion         0.026692      0.010277  \n",
       "puntos                 0.119593      0.000907  \n",
       "riesgo                 0.304266      0.019913  \n",
       "score_buro             0.454738      0.028217  \n",
       "porc_eng               0.095722      0.004217  \n",
       "semana_actual          1.000000      0.042021  \n",
       "edad_cliente           0.042021      1.000000  "
      ]
     },
     "execution_count": 594,
     "metadata": {},
     "output_type": "execute_result"
    }
   ],
   "source": [
    "matriz.n = np.abs(matriz)\n",
    "matriz.n"
   ]
  },
  {
   "cell_type": "code",
   "execution_count": 595,
   "metadata": {
    "colab": {
     "base_uri": "https://localhost:8080/"
    },
    "id": "J-2y5OMPzAuu",
    "outputId": "a4d5aa23-5dcd-4dac-87dd-1ca27a8f86c5"
   },
   "outputs": [
    {
     "data": {
      "text/plain": [
       "1    17086\n",
       "0     5649\n",
       "Name: status, dtype: int64"
      ]
     },
     "execution_count": 595,
     "metadata": {},
     "output_type": "execute_result"
    }
   ],
   "source": [
    "df['status']= df['status'].replace([2,3,4], 0)\n",
    "df['status'].value_counts()"
   ]
  },
  {
   "cell_type": "code",
   "execution_count": 596,
   "metadata": {
    "colab": {
     "base_uri": "https://localhost:8080/"
    },
    "id": "4N5i7gZHzFaY",
    "outputId": "6a64c09d-849a-4e0a-9554-3651a97e3929"
   },
   "outputs": [
    {
     "data": {
      "text/plain": [
       "Samsung         8991\n",
       "SAMSUNG         3524\n",
       "MOTOROLA        3078\n",
       "ZTE             1948\n",
       "Motorola        1658\n",
       "NOKIA           1121\n",
       "TECNO MOBILE     833\n",
       "Hisense          371\n",
       "HISENSE          270\n",
       "Nokia            262\n",
       "ALCATEL          215\n",
       "TCL              113\n",
       "Alcatel          101\n",
       "Lanix             90\n",
       "VIVO              60\n",
       "Vivo              45\n",
       "LG                20\n",
       "WIKO               9\n",
       "NYX                7\n",
       "B2M                4\n",
       "KODAK              3\n",
       "RT                 3\n",
       "LANIX              2\n",
       "INCO               2\n",
       "Huawei             1\n",
       "SENWA              1\n",
       "alcatel            1\n",
       "Senwa              1\n",
       "TECHPAD            1\n",
       "Name: marca, dtype: int64"
      ]
     },
     "execution_count": 596,
     "metadata": {},
     "output_type": "execute_result"
    }
   ],
   "source": [
    "df['marca'].value_counts()"
   ]
  },
  {
   "cell_type": "code",
   "execution_count": 597,
   "metadata": {
    "colab": {
     "base_uri": "https://localhost:8080/"
    },
    "id": "bOifQBq-zHvL",
    "outputId": "167d8a3d-302f-429f-e938-74710c281981"
   },
   "outputs": [
    {
     "data": {
      "text/plain": [
       "1    14463\n",
       "0     8272\n",
       "Name: marca, dtype: int64"
      ]
     },
     "execution_count": 597,
     "metadata": {},
     "output_type": "execute_result"
    }
   ],
   "source": [
    "df['marca'] = df['marca'].replace([\"SAMSUNG\"], \"Samsung\")\n",
    "df['marca'] = df['marca'].apply(lambda x: 1 if x == \"Samsung\" else (1 if x == \"ZTE\" else x))\n",
    "df['marca'] = df['marca'].apply(lambda x: 0 if x != 1 else x)\n",
    "df['marca'].value_counts()"
   ]
  },
  {
   "cell_type": "code",
   "execution_count": 598,
   "metadata": {
    "colab": {
     "base_uri": "https://localhost:8080/"
    },
    "id": "o4jGrn12zKq5",
    "outputId": "066b4815-a5ab-469a-b652-554abec7144d"
   },
   "outputs": [
    {
     "data": {
      "text/plain": [
       "A03s                             2231\n",
       "A03                              1715\n",
       "A13                              1089\n",
       "A04                              1039\n",
       "A04E                              817\n",
       "                                 ... \n",
       "LTE 5002B 1B 32GB Verde             1\n",
       "GALAXY A32 4+128 GB VIOLETA B       1\n",
       "K62 B AZUL                          1\n",
       "5007A 1V 2020 Verde                 1\n",
       "4G 6002A 1V  Gris Iu                1\n",
       "Name: modelo, Length: 366, dtype: int64"
      ]
     },
     "execution_count": 598,
     "metadata": {},
     "output_type": "execute_result"
    }
   ],
   "source": [
    "df['modelo'].value_counts()"
   ]
  },
  {
   "cell_type": "code",
   "execution_count": 599,
   "metadata": {
    "colab": {
     "base_uri": "https://localhost:8080/"
    },
    "id": "v9txtWXOzNs_",
    "outputId": "c7c67f91-7a6a-4e55-87f2-b51150d6ba11"
   },
   "outputs": [
    {
     "data": {
      "text/plain": [
       "0    15844\n",
       "1     6891\n",
       "Name: modelo, dtype: int64"
      ]
     },
     "execution_count": 599,
     "metadata": {},
     "output_type": "execute_result"
    }
   ],
   "source": [
    "df['modelo'] = df['modelo'].apply(lambda x: 1 if x == \"A03s\" else (1 if x == \"A03\" else (1 if x == \"A13\" else (1 if x == \"A04\" else (1 if x == \"A04E\" else x)))))\n",
    "df['modelo'] = df['modelo'].apply(lambda x: 0 if x != 1 else x)\n",
    "df['modelo'].value_counts()"
   ]
  },
  {
   "cell_type": "markdown",
   "metadata": {
    "id": "DG3inY5lzngF"
   },
   "source": [
    "# Modelo 1"
   ]
  },
  {
   "cell_type": "code",
   "execution_count": 600,
   "metadata": {
    "id": "8Gj4shPozssH"
   },
   "outputs": [],
   "source": [
    "Vars_Indep= df[['pagos_realizados', 'precio', 'score_buro']]\n",
    "Var_Dep= df['status']\n",
    "X= Vars_Indep\n",
    "y= Var_Dep"
   ]
  },
  {
   "cell_type": "code",
   "execution_count": 601,
   "metadata": {
    "id": "b5ux5-FnzwzR"
   },
   "outputs": [],
   "source": [
    "X_train, X_test, y_train, y_test = train_test_split(X, y, test_size=0.3, random_state =None)"
   ]
  },
  {
   "cell_type": "code",
   "execution_count": 602,
   "metadata": {
    "id": "6XrMvSkszy7K"
   },
   "outputs": [],
   "source": [
    "escalar = StandardScaler()"
   ]
  },
  {
   "cell_type": "code",
   "execution_count": 603,
   "metadata": {
    "id": "k5uHaGGsz1Pv"
   },
   "outputs": [],
   "source": [
    "X_train = escalar.fit_transform(X_train)\n",
    "X_test = escalar.transform(X_test)"
   ]
  },
  {
   "cell_type": "code",
   "execution_count": 604,
   "metadata": {
    "id": "nvFNbvQhz4TF"
   },
   "outputs": [],
   "source": [
    "from sklearn.linear_model import LogisticRegression\n",
    "algoritmo = LogisticRegression()"
   ]
  },
  {
   "cell_type": "code",
   "execution_count": 605,
   "metadata": {
    "colab": {
     "base_uri": "https://localhost:8080/",
     "height": 0
    },
    "id": "8Yx6EVOIz6EH",
    "outputId": "7728d59c-baaf-40a1-a43d-867816ae6505"
   },
   "outputs": [
    {
     "data": {
      "text/html": [
       "<style>#sk-container-id-36 {color: black;background-color: white;}#sk-container-id-36 pre{padding: 0;}#sk-container-id-36 div.sk-toggleable {background-color: white;}#sk-container-id-36 label.sk-toggleable__label {cursor: pointer;display: block;width: 100%;margin-bottom: 0;padding: 0.3em;box-sizing: border-box;text-align: center;}#sk-container-id-36 label.sk-toggleable__label-arrow:before {content: \"▸\";float: left;margin-right: 0.25em;color: #696969;}#sk-container-id-36 label.sk-toggleable__label-arrow:hover:before {color: black;}#sk-container-id-36 div.sk-estimator:hover label.sk-toggleable__label-arrow:before {color: black;}#sk-container-id-36 div.sk-toggleable__content {max-height: 0;max-width: 0;overflow: hidden;text-align: left;background-color: #f0f8ff;}#sk-container-id-36 div.sk-toggleable__content pre {margin: 0.2em;color: black;border-radius: 0.25em;background-color: #f0f8ff;}#sk-container-id-36 input.sk-toggleable__control:checked~div.sk-toggleable__content {max-height: 200px;max-width: 100%;overflow: auto;}#sk-container-id-36 input.sk-toggleable__control:checked~label.sk-toggleable__label-arrow:before {content: \"▾\";}#sk-container-id-36 div.sk-estimator input.sk-toggleable__control:checked~label.sk-toggleable__label {background-color: #d4ebff;}#sk-container-id-36 div.sk-label input.sk-toggleable__control:checked~label.sk-toggleable__label {background-color: #d4ebff;}#sk-container-id-36 input.sk-hidden--visually {border: 0;clip: rect(1px 1px 1px 1px);clip: rect(1px, 1px, 1px, 1px);height: 1px;margin: -1px;overflow: hidden;padding: 0;position: absolute;width: 1px;}#sk-container-id-36 div.sk-estimator {font-family: monospace;background-color: #f0f8ff;border: 1px dotted black;border-radius: 0.25em;box-sizing: border-box;margin-bottom: 0.5em;}#sk-container-id-36 div.sk-estimator:hover {background-color: #d4ebff;}#sk-container-id-36 div.sk-parallel-item::after {content: \"\";width: 100%;border-bottom: 1px solid gray;flex-grow: 1;}#sk-container-id-36 div.sk-label:hover label.sk-toggleable__label {background-color: #d4ebff;}#sk-container-id-36 div.sk-serial::before {content: \"\";position: absolute;border-left: 1px solid gray;box-sizing: border-box;top: 0;bottom: 0;left: 50%;z-index: 0;}#sk-container-id-36 div.sk-serial {display: flex;flex-direction: column;align-items: center;background-color: white;padding-right: 0.2em;padding-left: 0.2em;position: relative;}#sk-container-id-36 div.sk-item {position: relative;z-index: 1;}#sk-container-id-36 div.sk-parallel {display: flex;align-items: stretch;justify-content: center;background-color: white;position: relative;}#sk-container-id-36 div.sk-item::before, #sk-container-id-36 div.sk-parallel-item::before {content: \"\";position: absolute;border-left: 1px solid gray;box-sizing: border-box;top: 0;bottom: 0;left: 50%;z-index: -1;}#sk-container-id-36 div.sk-parallel-item {display: flex;flex-direction: column;z-index: 1;position: relative;background-color: white;}#sk-container-id-36 div.sk-parallel-item:first-child::after {align-self: flex-end;width: 50%;}#sk-container-id-36 div.sk-parallel-item:last-child::after {align-self: flex-start;width: 50%;}#sk-container-id-36 div.sk-parallel-item:only-child::after {width: 0;}#sk-container-id-36 div.sk-dashed-wrapped {border: 1px dashed gray;margin: 0 0.4em 0.5em 0.4em;box-sizing: border-box;padding-bottom: 0.4em;background-color: white;}#sk-container-id-36 div.sk-label label {font-family: monospace;font-weight: bold;display: inline-block;line-height: 1.2em;}#sk-container-id-36 div.sk-label-container {text-align: center;}#sk-container-id-36 div.sk-container {/* jupyter's `normalize.less` sets `[hidden] { display: none; }` but bootstrap.min.css set `[hidden] { display: none !important; }` so we also need the `!important` here to be able to override the default hidden behavior on the sphinx rendered scikit-learn.org. See: https://github.com/scikit-learn/scikit-learn/issues/21755 */display: inline-block !important;position: relative;}#sk-container-id-36 div.sk-text-repr-fallback {display: none;}</style><div id=\"sk-container-id-36\" class=\"sk-top-container\"><div class=\"sk-text-repr-fallback\"><pre>LogisticRegression()</pre><b>In a Jupyter environment, please rerun this cell to show the HTML representation or trust the notebook. <br />On GitHub, the HTML representation is unable to render, please try loading this page with nbviewer.org.</b></div><div class=\"sk-container\" hidden><div class=\"sk-item\"><div class=\"sk-estimator sk-toggleable\"><input class=\"sk-toggleable__control sk-hidden--visually\" id=\"sk-estimator-id-36\" type=\"checkbox\" checked><label for=\"sk-estimator-id-36\" class=\"sk-toggleable__label sk-toggleable__label-arrow\">LogisticRegression</label><div class=\"sk-toggleable__content\"><pre>LogisticRegression()</pre></div></div></div></div></div>"
      ],
      "text/plain": [
       "LogisticRegression()"
      ]
     },
     "execution_count": 605,
     "metadata": {},
     "output_type": "execute_result"
    }
   ],
   "source": [
    "algoritmo.fit(X_train, y_train)"
   ]
  },
  {
   "cell_type": "code",
   "execution_count": 606,
   "metadata": {
    "colab": {
     "base_uri": "https://localhost:8080/"
    },
    "id": "JJgGctnvz8AJ",
    "outputId": "70aaa733-74b4-4176-e6fe-989a37298150"
   },
   "outputs": [
    {
     "data": {
      "text/plain": [
       "array([1, 1, 1, ..., 1, 1, 0])"
      ]
     },
     "execution_count": 606,
     "metadata": {},
     "output_type": "execute_result"
    }
   ],
   "source": [
    "y_pred = algoritmo.predict(X_test)\n",
    "y_pred"
   ]
  },
  {
   "cell_type": "code",
   "execution_count": 607,
   "metadata": {
    "colab": {
     "base_uri": "https://localhost:8080/"
    },
    "id": "ESPBLW_0z_ko",
    "outputId": "e7174764-286d-429f-c6bf-8961367454bb"
   },
   "outputs": [
    {
     "name": "stdout",
     "output_type": "stream",
     "text": [
      "Matriz de Confusión:\n",
      "[[ 362 1385]\n",
      " [ 270 4804]]\n"
     ]
    }
   ],
   "source": [
    "from sklearn.metrics import confusion_matrix\n",
    "matriz = confusion_matrix(y_test, y_pred)\n",
    "print('Matriz de Confusión:')\n",
    "print(matriz)"
   ]
  },
  {
   "cell_type": "code",
   "execution_count": 608,
   "metadata": {
    "colab": {
     "base_uri": "https://localhost:8080/"
    },
    "id": "O8bvCOsK0ByM",
    "outputId": "e9d6d702-90ba-48ff-8a56-283152648feb"
   },
   "outputs": [
    {
     "name": "stdout",
     "output_type": "stream",
     "text": [
      "Precisión del modelo:\n",
      "0.7762158668605591\n"
     ]
    }
   ],
   "source": [
    "from sklearn.metrics import precision_score\n",
    "\n",
    "precision = precision_score(y_test, y_pred, average=\"binary\", pos_label=1)\n",
    "print('Precisión del modelo:')\n",
    "print(precision)"
   ]
  },
  {
   "cell_type": "code",
   "execution_count": 609,
   "metadata": {
    "colab": {
     "base_uri": "https://localhost:8080/"
    },
    "id": "OoRPiqGe0EP3",
    "outputId": "d507c56f-0373-4502-91c2-899c45423873"
   },
   "outputs": [
    {
     "name": "stdout",
     "output_type": "stream",
     "text": [
      "Exactitud del modelo:\n",
      "0.7573669549919366\n"
     ]
    }
   ],
   "source": [
    "#Calculo la exactitud del modelo\n",
    "from sklearn.metrics import accuracy_score\n",
    "\n",
    "exactitud = accuracy_score(y_test, y_pred)\n",
    "print('Exactitud del modelo:')\n",
    "print(exactitud)"
   ]
  },
  {
   "cell_type": "code",
   "execution_count": 610,
   "metadata": {
    "colab": {
     "base_uri": "https://localhost:8080/"
    },
    "id": "yaBqHd4Z0GJC",
    "outputId": "4ca741e7-eb09-40c6-ab3b-0e3150c8fb04"
   },
   "outputs": [
    {
     "name": "stdout",
     "output_type": "stream",
     "text": [
      "Sensibilidad del modelo:\n",
      "0.946787544343713\n"
     ]
    }
   ],
   "source": [
    "#Calculo la sensibilidad del modelo\n",
    "from sklearn.metrics import recall_score\n",
    "\n",
    "sensibilidad = recall_score(y_test, y_pred, average=\"binary\", pos_label=1)\n",
    "print('Sensibilidad del modelo:')\n",
    "print(sensibilidad)"
   ]
  },
  {
   "cell_type": "code",
   "execution_count": 611,
   "metadata": {
    "colab": {
     "base_uri": "https://localhost:8080/"
    },
    "id": "_w_ISmFp0ID4",
    "outputId": "049cb868-3488-483a-ed1d-b9850cf30413"
   },
   "outputs": [
    {
     "name": "stdout",
     "output_type": "stream",
     "text": [
      "Puntaje F1 del modelo:\n",
      "0.8530586877386132\n"
     ]
    }
   ],
   "source": [
    "#Calculo el Puntaje F1 del modelo\n",
    "from sklearn.metrics import f1_score\n",
    "puntajef1 = f1_score(y_test, y_pred, average=\"binary\", pos_label=1)\n",
    "print('Puntaje F1 del modelo:')\n",
    "print(puntajef1)"
   ]
  },
  {
   "cell_type": "markdown",
   "metadata": {
    "id": "t8SSh4Iw0YnL"
   },
   "source": [
    "# Modelo 2\n"
   ]
  },
  {
   "cell_type": "code",
   "execution_count": 612,
   "metadata": {
    "id": "aMvbeEpemrw1"
   },
   "outputs": [],
   "source": [
    "Vars_Indep= df[['pagos_realizados', 'precio', 'enganche']]\n",
    "Var_Dep= df['status']\n",
    "X= Vars_Indep\n",
    "y= Var_Dep"
   ]
  },
  {
   "cell_type": "code",
   "execution_count": 613,
   "metadata": {
    "id": "hM-aBBE_mrw2"
   },
   "outputs": [],
   "source": [
    "X_train, X_test, y_train, y_test = train_test_split(X, y, test_size=0.3, random_state =None)"
   ]
  },
  {
   "cell_type": "code",
   "execution_count": 614,
   "metadata": {
    "id": "vMwscK18mrw2"
   },
   "outputs": [],
   "source": [
    "escalar = StandardScaler()"
   ]
  },
  {
   "cell_type": "code",
   "execution_count": 615,
   "metadata": {
    "id": "E2KLyN97mrw3"
   },
   "outputs": [],
   "source": [
    "X_train = escalar.fit_transform(X_train)\n",
    "X_test = escalar.transform(X_test)"
   ]
  },
  {
   "cell_type": "code",
   "execution_count": 616,
   "metadata": {
    "id": "zXCwl8MRmrw3"
   },
   "outputs": [],
   "source": [
    "from sklearn.linear_model import LogisticRegression\n",
    "algoritmo = LogisticRegression()"
   ]
  },
  {
   "cell_type": "code",
   "execution_count": 617,
   "metadata": {
    "colab": {
     "base_uri": "https://localhost:8080/",
     "height": 0
    },
    "id": "89QOVdMImrw3",
    "outputId": "3deaee11-6205-4eed-edec-c2cb9147ce19"
   },
   "outputs": [
    {
     "data": {
      "text/html": [
       "<style>#sk-container-id-37 {color: black;background-color: white;}#sk-container-id-37 pre{padding: 0;}#sk-container-id-37 div.sk-toggleable {background-color: white;}#sk-container-id-37 label.sk-toggleable__label {cursor: pointer;display: block;width: 100%;margin-bottom: 0;padding: 0.3em;box-sizing: border-box;text-align: center;}#sk-container-id-37 label.sk-toggleable__label-arrow:before {content: \"▸\";float: left;margin-right: 0.25em;color: #696969;}#sk-container-id-37 label.sk-toggleable__label-arrow:hover:before {color: black;}#sk-container-id-37 div.sk-estimator:hover label.sk-toggleable__label-arrow:before {color: black;}#sk-container-id-37 div.sk-toggleable__content {max-height: 0;max-width: 0;overflow: hidden;text-align: left;background-color: #f0f8ff;}#sk-container-id-37 div.sk-toggleable__content pre {margin: 0.2em;color: black;border-radius: 0.25em;background-color: #f0f8ff;}#sk-container-id-37 input.sk-toggleable__control:checked~div.sk-toggleable__content {max-height: 200px;max-width: 100%;overflow: auto;}#sk-container-id-37 input.sk-toggleable__control:checked~label.sk-toggleable__label-arrow:before {content: \"▾\";}#sk-container-id-37 div.sk-estimator input.sk-toggleable__control:checked~label.sk-toggleable__label {background-color: #d4ebff;}#sk-container-id-37 div.sk-label input.sk-toggleable__control:checked~label.sk-toggleable__label {background-color: #d4ebff;}#sk-container-id-37 input.sk-hidden--visually {border: 0;clip: rect(1px 1px 1px 1px);clip: rect(1px, 1px, 1px, 1px);height: 1px;margin: -1px;overflow: hidden;padding: 0;position: absolute;width: 1px;}#sk-container-id-37 div.sk-estimator {font-family: monospace;background-color: #f0f8ff;border: 1px dotted black;border-radius: 0.25em;box-sizing: border-box;margin-bottom: 0.5em;}#sk-container-id-37 div.sk-estimator:hover {background-color: #d4ebff;}#sk-container-id-37 div.sk-parallel-item::after {content: \"\";width: 100%;border-bottom: 1px solid gray;flex-grow: 1;}#sk-container-id-37 div.sk-label:hover label.sk-toggleable__label {background-color: #d4ebff;}#sk-container-id-37 div.sk-serial::before {content: \"\";position: absolute;border-left: 1px solid gray;box-sizing: border-box;top: 0;bottom: 0;left: 50%;z-index: 0;}#sk-container-id-37 div.sk-serial {display: flex;flex-direction: column;align-items: center;background-color: white;padding-right: 0.2em;padding-left: 0.2em;position: relative;}#sk-container-id-37 div.sk-item {position: relative;z-index: 1;}#sk-container-id-37 div.sk-parallel {display: flex;align-items: stretch;justify-content: center;background-color: white;position: relative;}#sk-container-id-37 div.sk-item::before, #sk-container-id-37 div.sk-parallel-item::before {content: \"\";position: absolute;border-left: 1px solid gray;box-sizing: border-box;top: 0;bottom: 0;left: 50%;z-index: -1;}#sk-container-id-37 div.sk-parallel-item {display: flex;flex-direction: column;z-index: 1;position: relative;background-color: white;}#sk-container-id-37 div.sk-parallel-item:first-child::after {align-self: flex-end;width: 50%;}#sk-container-id-37 div.sk-parallel-item:last-child::after {align-self: flex-start;width: 50%;}#sk-container-id-37 div.sk-parallel-item:only-child::after {width: 0;}#sk-container-id-37 div.sk-dashed-wrapped {border: 1px dashed gray;margin: 0 0.4em 0.5em 0.4em;box-sizing: border-box;padding-bottom: 0.4em;background-color: white;}#sk-container-id-37 div.sk-label label {font-family: monospace;font-weight: bold;display: inline-block;line-height: 1.2em;}#sk-container-id-37 div.sk-label-container {text-align: center;}#sk-container-id-37 div.sk-container {/* jupyter's `normalize.less` sets `[hidden] { display: none; }` but bootstrap.min.css set `[hidden] { display: none !important; }` so we also need the `!important` here to be able to override the default hidden behavior on the sphinx rendered scikit-learn.org. See: https://github.com/scikit-learn/scikit-learn/issues/21755 */display: inline-block !important;position: relative;}#sk-container-id-37 div.sk-text-repr-fallback {display: none;}</style><div id=\"sk-container-id-37\" class=\"sk-top-container\"><div class=\"sk-text-repr-fallback\"><pre>LogisticRegression()</pre><b>In a Jupyter environment, please rerun this cell to show the HTML representation or trust the notebook. <br />On GitHub, the HTML representation is unable to render, please try loading this page with nbviewer.org.</b></div><div class=\"sk-container\" hidden><div class=\"sk-item\"><div class=\"sk-estimator sk-toggleable\"><input class=\"sk-toggleable__control sk-hidden--visually\" id=\"sk-estimator-id-37\" type=\"checkbox\" checked><label for=\"sk-estimator-id-37\" class=\"sk-toggleable__label sk-toggleable__label-arrow\">LogisticRegression</label><div class=\"sk-toggleable__content\"><pre>LogisticRegression()</pre></div></div></div></div></div>"
      ],
      "text/plain": [
       "LogisticRegression()"
      ]
     },
     "execution_count": 617,
     "metadata": {},
     "output_type": "execute_result"
    }
   ],
   "source": [
    "algoritmo.fit(X_train, y_train)"
   ]
  },
  {
   "cell_type": "code",
   "execution_count": 618,
   "metadata": {
    "colab": {
     "base_uri": "https://localhost:8080/"
    },
    "id": "cEHK-2iamrw6",
    "outputId": "468193a2-2b33-4676-9c5a-43bcee958a69"
   },
   "outputs": [
    {
     "data": {
      "text/plain": [
       "array([1, 1, 1, ..., 1, 1, 1])"
      ]
     },
     "execution_count": 618,
     "metadata": {},
     "output_type": "execute_result"
    }
   ],
   "source": [
    "y_pred = algoritmo.predict(X_test)\n",
    "y_pred"
   ]
  },
  {
   "cell_type": "code",
   "execution_count": 619,
   "metadata": {
    "colab": {
     "base_uri": "https://localhost:8080/"
    },
    "id": "-hk4ism2mrw7",
    "outputId": "64724a88-20e7-47f9-d456-0a259702a085"
   },
   "outputs": [
    {
     "name": "stdout",
     "output_type": "stream",
     "text": [
      "Matriz de Confusión:\n",
      "[[ 221 1479]\n",
      " [ 190 4931]]\n"
     ]
    }
   ],
   "source": [
    "from sklearn.metrics import confusion_matrix\n",
    "matriz = confusion_matrix(y_test, y_pred)\n",
    "print('Matriz de Confusión:')\n",
    "print(matriz)"
   ]
  },
  {
   "cell_type": "code",
   "execution_count": 620,
   "metadata": {
    "colab": {
     "base_uri": "https://localhost:8080/"
    },
    "id": "jR-0bUPXmrw7",
    "outputId": "c904ffae-3b76-4070-8eb3-63548aed849b"
   },
   "outputs": [
    {
     "name": "stdout",
     "output_type": "stream",
     "text": [
      "Precisión del modelo:\n",
      "0.7692667706708268\n"
     ]
    }
   ],
   "source": [
    "from sklearn.metrics import precision_score\n",
    "\n",
    "precision2 = precision_score(y_test, y_pred, average=\"binary\", pos_label=1)\n",
    "print('Precisión del modelo:')\n",
    "print(precision2)"
   ]
  },
  {
   "cell_type": "code",
   "execution_count": 621,
   "metadata": {
    "colab": {
     "base_uri": "https://localhost:8080/"
    },
    "id": "9JowH1B9mrw8",
    "outputId": "6ed48f64-21d7-4647-bdb2-70e04d967349"
   },
   "outputs": [
    {
     "name": "stdout",
     "output_type": "stream",
     "text": [
      "Exactitud del modelo:\n",
      "0.7553144700190588\n"
     ]
    }
   ],
   "source": [
    "#Calculo la exactitud del modelo\n",
    "from sklearn.metrics import accuracy_score\n",
    "\n",
    "exactitud2 = accuracy_score(y_test, y_pred)\n",
    "print('Exactitud del modelo:')\n",
    "print(exactitud2)"
   ]
  },
  {
   "cell_type": "code",
   "execution_count": 622,
   "metadata": {
    "colab": {
     "base_uri": "https://localhost:8080/"
    },
    "id": "PlsGm5n9mrw8",
    "outputId": "db8ca56d-4745-4fef-cc25-cd134a022af1"
   },
   "outputs": [
    {
     "name": "stdout",
     "output_type": "stream",
     "text": [
      "Sensibilidad del modelo:\n",
      "0.9628978715094708\n"
     ]
    }
   ],
   "source": [
    "#Calculo la sensibilidad del modelo\n",
    "from sklearn.metrics import recall_score\n",
    "\n",
    "sensibilidad2 = recall_score(y_test, y_pred, average=\"binary\", pos_label=1)\n",
    "print('Sensibilidad del modelo:')\n",
    "print(sensibilidad2)"
   ]
  },
  {
   "cell_type": "code",
   "execution_count": 623,
   "metadata": {
    "colab": {
     "base_uri": "https://localhost:8080/"
    },
    "id": "hPQx_5ujzb7N",
    "outputId": "56521b08-3eab-4da6-a723-87bec7b6ea29"
   },
   "outputs": [
    {
     "name": "stdout",
     "output_type": "stream",
     "text": [
      "Puntaje F1 del modelo:\n",
      "0.8552597346283931\n"
     ]
    }
   ],
   "source": [
    "#Calculo el Puntaje F1 del modelo\n",
    "from sklearn.metrics import f1_score\n",
    "puntajef1 = f1_score(y_test, y_pred, average=\"binary\", pos_label=1)\n",
    "print('Puntaje F1 del modelo:')\n",
    "print(puntajef1)"
   ]
  },
  {
   "cell_type": "markdown",
   "metadata": {
    "id": "EMq3xAAxmsyA"
   },
   "source": [
    "# Modelo 3"
   ]
  },
  {
   "cell_type": "code",
   "execution_count": 624,
   "metadata": {
    "id": "LoHfiimmmsyC"
   },
   "outputs": [],
   "source": [
    "Vars_Indep= df[['descuento', 'enganche', 'score_buro']]\n",
    "Var_Dep= df['status']\n",
    "X= Vars_Indep\n",
    "y= Var_Dep"
   ]
  },
  {
   "cell_type": "code",
   "execution_count": 625,
   "metadata": {
    "id": "Ej5dTYPsmsyD"
   },
   "outputs": [],
   "source": [
    "X_train, X_test, y_train, y_test = train_test_split(X, y, test_size=0.3, random_state =None)"
   ]
  },
  {
   "cell_type": "code",
   "execution_count": 626,
   "metadata": {
    "id": "abJKm1VnmsyE"
   },
   "outputs": [],
   "source": [
    "escalar = StandardScaler()"
   ]
  },
  {
   "cell_type": "code",
   "execution_count": 627,
   "metadata": {
    "id": "pXJ_SDkEmsyE"
   },
   "outputs": [],
   "source": [
    "X_train = escalar.fit_transform(X_train)\n",
    "X_test = escalar.transform(X_test)"
   ]
  },
  {
   "cell_type": "code",
   "execution_count": 628,
   "metadata": {
    "id": "sUvD57abmsyF"
   },
   "outputs": [],
   "source": [
    "from sklearn.linear_model import LogisticRegression\n",
    "algoritmo = LogisticRegression()"
   ]
  },
  {
   "cell_type": "code",
   "execution_count": 629,
   "metadata": {
    "colab": {
     "base_uri": "https://localhost:8080/",
     "height": 0
    },
    "id": "wAGVzczzmsyF",
    "outputId": "2e0b0ed8-a60f-45c6-80b7-9b395291eabb"
   },
   "outputs": [
    {
     "data": {
      "text/html": [
       "<style>#sk-container-id-38 {color: black;background-color: white;}#sk-container-id-38 pre{padding: 0;}#sk-container-id-38 div.sk-toggleable {background-color: white;}#sk-container-id-38 label.sk-toggleable__label {cursor: pointer;display: block;width: 100%;margin-bottom: 0;padding: 0.3em;box-sizing: border-box;text-align: center;}#sk-container-id-38 label.sk-toggleable__label-arrow:before {content: \"▸\";float: left;margin-right: 0.25em;color: #696969;}#sk-container-id-38 label.sk-toggleable__label-arrow:hover:before {color: black;}#sk-container-id-38 div.sk-estimator:hover label.sk-toggleable__label-arrow:before {color: black;}#sk-container-id-38 div.sk-toggleable__content {max-height: 0;max-width: 0;overflow: hidden;text-align: left;background-color: #f0f8ff;}#sk-container-id-38 div.sk-toggleable__content pre {margin: 0.2em;color: black;border-radius: 0.25em;background-color: #f0f8ff;}#sk-container-id-38 input.sk-toggleable__control:checked~div.sk-toggleable__content {max-height: 200px;max-width: 100%;overflow: auto;}#sk-container-id-38 input.sk-toggleable__control:checked~label.sk-toggleable__label-arrow:before {content: \"▾\";}#sk-container-id-38 div.sk-estimator input.sk-toggleable__control:checked~label.sk-toggleable__label {background-color: #d4ebff;}#sk-container-id-38 div.sk-label input.sk-toggleable__control:checked~label.sk-toggleable__label {background-color: #d4ebff;}#sk-container-id-38 input.sk-hidden--visually {border: 0;clip: rect(1px 1px 1px 1px);clip: rect(1px, 1px, 1px, 1px);height: 1px;margin: -1px;overflow: hidden;padding: 0;position: absolute;width: 1px;}#sk-container-id-38 div.sk-estimator {font-family: monospace;background-color: #f0f8ff;border: 1px dotted black;border-radius: 0.25em;box-sizing: border-box;margin-bottom: 0.5em;}#sk-container-id-38 div.sk-estimator:hover {background-color: #d4ebff;}#sk-container-id-38 div.sk-parallel-item::after {content: \"\";width: 100%;border-bottom: 1px solid gray;flex-grow: 1;}#sk-container-id-38 div.sk-label:hover label.sk-toggleable__label {background-color: #d4ebff;}#sk-container-id-38 div.sk-serial::before {content: \"\";position: absolute;border-left: 1px solid gray;box-sizing: border-box;top: 0;bottom: 0;left: 50%;z-index: 0;}#sk-container-id-38 div.sk-serial {display: flex;flex-direction: column;align-items: center;background-color: white;padding-right: 0.2em;padding-left: 0.2em;position: relative;}#sk-container-id-38 div.sk-item {position: relative;z-index: 1;}#sk-container-id-38 div.sk-parallel {display: flex;align-items: stretch;justify-content: center;background-color: white;position: relative;}#sk-container-id-38 div.sk-item::before, #sk-container-id-38 div.sk-parallel-item::before {content: \"\";position: absolute;border-left: 1px solid gray;box-sizing: border-box;top: 0;bottom: 0;left: 50%;z-index: -1;}#sk-container-id-38 div.sk-parallel-item {display: flex;flex-direction: column;z-index: 1;position: relative;background-color: white;}#sk-container-id-38 div.sk-parallel-item:first-child::after {align-self: flex-end;width: 50%;}#sk-container-id-38 div.sk-parallel-item:last-child::after {align-self: flex-start;width: 50%;}#sk-container-id-38 div.sk-parallel-item:only-child::after {width: 0;}#sk-container-id-38 div.sk-dashed-wrapped {border: 1px dashed gray;margin: 0 0.4em 0.5em 0.4em;box-sizing: border-box;padding-bottom: 0.4em;background-color: white;}#sk-container-id-38 div.sk-label label {font-family: monospace;font-weight: bold;display: inline-block;line-height: 1.2em;}#sk-container-id-38 div.sk-label-container {text-align: center;}#sk-container-id-38 div.sk-container {/* jupyter's `normalize.less` sets `[hidden] { display: none; }` but bootstrap.min.css set `[hidden] { display: none !important; }` so we also need the `!important` here to be able to override the default hidden behavior on the sphinx rendered scikit-learn.org. See: https://github.com/scikit-learn/scikit-learn/issues/21755 */display: inline-block !important;position: relative;}#sk-container-id-38 div.sk-text-repr-fallback {display: none;}</style><div id=\"sk-container-id-38\" class=\"sk-top-container\"><div class=\"sk-text-repr-fallback\"><pre>LogisticRegression()</pre><b>In a Jupyter environment, please rerun this cell to show the HTML representation or trust the notebook. <br />On GitHub, the HTML representation is unable to render, please try loading this page with nbviewer.org.</b></div><div class=\"sk-container\" hidden><div class=\"sk-item\"><div class=\"sk-estimator sk-toggleable\"><input class=\"sk-toggleable__control sk-hidden--visually\" id=\"sk-estimator-id-38\" type=\"checkbox\" checked><label for=\"sk-estimator-id-38\" class=\"sk-toggleable__label sk-toggleable__label-arrow\">LogisticRegression</label><div class=\"sk-toggleable__content\"><pre>LogisticRegression()</pre></div></div></div></div></div>"
      ],
      "text/plain": [
       "LogisticRegression()"
      ]
     },
     "execution_count": 629,
     "metadata": {},
     "output_type": "execute_result"
    }
   ],
   "source": [
    "algoritmo.fit(X_train, y_train)"
   ]
  },
  {
   "cell_type": "code",
   "execution_count": 630,
   "metadata": {
    "colab": {
     "base_uri": "https://localhost:8080/"
    },
    "id": "k-CxO7xLmsyG",
    "outputId": "86d28168-b992-4e8e-9cd6-bfbf5c445ac4"
   },
   "outputs": [
    {
     "data": {
      "text/plain": [
       "array([1, 1, 1, ..., 1, 1, 1])"
      ]
     },
     "execution_count": 630,
     "metadata": {},
     "output_type": "execute_result"
    }
   ],
   "source": [
    "y_pred = algoritmo.predict(X_test)\n",
    "y_pred"
   ]
  },
  {
   "cell_type": "code",
   "execution_count": 631,
   "metadata": {
    "colab": {
     "base_uri": "https://localhost:8080/"
    },
    "id": "4l08x-_CmsyG",
    "outputId": "b0dd518f-5816-459b-c42f-7b1ccdee0d9a"
   },
   "outputs": [
    {
     "name": "stdout",
     "output_type": "stream",
     "text": [
      "Matriz de Confusión:\n",
      "[[   0 1707]\n",
      " [   0 5114]]\n"
     ]
    }
   ],
   "source": [
    "from sklearn.metrics import confusion_matrix\n",
    "matriz = confusion_matrix(y_test, y_pred)\n",
    "print('Matriz de Confusión:')\n",
    "print(matriz)"
   ]
  },
  {
   "cell_type": "code",
   "execution_count": 632,
   "metadata": {
    "colab": {
     "base_uri": "https://localhost:8080/"
    },
    "id": "kIlt9fXtmsyH",
    "outputId": "9644c13e-f0a0-4091-f604-b6e3abc3fde8"
   },
   "outputs": [
    {
     "name": "stdout",
     "output_type": "stream",
     "text": [
      "Precisión del modelo:\n",
      "0.7497434393783903\n"
     ]
    }
   ],
   "source": [
    "from sklearn.metrics import precision_score\n",
    "\n",
    "precision3 = precision_score(y_test, y_pred, average=\"binary\", pos_label=1)\n",
    "print('Precisión del modelo:')\n",
    "print(precision3)"
   ]
  },
  {
   "cell_type": "code",
   "execution_count": 633,
   "metadata": {
    "colab": {
     "base_uri": "https://localhost:8080/"
    },
    "id": "e9OCqlT2msyH",
    "outputId": "086a1447-cb7c-4693-f09f-61c9f23b8678"
   },
   "outputs": [
    {
     "name": "stdout",
     "output_type": "stream",
     "text": [
      "Exactitud del modelo:\n",
      "0.7497434393783903\n"
     ]
    }
   ],
   "source": [
    "#Calculo la exactitud del modelo\n",
    "from sklearn.metrics import accuracy_score\n",
    "\n",
    "exactitud3 = accuracy_score(y_test, y_pred)\n",
    "print('Exactitud del modelo:')\n",
    "print(exactitud3)"
   ]
  },
  {
   "cell_type": "code",
   "execution_count": 634,
   "metadata": {
    "colab": {
     "base_uri": "https://localhost:8080/"
    },
    "id": "JHKWgmMSmsyI",
    "outputId": "003b5505-1b85-4c28-b16c-fb929b55b537"
   },
   "outputs": [
    {
     "name": "stdout",
     "output_type": "stream",
     "text": [
      "Sensibilidad del modelo:\n",
      "1.0\n"
     ]
    }
   ],
   "source": [
    "#Calculo la sensibilidad del modelo\n",
    "from sklearn.metrics import recall_score\n",
    "\n",
    "sensibilidad3 = recall_score(y_test, y_pred, average=\"binary\", pos_label=1)\n",
    "print('Sensibilidad del modelo:')\n",
    "print(sensibilidad3)"
   ]
  },
  {
   "cell_type": "code",
   "execution_count": 635,
   "metadata": {
    "colab": {
     "base_uri": "https://localhost:8080/"
    },
    "id": "xEm9yDIOzdpl",
    "outputId": "96c72117-7954-4c5c-c516-8126a489b14c"
   },
   "outputs": [
    {
     "name": "stdout",
     "output_type": "stream",
     "text": [
      "Puntaje F1 del modelo:\n",
      "0.8569752827817344\n"
     ]
    }
   ],
   "source": [
    "#Calculo el Puntaje F1 del modelo\n",
    "from sklearn.metrics import f1_score\n",
    "puntajef1 = f1_score(y_test, y_pred, average=\"binary\", pos_label=1)\n",
    "print('Puntaje F1 del modelo:')\n",
    "print(puntajef1)"
   ]
  },
  {
   "cell_type": "markdown",
   "metadata": {
    "id": "mnDhc3jsmtoM"
   },
   "source": [
    "# Modelo 4"
   ]
  },
  {
   "cell_type": "code",
   "execution_count": 636,
   "metadata": {
    "id": "Q7Pw7f6YmtoN"
   },
   "outputs": [],
   "source": [
    "Vars_Indep= df[['monto_financiado', 'precio', 'monto_accesorios']]\n",
    "Var_Dep= df['status']\n",
    "X= Vars_Indep\n",
    "y= Var_Dep"
   ]
  },
  {
   "cell_type": "code",
   "execution_count": 637,
   "metadata": {
    "id": "9Kakft6vmtoN"
   },
   "outputs": [],
   "source": [
    "X_train, X_test, y_train, y_test = train_test_split(X, y, test_size=0.3, random_state =None)"
   ]
  },
  {
   "cell_type": "code",
   "execution_count": 638,
   "metadata": {
    "id": "PH19cMH5mtoO"
   },
   "outputs": [],
   "source": [
    "escalar = StandardScaler()"
   ]
  },
  {
   "cell_type": "code",
   "execution_count": 639,
   "metadata": {
    "id": "gVAL2z-AmtoO"
   },
   "outputs": [],
   "source": [
    "X_train = escalar.fit_transform(X_train)\n",
    "X_test = escalar.transform(X_test)"
   ]
  },
  {
   "cell_type": "code",
   "execution_count": 640,
   "metadata": {
    "id": "7pNdam4OmtoO"
   },
   "outputs": [],
   "source": [
    "from sklearn.linear_model import LogisticRegression\n",
    "algoritmo = LogisticRegression()"
   ]
  },
  {
   "cell_type": "code",
   "execution_count": 641,
   "metadata": {
    "colab": {
     "base_uri": "https://localhost:8080/",
     "height": 0
    },
    "id": "bJsq8xy4mtoO",
    "outputId": "34e62e35-9b88-44eb-fdd3-f3d44192a9ee"
   },
   "outputs": [
    {
     "data": {
      "text/html": [
       "<style>#sk-container-id-39 {color: black;background-color: white;}#sk-container-id-39 pre{padding: 0;}#sk-container-id-39 div.sk-toggleable {background-color: white;}#sk-container-id-39 label.sk-toggleable__label {cursor: pointer;display: block;width: 100%;margin-bottom: 0;padding: 0.3em;box-sizing: border-box;text-align: center;}#sk-container-id-39 label.sk-toggleable__label-arrow:before {content: \"▸\";float: left;margin-right: 0.25em;color: #696969;}#sk-container-id-39 label.sk-toggleable__label-arrow:hover:before {color: black;}#sk-container-id-39 div.sk-estimator:hover label.sk-toggleable__label-arrow:before {color: black;}#sk-container-id-39 div.sk-toggleable__content {max-height: 0;max-width: 0;overflow: hidden;text-align: left;background-color: #f0f8ff;}#sk-container-id-39 div.sk-toggleable__content pre {margin: 0.2em;color: black;border-radius: 0.25em;background-color: #f0f8ff;}#sk-container-id-39 input.sk-toggleable__control:checked~div.sk-toggleable__content {max-height: 200px;max-width: 100%;overflow: auto;}#sk-container-id-39 input.sk-toggleable__control:checked~label.sk-toggleable__label-arrow:before {content: \"▾\";}#sk-container-id-39 div.sk-estimator input.sk-toggleable__control:checked~label.sk-toggleable__label {background-color: #d4ebff;}#sk-container-id-39 div.sk-label input.sk-toggleable__control:checked~label.sk-toggleable__label {background-color: #d4ebff;}#sk-container-id-39 input.sk-hidden--visually {border: 0;clip: rect(1px 1px 1px 1px);clip: rect(1px, 1px, 1px, 1px);height: 1px;margin: -1px;overflow: hidden;padding: 0;position: absolute;width: 1px;}#sk-container-id-39 div.sk-estimator {font-family: monospace;background-color: #f0f8ff;border: 1px dotted black;border-radius: 0.25em;box-sizing: border-box;margin-bottom: 0.5em;}#sk-container-id-39 div.sk-estimator:hover {background-color: #d4ebff;}#sk-container-id-39 div.sk-parallel-item::after {content: \"\";width: 100%;border-bottom: 1px solid gray;flex-grow: 1;}#sk-container-id-39 div.sk-label:hover label.sk-toggleable__label {background-color: #d4ebff;}#sk-container-id-39 div.sk-serial::before {content: \"\";position: absolute;border-left: 1px solid gray;box-sizing: border-box;top: 0;bottom: 0;left: 50%;z-index: 0;}#sk-container-id-39 div.sk-serial {display: flex;flex-direction: column;align-items: center;background-color: white;padding-right: 0.2em;padding-left: 0.2em;position: relative;}#sk-container-id-39 div.sk-item {position: relative;z-index: 1;}#sk-container-id-39 div.sk-parallel {display: flex;align-items: stretch;justify-content: center;background-color: white;position: relative;}#sk-container-id-39 div.sk-item::before, #sk-container-id-39 div.sk-parallel-item::before {content: \"\";position: absolute;border-left: 1px solid gray;box-sizing: border-box;top: 0;bottom: 0;left: 50%;z-index: -1;}#sk-container-id-39 div.sk-parallel-item {display: flex;flex-direction: column;z-index: 1;position: relative;background-color: white;}#sk-container-id-39 div.sk-parallel-item:first-child::after {align-self: flex-end;width: 50%;}#sk-container-id-39 div.sk-parallel-item:last-child::after {align-self: flex-start;width: 50%;}#sk-container-id-39 div.sk-parallel-item:only-child::after {width: 0;}#sk-container-id-39 div.sk-dashed-wrapped {border: 1px dashed gray;margin: 0 0.4em 0.5em 0.4em;box-sizing: border-box;padding-bottom: 0.4em;background-color: white;}#sk-container-id-39 div.sk-label label {font-family: monospace;font-weight: bold;display: inline-block;line-height: 1.2em;}#sk-container-id-39 div.sk-label-container {text-align: center;}#sk-container-id-39 div.sk-container {/* jupyter's `normalize.less` sets `[hidden] { display: none; }` but bootstrap.min.css set `[hidden] { display: none !important; }` so we also need the `!important` here to be able to override the default hidden behavior on the sphinx rendered scikit-learn.org. See: https://github.com/scikit-learn/scikit-learn/issues/21755 */display: inline-block !important;position: relative;}#sk-container-id-39 div.sk-text-repr-fallback {display: none;}</style><div id=\"sk-container-id-39\" class=\"sk-top-container\"><div class=\"sk-text-repr-fallback\"><pre>LogisticRegression()</pre><b>In a Jupyter environment, please rerun this cell to show the HTML representation or trust the notebook. <br />On GitHub, the HTML representation is unable to render, please try loading this page with nbviewer.org.</b></div><div class=\"sk-container\" hidden><div class=\"sk-item\"><div class=\"sk-estimator sk-toggleable\"><input class=\"sk-toggleable__control sk-hidden--visually\" id=\"sk-estimator-id-39\" type=\"checkbox\" checked><label for=\"sk-estimator-id-39\" class=\"sk-toggleable__label sk-toggleable__label-arrow\">LogisticRegression</label><div class=\"sk-toggleable__content\"><pre>LogisticRegression()</pre></div></div></div></div></div>"
      ],
      "text/plain": [
       "LogisticRegression()"
      ]
     },
     "execution_count": 641,
     "metadata": {},
     "output_type": "execute_result"
    }
   ],
   "source": [
    "algoritmo.fit(X_train, y_train)"
   ]
  },
  {
   "cell_type": "code",
   "execution_count": 642,
   "metadata": {
    "colab": {
     "base_uri": "https://localhost:8080/"
    },
    "id": "KAD5WDihmtoP",
    "outputId": "49a28512-fdfa-4ef4-bb7e-955f81d7c9f1"
   },
   "outputs": [
    {
     "data": {
      "text/plain": [
       "array([1, 1, 1, ..., 1, 1, 1])"
      ]
     },
     "execution_count": 642,
     "metadata": {},
     "output_type": "execute_result"
    }
   ],
   "source": [
    "y_pred = algoritmo.predict(X_test)\n",
    "y_pred"
   ]
  },
  {
   "cell_type": "code",
   "execution_count": 643,
   "metadata": {
    "colab": {
     "base_uri": "https://localhost:8080/"
    },
    "id": "bxcW8et3mtoP",
    "outputId": "42e0e971-e842-44c8-c5d8-9fc3e84950c2"
   },
   "outputs": [
    {
     "name": "stdout",
     "output_type": "stream",
     "text": [
      "Matriz de Confusión:\n",
      "[[   0 1693]\n",
      " [   0 5128]]\n"
     ]
    }
   ],
   "source": [
    "from sklearn.metrics import confusion_matrix\n",
    "matriz = confusion_matrix(y_test, y_pred)\n",
    "print('Matriz de Confusión:')\n",
    "print(matriz)"
   ]
  },
  {
   "cell_type": "code",
   "execution_count": 644,
   "metadata": {
    "colab": {
     "base_uri": "https://localhost:8080/"
    },
    "id": "zTG15TOsmtoP",
    "outputId": "4c40f72f-f0e1-456c-906d-9aece92f2038"
   },
   "outputs": [
    {
     "name": "stdout",
     "output_type": "stream",
     "text": [
      "Precisión del modelo:\n",
      "0.7517959243512682\n"
     ]
    }
   ],
   "source": [
    "from sklearn.metrics import precision_score\n",
    "\n",
    "precision4 = precision_score(y_test, y_pred, average=\"binary\", pos_label=1)\n",
    "print('Precisión del modelo:')\n",
    "print(precision4)"
   ]
  },
  {
   "cell_type": "code",
   "execution_count": 645,
   "metadata": {
    "colab": {
     "base_uri": "https://localhost:8080/"
    },
    "id": "IkUYpWn0mtoP",
    "outputId": "f862279a-e6a6-48d8-87c8-ff89bbce5895"
   },
   "outputs": [
    {
     "name": "stdout",
     "output_type": "stream",
     "text": [
      "Exactitud del modelo:\n",
      "0.7517959243512682\n"
     ]
    }
   ],
   "source": [
    "#Calculo la exactitud del modelo\n",
    "from sklearn.metrics import accuracy_score\n",
    "\n",
    "exactitud4 = accuracy_score(y_test, y_pred)\n",
    "print('Exactitud del modelo:')\n",
    "print(exactitud4)"
   ]
  },
  {
   "cell_type": "code",
   "execution_count": 646,
   "metadata": {
    "colab": {
     "base_uri": "https://localhost:8080/"
    },
    "id": "xvz9d6tamtoP",
    "outputId": "19500eda-65d3-4197-f8d8-14d1cfdf9dda"
   },
   "outputs": [
    {
     "name": "stdout",
     "output_type": "stream",
     "text": [
      "Sensibilidad del modelo:\n",
      "1.0\n"
     ]
    }
   ],
   "source": [
    "#Calculo la sensibilidad del modelo\n",
    "from sklearn.metrics import recall_score\n",
    "\n",
    "sensibilidad4 = recall_score(y_test, y_pred, average=\"binary\", pos_label=1)\n",
    "print('Sensibilidad del modelo:')\n",
    "print(sensibilidad4)"
   ]
  },
  {
   "cell_type": "code",
   "execution_count": 647,
   "metadata": {
    "colab": {
     "base_uri": "https://localhost:8080/"
    },
    "id": "35i09G7Yzfl7",
    "outputId": "f56133f7-14e3-43aa-b33f-bb7904d759ac"
   },
   "outputs": [
    {
     "name": "stdout",
     "output_type": "stream",
     "text": [
      "Puntaje F1 del modelo:\n",
      "0.858314503305716\n"
     ]
    }
   ],
   "source": [
    "#Calculo el Puntaje F1 del modelo\n",
    "from sklearn.metrics import f1_score\n",
    "puntajef1 = f1_score(y_test, y_pred, average=\"binary\", pos_label=1)\n",
    "print('Puntaje F1 del modelo:')\n",
    "print(puntajef1)"
   ]
  },
  {
   "cell_type": "markdown",
   "metadata": {
    "id": "mg4fDlTqmujG"
   },
   "source": [
    "# Modelo 5"
   ]
  },
  {
   "cell_type": "code",
   "execution_count": 648,
   "metadata": {
    "id": "SESWmtDBmujG"
   },
   "outputs": [],
   "source": [
    "Vars_Indep= df[['riesgo', 'porc_eng', 'score_buro']]\n",
    "Var_Dep= df['status']\n",
    "X= Vars_Indep\n",
    "y= Var_Dep"
   ]
  },
  {
   "cell_type": "code",
   "execution_count": 649,
   "metadata": {
    "id": "FBjw8b3UmujH"
   },
   "outputs": [],
   "source": [
    "X_train, X_test, y_train, y_test = train_test_split(X, y, test_size=0.3, random_state =None)"
   ]
  },
  {
   "cell_type": "code",
   "execution_count": 650,
   "metadata": {
    "id": "gic4OFUimujH"
   },
   "outputs": [],
   "source": [
    "escalar = StandardScaler()"
   ]
  },
  {
   "cell_type": "code",
   "execution_count": 651,
   "metadata": {
    "id": "hKOTrIGimujI"
   },
   "outputs": [],
   "source": [
    "X_train = escalar.fit_transform(X_train)\n",
    "X_test = escalar.transform(X_test)"
   ]
  },
  {
   "cell_type": "code",
   "execution_count": 652,
   "metadata": {
    "id": "8rkEIP0MmujI"
   },
   "outputs": [],
   "source": [
    "from sklearn.linear_model import LogisticRegression\n",
    "algoritmo = LogisticRegression()"
   ]
  },
  {
   "cell_type": "code",
   "execution_count": 653,
   "metadata": {
    "colab": {
     "base_uri": "https://localhost:8080/",
     "height": 0
    },
    "id": "aKjsL6ntmujI",
    "outputId": "510e59c1-060d-4797-f9d9-2278a638e217"
   },
   "outputs": [
    {
     "data": {
      "text/html": [
       "<style>#sk-container-id-40 {color: black;background-color: white;}#sk-container-id-40 pre{padding: 0;}#sk-container-id-40 div.sk-toggleable {background-color: white;}#sk-container-id-40 label.sk-toggleable__label {cursor: pointer;display: block;width: 100%;margin-bottom: 0;padding: 0.3em;box-sizing: border-box;text-align: center;}#sk-container-id-40 label.sk-toggleable__label-arrow:before {content: \"▸\";float: left;margin-right: 0.25em;color: #696969;}#sk-container-id-40 label.sk-toggleable__label-arrow:hover:before {color: black;}#sk-container-id-40 div.sk-estimator:hover label.sk-toggleable__label-arrow:before {color: black;}#sk-container-id-40 div.sk-toggleable__content {max-height: 0;max-width: 0;overflow: hidden;text-align: left;background-color: #f0f8ff;}#sk-container-id-40 div.sk-toggleable__content pre {margin: 0.2em;color: black;border-radius: 0.25em;background-color: #f0f8ff;}#sk-container-id-40 input.sk-toggleable__control:checked~div.sk-toggleable__content {max-height: 200px;max-width: 100%;overflow: auto;}#sk-container-id-40 input.sk-toggleable__control:checked~label.sk-toggleable__label-arrow:before {content: \"▾\";}#sk-container-id-40 div.sk-estimator input.sk-toggleable__control:checked~label.sk-toggleable__label {background-color: #d4ebff;}#sk-container-id-40 div.sk-label input.sk-toggleable__control:checked~label.sk-toggleable__label {background-color: #d4ebff;}#sk-container-id-40 input.sk-hidden--visually {border: 0;clip: rect(1px 1px 1px 1px);clip: rect(1px, 1px, 1px, 1px);height: 1px;margin: -1px;overflow: hidden;padding: 0;position: absolute;width: 1px;}#sk-container-id-40 div.sk-estimator {font-family: monospace;background-color: #f0f8ff;border: 1px dotted black;border-radius: 0.25em;box-sizing: border-box;margin-bottom: 0.5em;}#sk-container-id-40 div.sk-estimator:hover {background-color: #d4ebff;}#sk-container-id-40 div.sk-parallel-item::after {content: \"\";width: 100%;border-bottom: 1px solid gray;flex-grow: 1;}#sk-container-id-40 div.sk-label:hover label.sk-toggleable__label {background-color: #d4ebff;}#sk-container-id-40 div.sk-serial::before {content: \"\";position: absolute;border-left: 1px solid gray;box-sizing: border-box;top: 0;bottom: 0;left: 50%;z-index: 0;}#sk-container-id-40 div.sk-serial {display: flex;flex-direction: column;align-items: center;background-color: white;padding-right: 0.2em;padding-left: 0.2em;position: relative;}#sk-container-id-40 div.sk-item {position: relative;z-index: 1;}#sk-container-id-40 div.sk-parallel {display: flex;align-items: stretch;justify-content: center;background-color: white;position: relative;}#sk-container-id-40 div.sk-item::before, #sk-container-id-40 div.sk-parallel-item::before {content: \"\";position: absolute;border-left: 1px solid gray;box-sizing: border-box;top: 0;bottom: 0;left: 50%;z-index: -1;}#sk-container-id-40 div.sk-parallel-item {display: flex;flex-direction: column;z-index: 1;position: relative;background-color: white;}#sk-container-id-40 div.sk-parallel-item:first-child::after {align-self: flex-end;width: 50%;}#sk-container-id-40 div.sk-parallel-item:last-child::after {align-self: flex-start;width: 50%;}#sk-container-id-40 div.sk-parallel-item:only-child::after {width: 0;}#sk-container-id-40 div.sk-dashed-wrapped {border: 1px dashed gray;margin: 0 0.4em 0.5em 0.4em;box-sizing: border-box;padding-bottom: 0.4em;background-color: white;}#sk-container-id-40 div.sk-label label {font-family: monospace;font-weight: bold;display: inline-block;line-height: 1.2em;}#sk-container-id-40 div.sk-label-container {text-align: center;}#sk-container-id-40 div.sk-container {/* jupyter's `normalize.less` sets `[hidden] { display: none; }` but bootstrap.min.css set `[hidden] { display: none !important; }` so we also need the `!important` here to be able to override the default hidden behavior on the sphinx rendered scikit-learn.org. See: https://github.com/scikit-learn/scikit-learn/issues/21755 */display: inline-block !important;position: relative;}#sk-container-id-40 div.sk-text-repr-fallback {display: none;}</style><div id=\"sk-container-id-40\" class=\"sk-top-container\"><div class=\"sk-text-repr-fallback\"><pre>LogisticRegression()</pre><b>In a Jupyter environment, please rerun this cell to show the HTML representation or trust the notebook. <br />On GitHub, the HTML representation is unable to render, please try loading this page with nbviewer.org.</b></div><div class=\"sk-container\" hidden><div class=\"sk-item\"><div class=\"sk-estimator sk-toggleable\"><input class=\"sk-toggleable__control sk-hidden--visually\" id=\"sk-estimator-id-40\" type=\"checkbox\" checked><label for=\"sk-estimator-id-40\" class=\"sk-toggleable__label sk-toggleable__label-arrow\">LogisticRegression</label><div class=\"sk-toggleable__content\"><pre>LogisticRegression()</pre></div></div></div></div></div>"
      ],
      "text/plain": [
       "LogisticRegression()"
      ]
     },
     "execution_count": 653,
     "metadata": {},
     "output_type": "execute_result"
    }
   ],
   "source": [
    "algoritmo.fit(X_train, y_train)"
   ]
  },
  {
   "cell_type": "code",
   "execution_count": 654,
   "metadata": {
    "colab": {
     "base_uri": "https://localhost:8080/"
    },
    "id": "t967HuOSmujJ",
    "outputId": "ae7a6148-b035-467c-ee22-e7373d776fb1"
   },
   "outputs": [
    {
     "data": {
      "text/plain": [
       "array([1, 0, 1, ..., 1, 1, 1])"
      ]
     },
     "execution_count": 654,
     "metadata": {},
     "output_type": "execute_result"
    }
   ],
   "source": [
    "y_pred = algoritmo.predict(X_test)\n",
    "y_pred"
   ]
  },
  {
   "cell_type": "code",
   "execution_count": 655,
   "metadata": {
    "colab": {
     "base_uri": "https://localhost:8080/"
    },
    "id": "HGbJiCrtmujJ",
    "outputId": "0248338e-a92c-4dd6-c87b-2b91e04511bb"
   },
   "outputs": [
    {
     "name": "stdout",
     "output_type": "stream",
     "text": [
      "Matriz de Confusión:\n",
      "[[ 281 1434]\n",
      " [ 299 4807]]\n"
     ]
    }
   ],
   "source": [
    "from sklearn.metrics import confusion_matrix\n",
    "matriz = confusion_matrix(y_test, y_pred)\n",
    "print('Matriz de Confusión:')\n",
    "print(matriz)"
   ]
  },
  {
   "cell_type": "code",
   "execution_count": 656,
   "metadata": {
    "colab": {
     "base_uri": "https://localhost:8080/"
    },
    "id": "IN6OaOEpmujJ",
    "outputId": "368c77b9-f9dd-402b-f315-9ba68b93b227"
   },
   "outputs": [
    {
     "name": "stdout",
     "output_type": "stream",
     "text": [
      "Precisión del modelo:\n",
      "0.7702291299471239\n"
     ]
    }
   ],
   "source": [
    "from sklearn.metrics import precision_score\n",
    "\n",
    "precision5 = precision_score(y_test, y_pred, average=\"binary\", pos_label=1)\n",
    "print('Precisión del modelo:')\n",
    "print(precision5)"
   ]
  },
  {
   "cell_type": "code",
   "execution_count": 657,
   "metadata": {
    "colab": {
     "base_uri": "https://localhost:8080/"
    },
    "id": "LKRvj6rfmujK",
    "outputId": "9a3dca2f-e092-46c7-f59a-d660c4683b86"
   },
   "outputs": [
    {
     "name": "stdout",
     "output_type": "stream",
     "text": [
      "Exactitud del modelo:\n",
      "0.745931681571617\n"
     ]
    }
   ],
   "source": [
    "#Calculo la exactitud del modelo\n",
    "from sklearn.metrics import accuracy_score\n",
    "\n",
    "exactitud5 = accuracy_score(y_test, y_pred)\n",
    "print('Exactitud del modelo:')\n",
    "print(exactitud5)"
   ]
  },
  {
   "cell_type": "code",
   "execution_count": 658,
   "metadata": {
    "colab": {
     "base_uri": "https://localhost:8080/"
    },
    "id": "hLeVwGT4mujK",
    "outputId": "d229544b-a257-4003-ecd6-33bd7aced5e5"
   },
   "outputs": [
    {
     "name": "stdout",
     "output_type": "stream",
     "text": [
      "Sensibilidad del modelo:\n",
      "0.9414414414414415\n"
     ]
    }
   ],
   "source": [
    "#Calculo la sensibilidad del modelo\n",
    "from sklearn.metrics import recall_score\n",
    "\n",
    "sensibilidad5 = recall_score(y_test, y_pred, average=\"binary\", pos_label=1)\n",
    "print('Sensibilidad del modelo:')\n",
    "print(sensibilidad5)"
   ]
  },
  {
   "cell_type": "code",
   "execution_count": 659,
   "metadata": {
    "colab": {
     "base_uri": "https://localhost:8080/"
    },
    "id": "X2GiXyjZzhKm",
    "outputId": "4b7c1ff9-3bea-46b1-9e73-64f8b8b7e7a8"
   },
   "outputs": [
    {
     "name": "stdout",
     "output_type": "stream",
     "text": [
      "Puntaje F1 del modelo:\n",
      "0.8472724068035605\n"
     ]
    }
   ],
   "source": [
    "#Calculo el Puntaje F1 del modelo\n",
    "from sklearn.metrics import f1_score\n",
    "puntajef1 = f1_score(y_test, y_pred, average=\"binary\", pos_label=1)\n",
    "print('Puntaje F1 del modelo:')\n",
    "print(puntajef1)"
   ]
  },
  {
   "cell_type": "markdown",
   "metadata": {
    "id": "UVGvpauUmyy2"
   },
   "source": [
    "# Modelo 6"
   ]
  },
  {
   "cell_type": "code",
   "execution_count": 660,
   "metadata": {
    "id": "4HXk5jOImyzf"
   },
   "outputs": [],
   "source": [
    "Vars_Indep= df[['pagos_realizados', 'precio', 'score_buro']]\n",
    "Var_Dep= df['marca']\n",
    "X= Vars_Indep\n",
    "y= Var_Dep"
   ]
  },
  {
   "cell_type": "code",
   "execution_count": 661,
   "metadata": {
    "id": "-L1WAM1xmyzg"
   },
   "outputs": [],
   "source": [
    "X_train, X_test, y_train, y_test = train_test_split(X, y, test_size=0.3, random_state =None)"
   ]
  },
  {
   "cell_type": "code",
   "execution_count": 662,
   "metadata": {
    "id": "2_vtO-Pjmyzh"
   },
   "outputs": [],
   "source": [
    "escalar = StandardScaler()"
   ]
  },
  {
   "cell_type": "code",
   "execution_count": 663,
   "metadata": {
    "id": "0dH2kC7cmyzi"
   },
   "outputs": [],
   "source": [
    "X_train = escalar.fit_transform(X_train)\n",
    "X_test = escalar.transform(X_test)"
   ]
  },
  {
   "cell_type": "code",
   "execution_count": 664,
   "metadata": {
    "id": "LQUDwwVemyzi"
   },
   "outputs": [],
   "source": [
    "from sklearn.linear_model import LogisticRegression\n",
    "algoritmo = LogisticRegression()"
   ]
  },
  {
   "cell_type": "code",
   "execution_count": 665,
   "metadata": {
    "colab": {
     "base_uri": "https://localhost:8080/",
     "height": 0
    },
    "id": "gstSyen1myzj",
    "outputId": "c97284a0-be4f-4ffe-cc0f-caefcf16989a"
   },
   "outputs": [
    {
     "data": {
      "text/html": [
       "<style>#sk-container-id-41 {color: black;background-color: white;}#sk-container-id-41 pre{padding: 0;}#sk-container-id-41 div.sk-toggleable {background-color: white;}#sk-container-id-41 label.sk-toggleable__label {cursor: pointer;display: block;width: 100%;margin-bottom: 0;padding: 0.3em;box-sizing: border-box;text-align: center;}#sk-container-id-41 label.sk-toggleable__label-arrow:before {content: \"▸\";float: left;margin-right: 0.25em;color: #696969;}#sk-container-id-41 label.sk-toggleable__label-arrow:hover:before {color: black;}#sk-container-id-41 div.sk-estimator:hover label.sk-toggleable__label-arrow:before {color: black;}#sk-container-id-41 div.sk-toggleable__content {max-height: 0;max-width: 0;overflow: hidden;text-align: left;background-color: #f0f8ff;}#sk-container-id-41 div.sk-toggleable__content pre {margin: 0.2em;color: black;border-radius: 0.25em;background-color: #f0f8ff;}#sk-container-id-41 input.sk-toggleable__control:checked~div.sk-toggleable__content {max-height: 200px;max-width: 100%;overflow: auto;}#sk-container-id-41 input.sk-toggleable__control:checked~label.sk-toggleable__label-arrow:before {content: \"▾\";}#sk-container-id-41 div.sk-estimator input.sk-toggleable__control:checked~label.sk-toggleable__label {background-color: #d4ebff;}#sk-container-id-41 div.sk-label input.sk-toggleable__control:checked~label.sk-toggleable__label {background-color: #d4ebff;}#sk-container-id-41 input.sk-hidden--visually {border: 0;clip: rect(1px 1px 1px 1px);clip: rect(1px, 1px, 1px, 1px);height: 1px;margin: -1px;overflow: hidden;padding: 0;position: absolute;width: 1px;}#sk-container-id-41 div.sk-estimator {font-family: monospace;background-color: #f0f8ff;border: 1px dotted black;border-radius: 0.25em;box-sizing: border-box;margin-bottom: 0.5em;}#sk-container-id-41 div.sk-estimator:hover {background-color: #d4ebff;}#sk-container-id-41 div.sk-parallel-item::after {content: \"\";width: 100%;border-bottom: 1px solid gray;flex-grow: 1;}#sk-container-id-41 div.sk-label:hover label.sk-toggleable__label {background-color: #d4ebff;}#sk-container-id-41 div.sk-serial::before {content: \"\";position: absolute;border-left: 1px solid gray;box-sizing: border-box;top: 0;bottom: 0;left: 50%;z-index: 0;}#sk-container-id-41 div.sk-serial {display: flex;flex-direction: column;align-items: center;background-color: white;padding-right: 0.2em;padding-left: 0.2em;position: relative;}#sk-container-id-41 div.sk-item {position: relative;z-index: 1;}#sk-container-id-41 div.sk-parallel {display: flex;align-items: stretch;justify-content: center;background-color: white;position: relative;}#sk-container-id-41 div.sk-item::before, #sk-container-id-41 div.sk-parallel-item::before {content: \"\";position: absolute;border-left: 1px solid gray;box-sizing: border-box;top: 0;bottom: 0;left: 50%;z-index: -1;}#sk-container-id-41 div.sk-parallel-item {display: flex;flex-direction: column;z-index: 1;position: relative;background-color: white;}#sk-container-id-41 div.sk-parallel-item:first-child::after {align-self: flex-end;width: 50%;}#sk-container-id-41 div.sk-parallel-item:last-child::after {align-self: flex-start;width: 50%;}#sk-container-id-41 div.sk-parallel-item:only-child::after {width: 0;}#sk-container-id-41 div.sk-dashed-wrapped {border: 1px dashed gray;margin: 0 0.4em 0.5em 0.4em;box-sizing: border-box;padding-bottom: 0.4em;background-color: white;}#sk-container-id-41 div.sk-label label {font-family: monospace;font-weight: bold;display: inline-block;line-height: 1.2em;}#sk-container-id-41 div.sk-label-container {text-align: center;}#sk-container-id-41 div.sk-container {/* jupyter's `normalize.less` sets `[hidden] { display: none; }` but bootstrap.min.css set `[hidden] { display: none !important; }` so we also need the `!important` here to be able to override the default hidden behavior on the sphinx rendered scikit-learn.org. See: https://github.com/scikit-learn/scikit-learn/issues/21755 */display: inline-block !important;position: relative;}#sk-container-id-41 div.sk-text-repr-fallback {display: none;}</style><div id=\"sk-container-id-41\" class=\"sk-top-container\"><div class=\"sk-text-repr-fallback\"><pre>LogisticRegression()</pre><b>In a Jupyter environment, please rerun this cell to show the HTML representation or trust the notebook. <br />On GitHub, the HTML representation is unable to render, please try loading this page with nbviewer.org.</b></div><div class=\"sk-container\" hidden><div class=\"sk-item\"><div class=\"sk-estimator sk-toggleable\"><input class=\"sk-toggleable__control sk-hidden--visually\" id=\"sk-estimator-id-41\" type=\"checkbox\" checked><label for=\"sk-estimator-id-41\" class=\"sk-toggleable__label sk-toggleable__label-arrow\">LogisticRegression</label><div class=\"sk-toggleable__content\"><pre>LogisticRegression()</pre></div></div></div></div></div>"
      ],
      "text/plain": [
       "LogisticRegression()"
      ]
     },
     "execution_count": 665,
     "metadata": {},
     "output_type": "execute_result"
    }
   ],
   "source": [
    "algoritmo.fit(X_train, y_train)"
   ]
  },
  {
   "cell_type": "code",
   "execution_count": 666,
   "metadata": {
    "colab": {
     "base_uri": "https://localhost:8080/"
    },
    "id": "5Jdj7pDGmyzj",
    "outputId": "26e8b6d1-c5e0-43e4-8eae-2e02bf1a4c79"
   },
   "outputs": [
    {
     "data": {
      "text/plain": [
       "array([1, 1, 1, ..., 1, 1, 1])"
      ]
     },
     "execution_count": 666,
     "metadata": {},
     "output_type": "execute_result"
    }
   ],
   "source": [
    "y_pred = algoritmo.predict(X_test)\n",
    "y_pred"
   ]
  },
  {
   "cell_type": "code",
   "execution_count": 667,
   "metadata": {
    "colab": {
     "base_uri": "https://localhost:8080/"
    },
    "id": "gpaIc4Rgmyzk",
    "outputId": "5e2660df-aa04-49e4-f6b4-5d62963f8ba7"
   },
   "outputs": [
    {
     "name": "stdout",
     "output_type": "stream",
     "text": [
      "Matriz de Confusión:\n",
      "[[   0 2454]\n",
      " [   0 4367]]\n"
     ]
    }
   ],
   "source": [
    "from sklearn.metrics import confusion_matrix\n",
    "matriz = confusion_matrix(y_test, y_pred)\n",
    "print('Matriz de Confusión:')\n",
    "print(matriz)"
   ]
  },
  {
   "cell_type": "code",
   "execution_count": 668,
   "metadata": {
    "colab": {
     "base_uri": "https://localhost:8080/"
    },
    "id": "rUS8FXmemyzk",
    "outputId": "e1aaa99d-0578-40a9-8a4f-04e15d9cb9cf"
   },
   "outputs": [
    {
     "name": "stdout",
     "output_type": "stream",
     "text": [
      "Precisión del modelo:\n",
      "0.6402287054684064\n"
     ]
    }
   ],
   "source": [
    "from sklearn.metrics import precision_score\n",
    "\n",
    "precision6 = precision_score(y_test, y_pred, average=\"binary\", pos_label=1)\n",
    "print('Precisión del modelo:')\n",
    "print(precision6)"
   ]
  },
  {
   "cell_type": "code",
   "execution_count": 669,
   "metadata": {
    "colab": {
     "base_uri": "https://localhost:8080/"
    },
    "id": "XB4UyJBymyzk",
    "outputId": "369adadf-a47e-4100-a29f-74eb2e674325"
   },
   "outputs": [
    {
     "name": "stdout",
     "output_type": "stream",
     "text": [
      "Exactitud del modelo:\n",
      "0.6402287054684064\n"
     ]
    }
   ],
   "source": [
    "#Calculo la exactitud del modelo\n",
    "from sklearn.metrics import accuracy_score\n",
    "\n",
    "exactitud6 = accuracy_score(y_test, y_pred)\n",
    "print('Exactitud del modelo:')\n",
    "print(exactitud6)"
   ]
  },
  {
   "cell_type": "code",
   "execution_count": 670,
   "metadata": {
    "colab": {
     "base_uri": "https://localhost:8080/"
    },
    "id": "3lqjGWZYmyzl",
    "outputId": "a5489bc2-f968-4285-c151-187d92342f93"
   },
   "outputs": [
    {
     "name": "stdout",
     "output_type": "stream",
     "text": [
      "Sensibilidad del modelo:\n",
      "1.0\n"
     ]
    }
   ],
   "source": [
    "#Calculo la sensibilidad del modelo\n",
    "from sklearn.metrics import recall_score\n",
    "\n",
    "sensibilidad6 = recall_score(y_test, y_pred, average=\"binary\", pos_label=1)\n",
    "print('Sensibilidad del modelo:')\n",
    "print(sensibilidad6)"
   ]
  },
  {
   "cell_type": "code",
   "execution_count": 671,
   "metadata": {
    "colab": {
     "base_uri": "https://localhost:8080/"
    },
    "id": "DWlCiXDqzi47",
    "outputId": "3a8e793c-bc91-4d88-e15b-de8a1a8b115a"
   },
   "outputs": [
    {
     "name": "stdout",
     "output_type": "stream",
     "text": [
      "Puntaje F1 del modelo:\n",
      "0.7806578476939579\n"
     ]
    }
   ],
   "source": [
    "#Calculo el Puntaje F1 del modelo\n",
    "from sklearn.metrics import f1_score\n",
    "puntajef1 = f1_score(y_test, y_pred, average=\"binary\", pos_label=1)\n",
    "print('Puntaje F1 del modelo:')\n",
    "print(puntajef1)"
   ]
  },
  {
   "cell_type": "markdown",
   "metadata": {
    "id": "vrPxtTdsmz08"
   },
   "source": [
    "# Modelo 7"
   ]
  },
  {
   "cell_type": "code",
   "execution_count": 672,
   "metadata": {
    "id": "2aTGX6Ltmz09"
   },
   "outputs": [],
   "source": [
    "Vars_Indep= df[['monto_financiado', 'precio', 'monto_accesorios']]\n",
    "Var_Dep= df['marca']\n",
    "X= Vars_Indep\n",
    "y= Var_Dep"
   ]
  },
  {
   "cell_type": "code",
   "execution_count": 673,
   "metadata": {
    "id": "MfdYMM8-mz09"
   },
   "outputs": [],
   "source": [
    "X_train, X_test, y_train, y_test = train_test_split(X, y, test_size=0.3, random_state =None)"
   ]
  },
  {
   "cell_type": "code",
   "execution_count": 674,
   "metadata": {
    "id": "lbyjVkwlmz09"
   },
   "outputs": [],
   "source": [
    "escalar = StandardScaler()"
   ]
  },
  {
   "cell_type": "code",
   "execution_count": 675,
   "metadata": {
    "id": "aW-XknHumz09"
   },
   "outputs": [],
   "source": [
    "X_train = escalar.fit_transform(X_train)\n",
    "X_test = escalar.transform(X_test)"
   ]
  },
  {
   "cell_type": "code",
   "execution_count": 676,
   "metadata": {
    "id": "QiK1PAnSmz0-"
   },
   "outputs": [],
   "source": [
    "from sklearn.linear_model import LogisticRegression\n",
    "algoritmo = LogisticRegression()"
   ]
  },
  {
   "cell_type": "code",
   "execution_count": 677,
   "metadata": {
    "colab": {
     "base_uri": "https://localhost:8080/",
     "height": 0
    },
    "id": "sbFhguaXmz0-",
    "outputId": "d8046bd0-2ff4-4175-ae00-5988c12bb16d"
   },
   "outputs": [
    {
     "data": {
      "text/html": [
       "<style>#sk-container-id-42 {color: black;background-color: white;}#sk-container-id-42 pre{padding: 0;}#sk-container-id-42 div.sk-toggleable {background-color: white;}#sk-container-id-42 label.sk-toggleable__label {cursor: pointer;display: block;width: 100%;margin-bottom: 0;padding: 0.3em;box-sizing: border-box;text-align: center;}#sk-container-id-42 label.sk-toggleable__label-arrow:before {content: \"▸\";float: left;margin-right: 0.25em;color: #696969;}#sk-container-id-42 label.sk-toggleable__label-arrow:hover:before {color: black;}#sk-container-id-42 div.sk-estimator:hover label.sk-toggleable__label-arrow:before {color: black;}#sk-container-id-42 div.sk-toggleable__content {max-height: 0;max-width: 0;overflow: hidden;text-align: left;background-color: #f0f8ff;}#sk-container-id-42 div.sk-toggleable__content pre {margin: 0.2em;color: black;border-radius: 0.25em;background-color: #f0f8ff;}#sk-container-id-42 input.sk-toggleable__control:checked~div.sk-toggleable__content {max-height: 200px;max-width: 100%;overflow: auto;}#sk-container-id-42 input.sk-toggleable__control:checked~label.sk-toggleable__label-arrow:before {content: \"▾\";}#sk-container-id-42 div.sk-estimator input.sk-toggleable__control:checked~label.sk-toggleable__label {background-color: #d4ebff;}#sk-container-id-42 div.sk-label input.sk-toggleable__control:checked~label.sk-toggleable__label {background-color: #d4ebff;}#sk-container-id-42 input.sk-hidden--visually {border: 0;clip: rect(1px 1px 1px 1px);clip: rect(1px, 1px, 1px, 1px);height: 1px;margin: -1px;overflow: hidden;padding: 0;position: absolute;width: 1px;}#sk-container-id-42 div.sk-estimator {font-family: monospace;background-color: #f0f8ff;border: 1px dotted black;border-radius: 0.25em;box-sizing: border-box;margin-bottom: 0.5em;}#sk-container-id-42 div.sk-estimator:hover {background-color: #d4ebff;}#sk-container-id-42 div.sk-parallel-item::after {content: \"\";width: 100%;border-bottom: 1px solid gray;flex-grow: 1;}#sk-container-id-42 div.sk-label:hover label.sk-toggleable__label {background-color: #d4ebff;}#sk-container-id-42 div.sk-serial::before {content: \"\";position: absolute;border-left: 1px solid gray;box-sizing: border-box;top: 0;bottom: 0;left: 50%;z-index: 0;}#sk-container-id-42 div.sk-serial {display: flex;flex-direction: column;align-items: center;background-color: white;padding-right: 0.2em;padding-left: 0.2em;position: relative;}#sk-container-id-42 div.sk-item {position: relative;z-index: 1;}#sk-container-id-42 div.sk-parallel {display: flex;align-items: stretch;justify-content: center;background-color: white;position: relative;}#sk-container-id-42 div.sk-item::before, #sk-container-id-42 div.sk-parallel-item::before {content: \"\";position: absolute;border-left: 1px solid gray;box-sizing: border-box;top: 0;bottom: 0;left: 50%;z-index: -1;}#sk-container-id-42 div.sk-parallel-item {display: flex;flex-direction: column;z-index: 1;position: relative;background-color: white;}#sk-container-id-42 div.sk-parallel-item:first-child::after {align-self: flex-end;width: 50%;}#sk-container-id-42 div.sk-parallel-item:last-child::after {align-self: flex-start;width: 50%;}#sk-container-id-42 div.sk-parallel-item:only-child::after {width: 0;}#sk-container-id-42 div.sk-dashed-wrapped {border: 1px dashed gray;margin: 0 0.4em 0.5em 0.4em;box-sizing: border-box;padding-bottom: 0.4em;background-color: white;}#sk-container-id-42 div.sk-label label {font-family: monospace;font-weight: bold;display: inline-block;line-height: 1.2em;}#sk-container-id-42 div.sk-label-container {text-align: center;}#sk-container-id-42 div.sk-container {/* jupyter's `normalize.less` sets `[hidden] { display: none; }` but bootstrap.min.css set `[hidden] { display: none !important; }` so we also need the `!important` here to be able to override the default hidden behavior on the sphinx rendered scikit-learn.org. See: https://github.com/scikit-learn/scikit-learn/issues/21755 */display: inline-block !important;position: relative;}#sk-container-id-42 div.sk-text-repr-fallback {display: none;}</style><div id=\"sk-container-id-42\" class=\"sk-top-container\"><div class=\"sk-text-repr-fallback\"><pre>LogisticRegression()</pre><b>In a Jupyter environment, please rerun this cell to show the HTML representation or trust the notebook. <br />On GitHub, the HTML representation is unable to render, please try loading this page with nbviewer.org.</b></div><div class=\"sk-container\" hidden><div class=\"sk-item\"><div class=\"sk-estimator sk-toggleable\"><input class=\"sk-toggleable__control sk-hidden--visually\" id=\"sk-estimator-id-42\" type=\"checkbox\" checked><label for=\"sk-estimator-id-42\" class=\"sk-toggleable__label sk-toggleable__label-arrow\">LogisticRegression</label><div class=\"sk-toggleable__content\"><pre>LogisticRegression()</pre></div></div></div></div></div>"
      ],
      "text/plain": [
       "LogisticRegression()"
      ]
     },
     "execution_count": 677,
     "metadata": {},
     "output_type": "execute_result"
    }
   ],
   "source": [
    "algoritmo.fit(X_train, y_train)"
   ]
  },
  {
   "cell_type": "code",
   "execution_count": 678,
   "metadata": {
    "colab": {
     "base_uri": "https://localhost:8080/"
    },
    "id": "qMroQR5fmz0-",
    "outputId": "23bbc7c2-e159-447c-a02d-865215987c6e"
   },
   "outputs": [
    {
     "data": {
      "text/plain": [
       "array([1, 1, 1, ..., 1, 1, 1])"
      ]
     },
     "execution_count": 678,
     "metadata": {},
     "output_type": "execute_result"
    }
   ],
   "source": [
    "y_pred = algoritmo.predict(X_test)\n",
    "y_pred"
   ]
  },
  {
   "cell_type": "code",
   "execution_count": 679,
   "metadata": {
    "colab": {
     "base_uri": "https://localhost:8080/"
    },
    "id": "w_Dn9Il8mz0_",
    "outputId": "da1f4830-e0d6-4a95-bfe3-609c3dd557c9"
   },
   "outputs": [
    {
     "name": "stdout",
     "output_type": "stream",
     "text": [
      "Matriz de Confusión:\n",
      "[[  28 2488]\n",
      " [  31 4274]]\n"
     ]
    }
   ],
   "source": [
    "from sklearn.metrics import confusion_matrix\n",
    "matriz = confusion_matrix(y_test, y_pred)\n",
    "print('Matriz de Confusión:')\n",
    "print(matriz)"
   ]
  },
  {
   "cell_type": "code",
   "execution_count": 680,
   "metadata": {
    "colab": {
     "base_uri": "https://localhost:8080/"
    },
    "id": "MukkmTCYmz0_",
    "outputId": "0750c996-ae21-4475-fcca-1207ea7e5f47"
   },
   "outputs": [
    {
     "name": "stdout",
     "output_type": "stream",
     "text": [
      "Precisión del modelo:\n",
      "0.6320615202602781\n"
     ]
    }
   ],
   "source": [
    "from sklearn.metrics import precision_score\n",
    "\n",
    "precision7 = precision_score(y_test, y_pred, average=\"binary\", pos_label=1)\n",
    "print('Precisión del modelo:')\n",
    "print(precision7)"
   ]
  },
  {
   "cell_type": "code",
   "execution_count": 681,
   "metadata": {
    "colab": {
     "base_uri": "https://localhost:8080/"
    },
    "id": "Fl2JVs56mz0_",
    "outputId": "217d9fd2-7c4b-4fd9-afa0-77e85dde67e5"
   },
   "outputs": [
    {
     "name": "stdout",
     "output_type": "stream",
     "text": [
      "Exactitud del modelo:\n",
      "0.6306993109514734\n"
     ]
    }
   ],
   "source": [
    "#Calculo la exactitud del modelo\n",
    "from sklearn.metrics import accuracy_score\n",
    "\n",
    "exactitud7 = accuracy_score(y_test, y_pred)\n",
    "print('Exactitud del modelo:')\n",
    "print(exactitud7)"
   ]
  },
  {
   "cell_type": "code",
   "execution_count": 682,
   "metadata": {
    "colab": {
     "base_uri": "https://localhost:8080/"
    },
    "id": "42g7ok2Gmz0_",
    "outputId": "3334d380-567f-4536-e7ce-e66ce7ad0459"
   },
   "outputs": [
    {
     "name": "stdout",
     "output_type": "stream",
     "text": [
      "Sensibilidad del modelo:\n",
      "0.9927990708478514\n"
     ]
    }
   ],
   "source": [
    "#Calculo la sensibilidad del modelo\n",
    "from sklearn.metrics import recall_score\n",
    "\n",
    "sensibilidad7 = recall_score(y_test, y_pred, average=\"binary\", pos_label=1)\n",
    "print('Sensibilidad del modelo:')\n",
    "print(sensibilidad7)"
   ]
  },
  {
   "cell_type": "code",
   "execution_count": 683,
   "metadata": {
    "colab": {
     "base_uri": "https://localhost:8080/"
    },
    "id": "nOocZVIGzkfF",
    "outputId": "ff6735b8-bcca-4753-b469-d7b6e54af093"
   },
   "outputs": [
    {
     "name": "stdout",
     "output_type": "stream",
     "text": [
      "Puntaje F1 del modelo:\n",
      "0.7723863739044005\n"
     ]
    }
   ],
   "source": [
    "#Calculo el Puntaje F1 del modelo\n",
    "from sklearn.metrics import f1_score\n",
    "puntajef1 = f1_score(y_test, y_pred, average=\"binary\", pos_label=1)\n",
    "print('Puntaje F1 del modelo:')\n",
    "print(puntajef1)"
   ]
  },
  {
   "cell_type": "markdown",
   "metadata": {
    "id": "9Dad5ky6m0gX"
   },
   "source": [
    "# Modelo 8"
   ]
  },
  {
   "cell_type": "code",
   "execution_count": 684,
   "metadata": {
    "id": "KZspB6xTm0gY"
   },
   "outputs": [],
   "source": [
    "Vars_Indep= df[['riesgo', 'porc_eng', 'edad_cliente']]\n",
    "Var_Dep= df['marca']\n",
    "X= Vars_Indep\n",
    "y= Var_Dep"
   ]
  },
  {
   "cell_type": "code",
   "execution_count": 685,
   "metadata": {
    "id": "rTghySRpm0gY"
   },
   "outputs": [],
   "source": [
    "X_train, X_test, y_train, y_test = train_test_split(X, y, test_size=0.3, random_state =None)"
   ]
  },
  {
   "cell_type": "code",
   "execution_count": 686,
   "metadata": {
    "id": "xbEozTSqm0gZ"
   },
   "outputs": [],
   "source": [
    "escalar = StandardScaler()"
   ]
  },
  {
   "cell_type": "code",
   "execution_count": 687,
   "metadata": {
    "id": "KTaZM0o-m0gZ"
   },
   "outputs": [],
   "source": [
    "X_train = escalar.fit_transform(X_train)\n",
    "X_test = escalar.transform(X_test)"
   ]
  },
  {
   "cell_type": "code",
   "execution_count": 688,
   "metadata": {
    "id": "MZUkF3W5m0gZ"
   },
   "outputs": [],
   "source": [
    "from sklearn.linear_model import LogisticRegression\n",
    "algoritmo = LogisticRegression()"
   ]
  },
  {
   "cell_type": "code",
   "execution_count": 689,
   "metadata": {
    "colab": {
     "base_uri": "https://localhost:8080/",
     "height": 0
    },
    "id": "bhoPR5GEm0ga",
    "outputId": "3ffd1d90-2090-4b69-8f43-b7c2ce51ec77"
   },
   "outputs": [
    {
     "data": {
      "text/html": [
       "<style>#sk-container-id-43 {color: black;background-color: white;}#sk-container-id-43 pre{padding: 0;}#sk-container-id-43 div.sk-toggleable {background-color: white;}#sk-container-id-43 label.sk-toggleable__label {cursor: pointer;display: block;width: 100%;margin-bottom: 0;padding: 0.3em;box-sizing: border-box;text-align: center;}#sk-container-id-43 label.sk-toggleable__label-arrow:before {content: \"▸\";float: left;margin-right: 0.25em;color: #696969;}#sk-container-id-43 label.sk-toggleable__label-arrow:hover:before {color: black;}#sk-container-id-43 div.sk-estimator:hover label.sk-toggleable__label-arrow:before {color: black;}#sk-container-id-43 div.sk-toggleable__content {max-height: 0;max-width: 0;overflow: hidden;text-align: left;background-color: #f0f8ff;}#sk-container-id-43 div.sk-toggleable__content pre {margin: 0.2em;color: black;border-radius: 0.25em;background-color: #f0f8ff;}#sk-container-id-43 input.sk-toggleable__control:checked~div.sk-toggleable__content {max-height: 200px;max-width: 100%;overflow: auto;}#sk-container-id-43 input.sk-toggleable__control:checked~label.sk-toggleable__label-arrow:before {content: \"▾\";}#sk-container-id-43 div.sk-estimator input.sk-toggleable__control:checked~label.sk-toggleable__label {background-color: #d4ebff;}#sk-container-id-43 div.sk-label input.sk-toggleable__control:checked~label.sk-toggleable__label {background-color: #d4ebff;}#sk-container-id-43 input.sk-hidden--visually {border: 0;clip: rect(1px 1px 1px 1px);clip: rect(1px, 1px, 1px, 1px);height: 1px;margin: -1px;overflow: hidden;padding: 0;position: absolute;width: 1px;}#sk-container-id-43 div.sk-estimator {font-family: monospace;background-color: #f0f8ff;border: 1px dotted black;border-radius: 0.25em;box-sizing: border-box;margin-bottom: 0.5em;}#sk-container-id-43 div.sk-estimator:hover {background-color: #d4ebff;}#sk-container-id-43 div.sk-parallel-item::after {content: \"\";width: 100%;border-bottom: 1px solid gray;flex-grow: 1;}#sk-container-id-43 div.sk-label:hover label.sk-toggleable__label {background-color: #d4ebff;}#sk-container-id-43 div.sk-serial::before {content: \"\";position: absolute;border-left: 1px solid gray;box-sizing: border-box;top: 0;bottom: 0;left: 50%;z-index: 0;}#sk-container-id-43 div.sk-serial {display: flex;flex-direction: column;align-items: center;background-color: white;padding-right: 0.2em;padding-left: 0.2em;position: relative;}#sk-container-id-43 div.sk-item {position: relative;z-index: 1;}#sk-container-id-43 div.sk-parallel {display: flex;align-items: stretch;justify-content: center;background-color: white;position: relative;}#sk-container-id-43 div.sk-item::before, #sk-container-id-43 div.sk-parallel-item::before {content: \"\";position: absolute;border-left: 1px solid gray;box-sizing: border-box;top: 0;bottom: 0;left: 50%;z-index: -1;}#sk-container-id-43 div.sk-parallel-item {display: flex;flex-direction: column;z-index: 1;position: relative;background-color: white;}#sk-container-id-43 div.sk-parallel-item:first-child::after {align-self: flex-end;width: 50%;}#sk-container-id-43 div.sk-parallel-item:last-child::after {align-self: flex-start;width: 50%;}#sk-container-id-43 div.sk-parallel-item:only-child::after {width: 0;}#sk-container-id-43 div.sk-dashed-wrapped {border: 1px dashed gray;margin: 0 0.4em 0.5em 0.4em;box-sizing: border-box;padding-bottom: 0.4em;background-color: white;}#sk-container-id-43 div.sk-label label {font-family: monospace;font-weight: bold;display: inline-block;line-height: 1.2em;}#sk-container-id-43 div.sk-label-container {text-align: center;}#sk-container-id-43 div.sk-container {/* jupyter's `normalize.less` sets `[hidden] { display: none; }` but bootstrap.min.css set `[hidden] { display: none !important; }` so we also need the `!important` here to be able to override the default hidden behavior on the sphinx rendered scikit-learn.org. See: https://github.com/scikit-learn/scikit-learn/issues/21755 */display: inline-block !important;position: relative;}#sk-container-id-43 div.sk-text-repr-fallback {display: none;}</style><div id=\"sk-container-id-43\" class=\"sk-top-container\"><div class=\"sk-text-repr-fallback\"><pre>LogisticRegression()</pre><b>In a Jupyter environment, please rerun this cell to show the HTML representation or trust the notebook. <br />On GitHub, the HTML representation is unable to render, please try loading this page with nbviewer.org.</b></div><div class=\"sk-container\" hidden><div class=\"sk-item\"><div class=\"sk-estimator sk-toggleable\"><input class=\"sk-toggleable__control sk-hidden--visually\" id=\"sk-estimator-id-43\" type=\"checkbox\" checked><label for=\"sk-estimator-id-43\" class=\"sk-toggleable__label sk-toggleable__label-arrow\">LogisticRegression</label><div class=\"sk-toggleable__content\"><pre>LogisticRegression()</pre></div></div></div></div></div>"
      ],
      "text/plain": [
       "LogisticRegression()"
      ]
     },
     "execution_count": 689,
     "metadata": {},
     "output_type": "execute_result"
    }
   ],
   "source": [
    "algoritmo.fit(X_train, y_train)"
   ]
  },
  {
   "cell_type": "code",
   "execution_count": 690,
   "metadata": {
    "colab": {
     "base_uri": "https://localhost:8080/"
    },
    "id": "7sR-JKrWm0ga",
    "outputId": "41970c5a-1a3e-4d86-b826-385cfaf75118"
   },
   "outputs": [
    {
     "data": {
      "text/plain": [
       "array([1, 1, 1, ..., 1, 1, 0])"
      ]
     },
     "execution_count": 690,
     "metadata": {},
     "output_type": "execute_result"
    }
   ],
   "source": [
    "y_pred = algoritmo.predict(X_test)\n",
    "y_pred"
   ]
  },
  {
   "cell_type": "code",
   "execution_count": 691,
   "metadata": {
    "colab": {
     "base_uri": "https://localhost:8080/"
    },
    "id": "LHoDTlLsm0ga",
    "outputId": "e798c879-4159-47d4-c563-213a2ac658f9"
   },
   "outputs": [
    {
     "name": "stdout",
     "output_type": "stream",
     "text": [
      "Matriz de Confusión:\n",
      "[[  10 2508]\n",
      " [  20 4283]]\n"
     ]
    }
   ],
   "source": [
    "from sklearn.metrics import confusion_matrix\n",
    "matriz = confusion_matrix(y_test, y_pred)\n",
    "print('Matriz de Confusión:')\n",
    "print(matriz)"
   ]
  },
  {
   "cell_type": "code",
   "execution_count": 692,
   "metadata": {
    "colab": {
     "base_uri": "https://localhost:8080/"
    },
    "id": "6NHoJb3Cm0gb",
    "outputId": "bb8a0d02-fe9e-43e6-bdb2-4cf8f98e80b2"
   },
   "outputs": [
    {
     "name": "stdout",
     "output_type": "stream",
     "text": [
      "Precisión del modelo:\n",
      "0.6306876748637903\n"
     ]
    }
   ],
   "source": [
    "from sklearn.metrics import precision_score\n",
    "\n",
    "precision8 = precision_score(y_test, y_pred, average=\"binary\", pos_label=1)\n",
    "print('Precisión del modelo:')\n",
    "print(precision8)"
   ]
  },
  {
   "cell_type": "code",
   "execution_count": 693,
   "metadata": {
    "colab": {
     "base_uri": "https://localhost:8080/"
    },
    "id": "jezxihW1m0gb",
    "outputId": "32063913-a5c8-43f9-8fa1-5772bbd59942"
   },
   "outputs": [
    {
     "name": "stdout",
     "output_type": "stream",
     "text": [
      "Exactitud del modelo:\n",
      "0.6293798563260519\n"
     ]
    }
   ],
   "source": [
    "#Calculo la exactitud del modelo\n",
    "from sklearn.metrics import accuracy_score\n",
    "\n",
    "exactitud8 = accuracy_score(y_test, y_pred)\n",
    "print('Exactitud del modelo:')\n",
    "print(exactitud8)"
   ]
  },
  {
   "cell_type": "code",
   "execution_count": 694,
   "metadata": {
    "colab": {
     "base_uri": "https://localhost:8080/"
    },
    "id": "jc_EhgkOm0gc",
    "outputId": "b3856a2e-3d2f-4abc-a4d3-8f506bb5f229"
   },
   "outputs": [
    {
     "name": "stdout",
     "output_type": "stream",
     "text": [
      "Sensibilidad del modelo:\n",
      "0.9953520799442249\n"
     ]
    }
   ],
   "source": [
    "#Calculo la sensibilidad del modelo\n",
    "from sklearn.metrics import recall_score\n",
    "\n",
    "sensibilidad8 = recall_score(y_test, y_pred, average=\"binary\", pos_label=1)\n",
    "print('Sensibilidad del modelo:')\n",
    "print(sensibilidad8)"
   ]
  },
  {
   "cell_type": "code",
   "execution_count": 695,
   "metadata": {
    "colab": {
     "base_uri": "https://localhost:8080/"
    },
    "id": "S_vBX5n1zmVi",
    "outputId": "96ff763c-6fc1-45e2-f6f2-451371994488"
   },
   "outputs": [
    {
     "name": "stdout",
     "output_type": "stream",
     "text": [
      "Puntaje F1 del modelo:\n",
      "0.7721290787813233\n"
     ]
    }
   ],
   "source": [
    "#Calculo el Puntaje F1 del modelo\n",
    "from sklearn.metrics import f1_score\n",
    "puntajef1 = f1_score(y_test, y_pred, average=\"binary\", pos_label=1)\n",
    "print('Puntaje F1 del modelo:')\n",
    "print(puntajef1)"
   ]
  },
  {
   "cell_type": "markdown",
   "metadata": {
    "id": "xZCKVyg9m24_"
   },
   "source": [
    "# Modelo 9"
   ]
  },
  {
   "cell_type": "code",
   "execution_count": 696,
   "metadata": {
    "id": "01fXTRFnm25T"
   },
   "outputs": [],
   "source": [
    "Vars_Indep= df[['pagos_realizados', 'precio', 'reautorizacion']]\n",
    "Var_Dep= df['modelo']\n",
    "X= Vars_Indep\n",
    "y= Var_Dep"
   ]
  },
  {
   "cell_type": "code",
   "execution_count": 697,
   "metadata": {
    "id": "0HU6UtCFm25T"
   },
   "outputs": [],
   "source": [
    "X_train, X_test, y_train, y_test = train_test_split(X, y, test_size=0.3, random_state =None)"
   ]
  },
  {
   "cell_type": "code",
   "execution_count": 698,
   "metadata": {
    "id": "m-NCc4pwm25U"
   },
   "outputs": [],
   "source": [
    "escalar = StandardScaler()"
   ]
  },
  {
   "cell_type": "code",
   "execution_count": 699,
   "metadata": {
    "id": "nazYlIkmm25U"
   },
   "outputs": [],
   "source": [
    "X_train = escalar.fit_transform(X_train)\n",
    "X_test = escalar.transform(X_test)"
   ]
  },
  {
   "cell_type": "code",
   "execution_count": 700,
   "metadata": {
    "id": "KqlvdFVhm25U"
   },
   "outputs": [],
   "source": [
    "from sklearn.linear_model import LogisticRegression\n",
    "algoritmo = LogisticRegression()"
   ]
  },
  {
   "cell_type": "code",
   "execution_count": 701,
   "metadata": {
    "colab": {
     "base_uri": "https://localhost:8080/",
     "height": 0
    },
    "id": "bRYOP-ZUm25U",
    "outputId": "5564e7b5-4196-4b57-e97e-a3f8f4969a30"
   },
   "outputs": [
    {
     "data": {
      "text/html": [
       "<style>#sk-container-id-44 {color: black;background-color: white;}#sk-container-id-44 pre{padding: 0;}#sk-container-id-44 div.sk-toggleable {background-color: white;}#sk-container-id-44 label.sk-toggleable__label {cursor: pointer;display: block;width: 100%;margin-bottom: 0;padding: 0.3em;box-sizing: border-box;text-align: center;}#sk-container-id-44 label.sk-toggleable__label-arrow:before {content: \"▸\";float: left;margin-right: 0.25em;color: #696969;}#sk-container-id-44 label.sk-toggleable__label-arrow:hover:before {color: black;}#sk-container-id-44 div.sk-estimator:hover label.sk-toggleable__label-arrow:before {color: black;}#sk-container-id-44 div.sk-toggleable__content {max-height: 0;max-width: 0;overflow: hidden;text-align: left;background-color: #f0f8ff;}#sk-container-id-44 div.sk-toggleable__content pre {margin: 0.2em;color: black;border-radius: 0.25em;background-color: #f0f8ff;}#sk-container-id-44 input.sk-toggleable__control:checked~div.sk-toggleable__content {max-height: 200px;max-width: 100%;overflow: auto;}#sk-container-id-44 input.sk-toggleable__control:checked~label.sk-toggleable__label-arrow:before {content: \"▾\";}#sk-container-id-44 div.sk-estimator input.sk-toggleable__control:checked~label.sk-toggleable__label {background-color: #d4ebff;}#sk-container-id-44 div.sk-label input.sk-toggleable__control:checked~label.sk-toggleable__label {background-color: #d4ebff;}#sk-container-id-44 input.sk-hidden--visually {border: 0;clip: rect(1px 1px 1px 1px);clip: rect(1px, 1px, 1px, 1px);height: 1px;margin: -1px;overflow: hidden;padding: 0;position: absolute;width: 1px;}#sk-container-id-44 div.sk-estimator {font-family: monospace;background-color: #f0f8ff;border: 1px dotted black;border-radius: 0.25em;box-sizing: border-box;margin-bottom: 0.5em;}#sk-container-id-44 div.sk-estimator:hover {background-color: #d4ebff;}#sk-container-id-44 div.sk-parallel-item::after {content: \"\";width: 100%;border-bottom: 1px solid gray;flex-grow: 1;}#sk-container-id-44 div.sk-label:hover label.sk-toggleable__label {background-color: #d4ebff;}#sk-container-id-44 div.sk-serial::before {content: \"\";position: absolute;border-left: 1px solid gray;box-sizing: border-box;top: 0;bottom: 0;left: 50%;z-index: 0;}#sk-container-id-44 div.sk-serial {display: flex;flex-direction: column;align-items: center;background-color: white;padding-right: 0.2em;padding-left: 0.2em;position: relative;}#sk-container-id-44 div.sk-item {position: relative;z-index: 1;}#sk-container-id-44 div.sk-parallel {display: flex;align-items: stretch;justify-content: center;background-color: white;position: relative;}#sk-container-id-44 div.sk-item::before, #sk-container-id-44 div.sk-parallel-item::before {content: \"\";position: absolute;border-left: 1px solid gray;box-sizing: border-box;top: 0;bottom: 0;left: 50%;z-index: -1;}#sk-container-id-44 div.sk-parallel-item {display: flex;flex-direction: column;z-index: 1;position: relative;background-color: white;}#sk-container-id-44 div.sk-parallel-item:first-child::after {align-self: flex-end;width: 50%;}#sk-container-id-44 div.sk-parallel-item:last-child::after {align-self: flex-start;width: 50%;}#sk-container-id-44 div.sk-parallel-item:only-child::after {width: 0;}#sk-container-id-44 div.sk-dashed-wrapped {border: 1px dashed gray;margin: 0 0.4em 0.5em 0.4em;box-sizing: border-box;padding-bottom: 0.4em;background-color: white;}#sk-container-id-44 div.sk-label label {font-family: monospace;font-weight: bold;display: inline-block;line-height: 1.2em;}#sk-container-id-44 div.sk-label-container {text-align: center;}#sk-container-id-44 div.sk-container {/* jupyter's `normalize.less` sets `[hidden] { display: none; }` but bootstrap.min.css set `[hidden] { display: none !important; }` so we also need the `!important` here to be able to override the default hidden behavior on the sphinx rendered scikit-learn.org. See: https://github.com/scikit-learn/scikit-learn/issues/21755 */display: inline-block !important;position: relative;}#sk-container-id-44 div.sk-text-repr-fallback {display: none;}</style><div id=\"sk-container-id-44\" class=\"sk-top-container\"><div class=\"sk-text-repr-fallback\"><pre>LogisticRegression()</pre><b>In a Jupyter environment, please rerun this cell to show the HTML representation or trust the notebook. <br />On GitHub, the HTML representation is unable to render, please try loading this page with nbviewer.org.</b></div><div class=\"sk-container\" hidden><div class=\"sk-item\"><div class=\"sk-estimator sk-toggleable\"><input class=\"sk-toggleable__control sk-hidden--visually\" id=\"sk-estimator-id-44\" type=\"checkbox\" checked><label for=\"sk-estimator-id-44\" class=\"sk-toggleable__label sk-toggleable__label-arrow\">LogisticRegression</label><div class=\"sk-toggleable__content\"><pre>LogisticRegression()</pre></div></div></div></div></div>"
      ],
      "text/plain": [
       "LogisticRegression()"
      ]
     },
     "execution_count": 701,
     "metadata": {},
     "output_type": "execute_result"
    }
   ],
   "source": [
    "algoritmo.fit(X_train, y_train)"
   ]
  },
  {
   "cell_type": "code",
   "execution_count": 702,
   "metadata": {
    "colab": {
     "base_uri": "https://localhost:8080/"
    },
    "id": "03qgBCR1m25U",
    "outputId": "7e785eda-607d-4ad9-ee16-d08cd95395be"
   },
   "outputs": [
    {
     "data": {
      "text/plain": [
       "array([0, 0, 0, ..., 0, 1, 0])"
      ]
     },
     "execution_count": 702,
     "metadata": {},
     "output_type": "execute_result"
    }
   ],
   "source": [
    "y_pred = algoritmo.predict(X_test)\n",
    "y_pred"
   ]
  },
  {
   "cell_type": "code",
   "execution_count": 703,
   "metadata": {
    "colab": {
     "base_uri": "https://localhost:8080/"
    },
    "id": "-IRZWgvtm25U",
    "outputId": "20275166-f620-409b-de9f-2897e3d0b1a7"
   },
   "outputs": [
    {
     "name": "stdout",
     "output_type": "stream",
     "text": [
      "Matriz de Confusión:\n",
      "[[4708   41]\n",
      " [2055   17]]\n"
     ]
    }
   ],
   "source": [
    "from sklearn.metrics import confusion_matrix\n",
    "matriz = confusion_matrix(y_test, y_pred)\n",
    "print('Matriz de Confusión:')\n",
    "print(matriz)"
   ]
  },
  {
   "cell_type": "code",
   "execution_count": 704,
   "metadata": {
    "colab": {
     "base_uri": "https://localhost:8080/"
    },
    "id": "JRMhldlpm25V",
    "outputId": "d4dd4953-bc39-4e77-eb2c-f6d17dec4b6c"
   },
   "outputs": [
    {
     "name": "stdout",
     "output_type": "stream",
     "text": [
      "Precisión del modelo:\n",
      "0.29310344827586204\n"
     ]
    }
   ],
   "source": [
    "from sklearn.metrics import precision_score\n",
    "\n",
    "precision9 = precision_score(y_test, y_pred, average=\"binary\", pos_label=1)\n",
    "print('Precisión del modelo:')\n",
    "print(precision9)"
   ]
  },
  {
   "cell_type": "code",
   "execution_count": 705,
   "metadata": {
    "colab": {
     "base_uri": "https://localhost:8080/"
    },
    "id": "EAXWg-Hlm25V",
    "outputId": "9d07f7f1-3cc4-4967-a4e0-10b1f9192a94"
   },
   "outputs": [
    {
     "name": "stdout",
     "output_type": "stream",
     "text": [
      "Exactitud del modelo:\n",
      "0.6927136783462835\n"
     ]
    }
   ],
   "source": [
    "#Calculo la exactitud del modelo\n",
    "from sklearn.metrics import accuracy_score\n",
    "\n",
    "exactitud9 = accuracy_score(y_test, y_pred)\n",
    "print('Exactitud del modelo:')\n",
    "print(exactitud9)"
   ]
  },
  {
   "cell_type": "code",
   "execution_count": 706,
   "metadata": {
    "colab": {
     "base_uri": "https://localhost:8080/"
    },
    "id": "UMTDT5Pmm25V",
    "outputId": "594f69f2-2312-44d7-8989-4ef5c57eabd4"
   },
   "outputs": [
    {
     "name": "stdout",
     "output_type": "stream",
     "text": [
      "Sensibilidad del modelo:\n",
      "0.008204633204633204\n"
     ]
    }
   ],
   "source": [
    "#Calculo la sensibilidad del modelo\n",
    "from sklearn.metrics import recall_score\n",
    "\n",
    "sensibilidad9 = recall_score(y_test, y_pred, average=\"binary\", pos_label=1)\n",
    "print('Sensibilidad del modelo:')\n",
    "print(sensibilidad9)"
   ]
  },
  {
   "cell_type": "code",
   "execution_count": 707,
   "metadata": {
    "colab": {
     "base_uri": "https://localhost:8080/"
    },
    "id": "n7b4f42Vzn9S",
    "outputId": "6d36d2a4-c2b0-4e2d-d84f-3515dfbce3e8"
   },
   "outputs": [
    {
     "name": "stdout",
     "output_type": "stream",
     "text": [
      "Puntaje F1 del modelo:\n",
      "0.015962441314553988\n"
     ]
    }
   ],
   "source": [
    "#Calculo el Puntaje F1 del modelo\n",
    "from sklearn.metrics import f1_score\n",
    "puntajef1 = f1_score(y_test, y_pred, average=\"binary\", pos_label=1)\n",
    "print('Puntaje F1 del modelo:')\n",
    "print(puntajef1)"
   ]
  },
  {
   "cell_type": "markdown",
   "metadata": {
    "id": "atrFH_DMm3j2"
   },
   "source": [
    "# Modelo 10"
   ]
  },
  {
   "cell_type": "code",
   "execution_count": 708,
   "metadata": {
    "id": "E4-Hw5LEm3j3"
   },
   "outputs": [],
   "source": [
    "Vars_Indep= df[['edad_cliente', 'precio', 'score_buro']]\n",
    "Var_Dep= df['marca']\n",
    "X= Vars_Indep\n",
    "y= Var_Dep"
   ]
  },
  {
   "cell_type": "code",
   "execution_count": 709,
   "metadata": {
    "id": "vmgNyEyGm3j4"
   },
   "outputs": [],
   "source": [
    "X_train, X_test, y_train, y_test = train_test_split(X, y, test_size=0.3, random_state =None)"
   ]
  },
  {
   "cell_type": "code",
   "execution_count": 710,
   "metadata": {
    "id": "vLmcyerdm3j5"
   },
   "outputs": [],
   "source": [
    "escalar = StandardScaler()"
   ]
  },
  {
   "cell_type": "code",
   "execution_count": 711,
   "metadata": {
    "id": "5cmV5npdm3j6"
   },
   "outputs": [],
   "source": [
    "X_train = escalar.fit_transform(X_train)\n",
    "X_test = escalar.transform(X_test)"
   ]
  },
  {
   "cell_type": "code",
   "execution_count": 712,
   "metadata": {
    "id": "vKXaKw2Em3j6"
   },
   "outputs": [],
   "source": [
    "from sklearn.linear_model import LogisticRegression\n",
    "algoritmo = LogisticRegression()"
   ]
  },
  {
   "cell_type": "code",
   "execution_count": 713,
   "metadata": {
    "colab": {
     "base_uri": "https://localhost:8080/",
     "height": 0
    },
    "id": "yVl_Qq2Hm3j6",
    "outputId": "eebd7c3a-e1a1-4508-af0d-82884f98da1c"
   },
   "outputs": [
    {
     "data": {
      "text/html": [
       "<style>#sk-container-id-45 {color: black;background-color: white;}#sk-container-id-45 pre{padding: 0;}#sk-container-id-45 div.sk-toggleable {background-color: white;}#sk-container-id-45 label.sk-toggleable__label {cursor: pointer;display: block;width: 100%;margin-bottom: 0;padding: 0.3em;box-sizing: border-box;text-align: center;}#sk-container-id-45 label.sk-toggleable__label-arrow:before {content: \"▸\";float: left;margin-right: 0.25em;color: #696969;}#sk-container-id-45 label.sk-toggleable__label-arrow:hover:before {color: black;}#sk-container-id-45 div.sk-estimator:hover label.sk-toggleable__label-arrow:before {color: black;}#sk-container-id-45 div.sk-toggleable__content {max-height: 0;max-width: 0;overflow: hidden;text-align: left;background-color: #f0f8ff;}#sk-container-id-45 div.sk-toggleable__content pre {margin: 0.2em;color: black;border-radius: 0.25em;background-color: #f0f8ff;}#sk-container-id-45 input.sk-toggleable__control:checked~div.sk-toggleable__content {max-height: 200px;max-width: 100%;overflow: auto;}#sk-container-id-45 input.sk-toggleable__control:checked~label.sk-toggleable__label-arrow:before {content: \"▾\";}#sk-container-id-45 div.sk-estimator input.sk-toggleable__control:checked~label.sk-toggleable__label {background-color: #d4ebff;}#sk-container-id-45 div.sk-label input.sk-toggleable__control:checked~label.sk-toggleable__label {background-color: #d4ebff;}#sk-container-id-45 input.sk-hidden--visually {border: 0;clip: rect(1px 1px 1px 1px);clip: rect(1px, 1px, 1px, 1px);height: 1px;margin: -1px;overflow: hidden;padding: 0;position: absolute;width: 1px;}#sk-container-id-45 div.sk-estimator {font-family: monospace;background-color: #f0f8ff;border: 1px dotted black;border-radius: 0.25em;box-sizing: border-box;margin-bottom: 0.5em;}#sk-container-id-45 div.sk-estimator:hover {background-color: #d4ebff;}#sk-container-id-45 div.sk-parallel-item::after {content: \"\";width: 100%;border-bottom: 1px solid gray;flex-grow: 1;}#sk-container-id-45 div.sk-label:hover label.sk-toggleable__label {background-color: #d4ebff;}#sk-container-id-45 div.sk-serial::before {content: \"\";position: absolute;border-left: 1px solid gray;box-sizing: border-box;top: 0;bottom: 0;left: 50%;z-index: 0;}#sk-container-id-45 div.sk-serial {display: flex;flex-direction: column;align-items: center;background-color: white;padding-right: 0.2em;padding-left: 0.2em;position: relative;}#sk-container-id-45 div.sk-item {position: relative;z-index: 1;}#sk-container-id-45 div.sk-parallel {display: flex;align-items: stretch;justify-content: center;background-color: white;position: relative;}#sk-container-id-45 div.sk-item::before, #sk-container-id-45 div.sk-parallel-item::before {content: \"\";position: absolute;border-left: 1px solid gray;box-sizing: border-box;top: 0;bottom: 0;left: 50%;z-index: -1;}#sk-container-id-45 div.sk-parallel-item {display: flex;flex-direction: column;z-index: 1;position: relative;background-color: white;}#sk-container-id-45 div.sk-parallel-item:first-child::after {align-self: flex-end;width: 50%;}#sk-container-id-45 div.sk-parallel-item:last-child::after {align-self: flex-start;width: 50%;}#sk-container-id-45 div.sk-parallel-item:only-child::after {width: 0;}#sk-container-id-45 div.sk-dashed-wrapped {border: 1px dashed gray;margin: 0 0.4em 0.5em 0.4em;box-sizing: border-box;padding-bottom: 0.4em;background-color: white;}#sk-container-id-45 div.sk-label label {font-family: monospace;font-weight: bold;display: inline-block;line-height: 1.2em;}#sk-container-id-45 div.sk-label-container {text-align: center;}#sk-container-id-45 div.sk-container {/* jupyter's `normalize.less` sets `[hidden] { display: none; }` but bootstrap.min.css set `[hidden] { display: none !important; }` so we also need the `!important` here to be able to override the default hidden behavior on the sphinx rendered scikit-learn.org. See: https://github.com/scikit-learn/scikit-learn/issues/21755 */display: inline-block !important;position: relative;}#sk-container-id-45 div.sk-text-repr-fallback {display: none;}</style><div id=\"sk-container-id-45\" class=\"sk-top-container\"><div class=\"sk-text-repr-fallback\"><pre>LogisticRegression()</pre><b>In a Jupyter environment, please rerun this cell to show the HTML representation or trust the notebook. <br />On GitHub, the HTML representation is unable to render, please try loading this page with nbviewer.org.</b></div><div class=\"sk-container\" hidden><div class=\"sk-item\"><div class=\"sk-estimator sk-toggleable\"><input class=\"sk-toggleable__control sk-hidden--visually\" id=\"sk-estimator-id-45\" type=\"checkbox\" checked><label for=\"sk-estimator-id-45\" class=\"sk-toggleable__label sk-toggleable__label-arrow\">LogisticRegression</label><div class=\"sk-toggleable__content\"><pre>LogisticRegression()</pre></div></div></div></div></div>"
      ],
      "text/plain": [
       "LogisticRegression()"
      ]
     },
     "execution_count": 713,
     "metadata": {},
     "output_type": "execute_result"
    }
   ],
   "source": [
    "algoritmo.fit(X_train, y_train)"
   ]
  },
  {
   "cell_type": "code",
   "execution_count": 714,
   "metadata": {
    "colab": {
     "base_uri": "https://localhost:8080/"
    },
    "id": "Ftoq_BItm3j7",
    "outputId": "7b247114-6929-47bd-d5f6-77d31b65d863"
   },
   "outputs": [
    {
     "data": {
      "text/plain": [
       "array([1, 1, 1, ..., 1, 1, 1])"
      ]
     },
     "execution_count": 714,
     "metadata": {},
     "output_type": "execute_result"
    }
   ],
   "source": [
    "y_pred = algoritmo.predict(X_test)\n",
    "y_pred"
   ]
  },
  {
   "cell_type": "code",
   "execution_count": 715,
   "metadata": {
    "colab": {
     "base_uri": "https://localhost:8080/"
    },
    "id": "WLtTmkzfm3j7",
    "outputId": "8f0e3d3a-6aeb-4fc7-a349-4effcd014179"
   },
   "outputs": [
    {
     "name": "stdout",
     "output_type": "stream",
     "text": [
      "Matriz de Confusión:\n",
      "[[  10 2446]\n",
      " [  16 4349]]\n"
     ]
    }
   ],
   "source": [
    "from sklearn.metrics import confusion_matrix\n",
    "matriz = confusion_matrix(y_test, y_pred)\n",
    "print('Matriz de Confusión:')\n",
    "print(matriz)"
   ]
  },
  {
   "cell_type": "code",
   "execution_count": 716,
   "metadata": {
    "colab": {
     "base_uri": "https://localhost:8080/"
    },
    "id": "z6gqaWDtm3j8",
    "outputId": "f7cf35dd-056f-47a9-dd13-77d1c90f167a"
   },
   "outputs": [
    {
     "name": "stdout",
     "output_type": "stream",
     "text": [
      "Precisión del modelo:\n",
      "0.6400294334069169\n"
     ]
    }
   ],
   "source": [
    "from sklearn.metrics import precision_score\n",
    "\n",
    "precision10 = precision_score(y_test, y_pred, average=\"binary\", pos_label=1)\n",
    "print('Precisión del modelo:')\n",
    "print(precision10)"
   ]
  },
  {
   "cell_type": "code",
   "execution_count": 717,
   "metadata": {
    "colab": {
     "base_uri": "https://localhost:8080/"
    },
    "id": "_pbS1E_Rm3j8",
    "outputId": "985cf585-837e-470e-e2b1-65c991152aba"
   },
   "outputs": [
    {
     "name": "stdout",
     "output_type": "stream",
     "text": [
      "Exactitud del modelo:\n",
      "0.6390558569124761\n"
     ]
    }
   ],
   "source": [
    "#Calculo la exactitud del modelo\n",
    "from sklearn.metrics import accuracy_score\n",
    "\n",
    "exactitud10 = accuracy_score(y_test, y_pred)\n",
    "print('Exactitud del modelo:')\n",
    "print(exactitud10)"
   ]
  },
  {
   "cell_type": "code",
   "execution_count": 718,
   "metadata": {
    "colab": {
     "base_uri": "https://localhost:8080/"
    },
    "id": "bPqTtnCFm3j8",
    "outputId": "d770c22c-f16a-4781-dd4c-db5b8532814a"
   },
   "outputs": [
    {
     "name": "stdout",
     "output_type": "stream",
     "text": [
      "Sensibilidad del modelo:\n",
      "0.9963344788087056\n"
     ]
    }
   ],
   "source": [
    "#Calculo la sensibilidad del modelo\n",
    "from sklearn.metrics import recall_score\n",
    "\n",
    "sensibilidad10 = recall_score(y_test, y_pred, average=\"binary\", pos_label=1)\n",
    "print('Sensibilidad del modelo:')\n",
    "print(sensibilidad10)"
   ]
  },
  {
   "cell_type": "code",
   "execution_count": 719,
   "metadata": {
    "colab": {
     "base_uri": "https://localhost:8080/"
    },
    "id": "f_fIBFv_zqAG",
    "outputId": "5aeb5de9-bbb8-4c6b-b193-37542a5a1844"
   },
   "outputs": [
    {
     "name": "stdout",
     "output_type": "stream",
     "text": [
      "Puntaje F1 del modelo:\n",
      "0.7793906810035843\n"
     ]
    }
   ],
   "source": [
    "#Calculo el Puntaje F1 del modelo\n",
    "from sklearn.metrics import f1_score\n",
    "puntajef1 = f1_score(y_test, y_pred, average=\"binary\", pos_label=1)\n",
    "print('Puntaje F1 del modelo:')\n",
    "print(puntajef1)"
   ]
  },
  {
   "cell_type": "markdown",
   "metadata": {
    "id": "jmVdYskGwDYA"
   },
   "source": [
    "# Tablas"
   ]
  },
  {
   "cell_type": "code",
   "execution_count": 720,
   "metadata": {
    "colab": {
     "base_uri": "https://localhost:8080/",
     "height": 363
    },
    "id": "dae3u3tvydTX",
    "outputId": "04dc792f-e872-4a86-c910-96e9672bfc5e"
   },
   "outputs": [
    {
     "data": {
      "text/html": [
       "\n",
       "  <div id=\"df-765b7841-0efb-48fa-a28f-f8279660b370\" class=\"colab-df-container\">\n",
       "    <div>\n",
       "<style scoped>\n",
       "    .dataframe tbody tr th:only-of-type {\n",
       "        vertical-align: middle;\n",
       "    }\n",
       "\n",
       "    .dataframe tbody tr th {\n",
       "        vertical-align: top;\n",
       "    }\n",
       "\n",
       "    .dataframe thead th {\n",
       "        text-align: right;\n",
       "    }\n",
       "</style>\n",
       "<table border=\"1\" class=\"dataframe\">\n",
       "  <thead>\n",
       "    <tr style=\"text-align: right;\">\n",
       "      <th></th>\n",
       "      <th>Precision</th>\n",
       "      <th>Exactitud</th>\n",
       "      <th>Sensibilidad</th>\n",
       "    </tr>\n",
       "  </thead>\n",
       "  <tbody>\n",
       "    <tr>\n",
       "      <th>Modelo 1</th>\n",
       "      <td>0.776216</td>\n",
       "      <td>0.757367</td>\n",
       "      <td>0.946788</td>\n",
       "    </tr>\n",
       "    <tr>\n",
       "      <th>Modelo 2</th>\n",
       "      <td>0.769267</td>\n",
       "      <td>0.755314</td>\n",
       "      <td>0.962898</td>\n",
       "    </tr>\n",
       "    <tr>\n",
       "      <th>Modelo 3</th>\n",
       "      <td>0.749743</td>\n",
       "      <td>0.749743</td>\n",
       "      <td>1.000000</td>\n",
       "    </tr>\n",
       "    <tr>\n",
       "      <th>Modelo 4</th>\n",
       "      <td>0.751796</td>\n",
       "      <td>0.751796</td>\n",
       "      <td>1.000000</td>\n",
       "    </tr>\n",
       "    <tr>\n",
       "      <th>Modelo 5</th>\n",
       "      <td>0.770229</td>\n",
       "      <td>0.745932</td>\n",
       "      <td>0.941441</td>\n",
       "    </tr>\n",
       "    <tr>\n",
       "      <th>Modelo 6</th>\n",
       "      <td>0.640229</td>\n",
       "      <td>0.640229</td>\n",
       "      <td>1.000000</td>\n",
       "    </tr>\n",
       "    <tr>\n",
       "      <th>Modelo 7</th>\n",
       "      <td>0.632062</td>\n",
       "      <td>0.630699</td>\n",
       "      <td>0.992799</td>\n",
       "    </tr>\n",
       "    <tr>\n",
       "      <th>Modelo 8</th>\n",
       "      <td>0.630688</td>\n",
       "      <td>0.629380</td>\n",
       "      <td>0.995352</td>\n",
       "    </tr>\n",
       "    <tr>\n",
       "      <th>Modelo 9</th>\n",
       "      <td>0.293103</td>\n",
       "      <td>0.692714</td>\n",
       "      <td>0.008205</td>\n",
       "    </tr>\n",
       "    <tr>\n",
       "      <th>Modelo 10</th>\n",
       "      <td>0.640029</td>\n",
       "      <td>0.639056</td>\n",
       "      <td>0.996334</td>\n",
       "    </tr>\n",
       "  </tbody>\n",
       "</table>\n",
       "</div>\n",
       "    <div class=\"colab-df-buttons\">\n",
       "\n",
       "  <div class=\"colab-df-container\">\n",
       "    <button class=\"colab-df-convert\" onclick=\"convertToInteractive('df-765b7841-0efb-48fa-a28f-f8279660b370')\"\n",
       "            title=\"Convert this dataframe to an interactive table.\"\n",
       "            style=\"display:none;\">\n",
       "\n",
       "  <svg xmlns=\"http://www.w3.org/2000/svg\" height=\"24px\" viewBox=\"0 -960 960 960\">\n",
       "    <path d=\"M120-120v-720h720v720H120Zm60-500h600v-160H180v160Zm220 220h160v-160H400v160Zm0 220h160v-160H400v160ZM180-400h160v-160H180v160Zm440 0h160v-160H620v160ZM180-180h160v-160H180v160Zm440 0h160v-160H620v160Z\"/>\n",
       "  </svg>\n",
       "    </button>\n",
       "\n",
       "  <style>\n",
       "    .colab-df-container {\n",
       "      display:flex;\n",
       "      gap: 12px;\n",
       "    }\n",
       "\n",
       "    .colab-df-convert {\n",
       "      background-color: #E8F0FE;\n",
       "      border: none;\n",
       "      border-radius: 50%;\n",
       "      cursor: pointer;\n",
       "      display: none;\n",
       "      fill: #1967D2;\n",
       "      height: 32px;\n",
       "      padding: 0 0 0 0;\n",
       "      width: 32px;\n",
       "    }\n",
       "\n",
       "    .colab-df-convert:hover {\n",
       "      background-color: #E2EBFA;\n",
       "      box-shadow: 0px 1px 2px rgba(60, 64, 67, 0.3), 0px 1px 3px 1px rgba(60, 64, 67, 0.15);\n",
       "      fill: #174EA6;\n",
       "    }\n",
       "\n",
       "    .colab-df-buttons div {\n",
       "      margin-bottom: 4px;\n",
       "    }\n",
       "\n",
       "    [theme=dark] .colab-df-convert {\n",
       "      background-color: #3B4455;\n",
       "      fill: #D2E3FC;\n",
       "    }\n",
       "\n",
       "    [theme=dark] .colab-df-convert:hover {\n",
       "      background-color: #434B5C;\n",
       "      box-shadow: 0px 1px 3px 1px rgba(0, 0, 0, 0.15);\n",
       "      filter: drop-shadow(0px 1px 2px rgba(0, 0, 0, 0.3));\n",
       "      fill: #FFFFFF;\n",
       "    }\n",
       "  </style>\n",
       "\n",
       "    <script>\n",
       "      const buttonEl =\n",
       "        document.querySelector('#df-765b7841-0efb-48fa-a28f-f8279660b370 button.colab-df-convert');\n",
       "      buttonEl.style.display =\n",
       "        google.colab.kernel.accessAllowed ? 'block' : 'none';\n",
       "\n",
       "      async function convertToInteractive(key) {\n",
       "        const element = document.querySelector('#df-765b7841-0efb-48fa-a28f-f8279660b370');\n",
       "        const dataTable =\n",
       "          await google.colab.kernel.invokeFunction('convertToInteractive',\n",
       "                                                    [key], {});\n",
       "        if (!dataTable) return;\n",
       "\n",
       "        const docLinkHtml = 'Like what you see? Visit the ' +\n",
       "          '<a target=\"_blank\" href=https://colab.research.google.com/notebooks/data_table.ipynb>data table notebook</a>'\n",
       "          + ' to learn more about interactive tables.';\n",
       "        element.innerHTML = '';\n",
       "        dataTable['output_type'] = 'display_data';\n",
       "        await google.colab.output.renderOutput(dataTable, element);\n",
       "        const docLink = document.createElement('div');\n",
       "        docLink.innerHTML = docLinkHtml;\n",
       "        element.appendChild(docLink);\n",
       "      }\n",
       "    </script>\n",
       "  </div>\n",
       "\n",
       "\n",
       "<div id=\"df-e9cbd17f-9490-490f-9996-6ad72558122e\">\n",
       "  <button class=\"colab-df-quickchart\" onclick=\"quickchart('df-e9cbd17f-9490-490f-9996-6ad72558122e')\"\n",
       "            title=\"Suggest charts.\"\n",
       "            style=\"display:none;\">\n",
       "\n",
       "<svg xmlns=\"http://www.w3.org/2000/svg\" height=\"24px\"viewBox=\"0 0 24 24\"\n",
       "     width=\"24px\">\n",
       "    <g>\n",
       "        <path d=\"M19 3H5c-1.1 0-2 .9-2 2v14c0 1.1.9 2 2 2h14c1.1 0 2-.9 2-2V5c0-1.1-.9-2-2-2zM9 17H7v-7h2v7zm4 0h-2V7h2v10zm4 0h-2v-4h2v4z\"/>\n",
       "    </g>\n",
       "</svg>\n",
       "  </button>\n",
       "\n",
       "<style>\n",
       "  .colab-df-quickchart {\n",
       "      --bg-color: #E8F0FE;\n",
       "      --fill-color: #1967D2;\n",
       "      --hover-bg-color: #E2EBFA;\n",
       "      --hover-fill-color: #174EA6;\n",
       "      --disabled-fill-color: #AAA;\n",
       "      --disabled-bg-color: #DDD;\n",
       "  }\n",
       "\n",
       "  [theme=dark] .colab-df-quickchart {\n",
       "      --bg-color: #3B4455;\n",
       "      --fill-color: #D2E3FC;\n",
       "      --hover-bg-color: #434B5C;\n",
       "      --hover-fill-color: #FFFFFF;\n",
       "      --disabled-bg-color: #3B4455;\n",
       "      --disabled-fill-color: #666;\n",
       "  }\n",
       "\n",
       "  .colab-df-quickchart {\n",
       "    background-color: var(--bg-color);\n",
       "    border: none;\n",
       "    border-radius: 50%;\n",
       "    cursor: pointer;\n",
       "    display: none;\n",
       "    fill: var(--fill-color);\n",
       "    height: 32px;\n",
       "    padding: 0;\n",
       "    width: 32px;\n",
       "  }\n",
       "\n",
       "  .colab-df-quickchart:hover {\n",
       "    background-color: var(--hover-bg-color);\n",
       "    box-shadow: 0 1px 2px rgba(60, 64, 67, 0.3), 0 1px 3px 1px rgba(60, 64, 67, 0.15);\n",
       "    fill: var(--button-hover-fill-color);\n",
       "  }\n",
       "\n",
       "  .colab-df-quickchart-complete:disabled,\n",
       "  .colab-df-quickchart-complete:disabled:hover {\n",
       "    background-color: var(--disabled-bg-color);\n",
       "    fill: var(--disabled-fill-color);\n",
       "    box-shadow: none;\n",
       "  }\n",
       "\n",
       "  .colab-df-spinner {\n",
       "    border: 2px solid var(--fill-color);\n",
       "    border-color: transparent;\n",
       "    border-bottom-color: var(--fill-color);\n",
       "    animation:\n",
       "      spin 1s steps(1) infinite;\n",
       "  }\n",
       "\n",
       "  @keyframes spin {\n",
       "    0% {\n",
       "      border-color: transparent;\n",
       "      border-bottom-color: var(--fill-color);\n",
       "      border-left-color: var(--fill-color);\n",
       "    }\n",
       "    20% {\n",
       "      border-color: transparent;\n",
       "      border-left-color: var(--fill-color);\n",
       "      border-top-color: var(--fill-color);\n",
       "    }\n",
       "    30% {\n",
       "      border-color: transparent;\n",
       "      border-left-color: var(--fill-color);\n",
       "      border-top-color: var(--fill-color);\n",
       "      border-right-color: var(--fill-color);\n",
       "    }\n",
       "    40% {\n",
       "      border-color: transparent;\n",
       "      border-right-color: var(--fill-color);\n",
       "      border-top-color: var(--fill-color);\n",
       "    }\n",
       "    60% {\n",
       "      border-color: transparent;\n",
       "      border-right-color: var(--fill-color);\n",
       "    }\n",
       "    80% {\n",
       "      border-color: transparent;\n",
       "      border-right-color: var(--fill-color);\n",
       "      border-bottom-color: var(--fill-color);\n",
       "    }\n",
       "    90% {\n",
       "      border-color: transparent;\n",
       "      border-bottom-color: var(--fill-color);\n",
       "    }\n",
       "  }\n",
       "</style>\n",
       "\n",
       "  <script>\n",
       "    async function quickchart(key) {\n",
       "      const quickchartButtonEl =\n",
       "        document.querySelector('#' + key + ' button');\n",
       "      quickchartButtonEl.disabled = true;  // To prevent multiple clicks.\n",
       "      quickchartButtonEl.classList.add('colab-df-spinner');\n",
       "      try {\n",
       "        const charts = await google.colab.kernel.invokeFunction(\n",
       "            'suggestCharts', [key], {});\n",
       "      } catch (error) {\n",
       "        console.error('Error during call to suggestCharts:', error);\n",
       "      }\n",
       "      quickchartButtonEl.classList.remove('colab-df-spinner');\n",
       "      quickchartButtonEl.classList.add('colab-df-quickchart-complete');\n",
       "    }\n",
       "    (() => {\n",
       "      let quickchartButtonEl =\n",
       "        document.querySelector('#df-e9cbd17f-9490-490f-9996-6ad72558122e button');\n",
       "      quickchartButtonEl.style.display =\n",
       "        google.colab.kernel.accessAllowed ? 'block' : 'none';\n",
       "    })();\n",
       "  </script>\n",
       "</div>\n",
       "    </div>\n",
       "  </div>\n"
      ],
      "text/plain": [
       "           Precision  Exactitud  Sensibilidad\n",
       "Modelo 1    0.776216   0.757367      0.946788\n",
       "Modelo 2    0.769267   0.755314      0.962898\n",
       "Modelo 3    0.749743   0.749743      1.000000\n",
       "Modelo 4    0.751796   0.751796      1.000000\n",
       "Modelo 5    0.770229   0.745932      0.941441\n",
       "Modelo 6    0.640229   0.640229      1.000000\n",
       "Modelo 7    0.632062   0.630699      0.992799\n",
       "Modelo 8    0.630688   0.629380      0.995352\n",
       "Modelo 9    0.293103   0.692714      0.008205\n",
       "Modelo 10   0.640029   0.639056      0.996334"
      ]
     },
     "execution_count": 720,
     "metadata": {},
     "output_type": "execute_result"
    }
   ],
   "source": [
    "coeficientes = pd.DataFrame({'Precision': [precision, precision2, precision3, precision4, precision5, precision6, precision7, precision8, precision9, precision10],\n",
    "                             'Exactitud': [exactitud, exactitud2, exactitud3, exactitud4, exactitud5, exactitud6, exactitud7, exactitud8, exactitud9, exactitud10],\n",
    "                             'Sensibilidad': [sensibilidad, sensibilidad2, sensibilidad3, sensibilidad4, sensibilidad5, sensibilidad6, sensibilidad7, sensibilidad8, sensibilidad9, sensibilidad10],})\n",
    "indice = ['Modelo 1', 'Modelo 2', 'Modelo 3', 'Modelo 4', 'Modelo 5', 'Modelo 6', 'Modelo 7', 'Modelo 8', 'Modelo 9', 'Modelo 10']\n",
    "coeficientes.index = indice\n",
    "coeficientes"
   ]
  }
 ],
 "metadata": {
  "colab": {
   "provenance": []
  },
  "kernelspec": {
   "display_name": "Python 3 (ipykernel)",
   "language": "python",
   "name": "python3"
  },
  "language_info": {
   "codemirror_mode": {
    "name": "ipython",
    "version": 3
   },
   "file_extension": ".py",
   "mimetype": "text/x-python",
   "name": "python",
   "nbconvert_exporter": "python",
   "pygments_lexer": "ipython3",
   "version": "3.10.9"
  }
 },
 "nbformat": 4,
 "nbformat_minor": 1
}
